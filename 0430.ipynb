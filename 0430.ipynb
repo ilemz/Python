{
  "cells": [
    {
      "cell_type": "code",
      "execution_count": null,
      "metadata": {
        "colab": {
          "base_uri": "https://localhost:8080/",
          "height": 35
        },
        "id": "HiyLUJSYh6-A",
        "outputId": "737260bc-6ab0-431e-e443-8af26f402659"
      },
      "outputs": [
        {
          "output_type": "execute_result",
          "data": {
            "text/plain": [
              "'seoul'"
            ],
            "application/vnd.google.colaboratory.intrinsic+json": {
              "type": "string"
            }
          },
          "metadata": {},
          "execution_count": 10
        }
      ],
      "source": [
        "capitals = {\"korea\" : \"seoul\", \"usa\" : \"washington\", \"uk\" : \"london\"}\n",
        "\n",
        "capitals[\"korea\"]"
      ]
    },
    {
      "cell_type": "code",
      "execution_count": null,
      "metadata": {
        "colab": {
          "base_uri": "https://localhost:8080/",
          "height": 147
        },
        "id": "hnTL2ca7mejP",
        "outputId": "630b373d-0138-4eeb-b85e-34105753cf1b"
      },
      "outputs": [
        {
          "ename": "KeyError",
          "evalue": "'france'",
          "output_type": "error",
          "traceback": [
            "\u001b[0;31m---------------------------------------------------------------------------\u001b[0m",
            "\u001b[0;31mKeyError\u001b[0m                                  Traceback (most recent call last)",
            "\u001b[0;32m<ipython-input-2-57d4598596b4>\u001b[0m in \u001b[0;36m<cell line: 1>\u001b[0;34m()\u001b[0m\n\u001b[0;32m----> 1\u001b[0;31m \u001b[0mcapitals\u001b[0m\u001b[0;34m[\u001b[0m\u001b[0;34m\"france\"\u001b[0m\u001b[0;34m]\u001b[0m\u001b[0;34m\u001b[0m\u001b[0;34m\u001b[0m\u001b[0m\n\u001b[0m",
            "\u001b[0;31mKeyError\u001b[0m: 'france'"
          ]
        }
      ],
      "source": [
        "capitals[\"france\"]"
      ]
    },
    {
      "cell_type": "code",
      "execution_count": null,
      "metadata": {
        "colab": {
          "base_uri": "https://localhost:8080/",
          "height": 35
        },
        "id": "Y3yNoidmmhne",
        "outputId": "d10444b2-ceea-40e7-b398-f6413ef0704c"
      },
      "outputs": [
        {
          "data": {
            "application/vnd.google.colaboratory.intrinsic+json": {
              "type": "string"
            },
            "text/plain": [
              "'none'"
            ]
          },
          "execution_count": 3,
          "metadata": {},
          "output_type": "execute_result"
        }
      ],
      "source": [
        "capitals.get(\"france\", \"none\")"
      ]
    },
    {
      "cell_type": "code",
      "execution_count": null,
      "metadata": {
        "colab": {
          "base_uri": "https://localhost:8080/"
        },
        "id": "QfwScWS2nDvQ",
        "outputId": "32aa3aa0-f8da-44a6-e238-26e5f982c28c"
      },
      "outputs": [
        {
          "name": "stdout",
          "output_type": "stream",
          "text": [
            "none\n"
          ]
        }
      ],
      "source": [
        "if \"france\" in capitals:\n",
        "    print(\"yes\")\n",
        "\n",
        "else:\n",
        "    print(\"none\")"
      ]
    },
    {
      "cell_type": "code",
      "execution_count": null,
      "metadata": {
        "colab": {
          "base_uri": "https://localhost:8080/"
        },
        "id": "W2QRprk9ncGA",
        "outputId": "3c05bb7b-5b7e-4939-da50-372639908664"
      },
      "outputs": [
        {
          "output_type": "stream",
          "name": "stdout",
          "text": [
            "{'korea': 'seoul', 'usa': 'washington', 'uk': 'london', 'france': 'paris'}\n"
          ]
        }
      ],
      "source": [
        "capitals[\"france\"] = \"paris\"\n",
        "capitals.get(\"france\", \"none\")\n",
        "print(capitals)"
      ]
    },
    {
      "cell_type": "code",
      "execution_count": null,
      "metadata": {
        "colab": {
          "base_uri": "https://localhost:8080/"
        },
        "id": "lx0ZSmb5nhKX",
        "outputId": "86bae90a-e5dc-404f-fec9-489ac82f8edb"
      },
      "outputs": [
        {
          "output_type": "stream",
          "name": "stdout",
          "text": [
            "{'korea': 'seoul', 'usa': 'washington', 'uk': 'london', 'france': 'paris', 'germany': 'berin', 'japan': 'tokyo'}\n"
          ]
        }
      ],
      "source": [
        "capitals.update({\"germany\" : \"berin\", \"japan\" : \"tokyo\"})\n",
        "print(capitals)"
      ]
    },
    {
      "cell_type": "code",
      "execution_count": null,
      "metadata": {
        "colab": {
          "base_uri": "https://localhost:8080/"
        },
        "id": "xUqBd3QOo3Sd",
        "outputId": "6446dd8e-8da3-45e3-b79e-d8afc1dd4ff3"
      },
      "outputs": [
        {
          "output_type": "stream",
          "name": "stdout",
          "text": [
            "{'korea': 'seoul', 'usa': 'washington', 'france': 'paris', 'germany': 'berin', 'japan': 'tokyo'}\n"
          ]
        }
      ],
      "source": [
        "if \"uk\" in capitals:\n",
        "    capitals.pop(\"uk\")\n",
        "\n",
        "print(capitals)"
      ]
    },
    {
      "cell_type": "code",
      "execution_count": null,
      "metadata": {
        "id": "oaqsC14-oPle",
        "colab": {
          "base_uri": "https://localhost:8080/"
        },
        "outputId": "aefd20f3-1cce-4765-bf0b-8b0f3ca42c31"
      },
      "outputs": [
        {
          "output_type": "stream",
          "name": "stdout",
          "text": [
            "korea usa france germany japan korea : seoul\n",
            "usa : washington\n",
            "france : paris\n",
            "germany : berin\n",
            "japan : tokyo\n"
          ]
        }
      ],
      "source": [
        "for key in capitals:\n",
        "    print(key, end = \" \")\n",
        "\n",
        "for key in capitals:\n",
        "    print(key, \":\", capitals[key])"
      ]
    },
    {
      "cell_type": "code",
      "source": [
        "values = [1, 2, 3, 4, 5, 6]\n",
        "\n",
        "dic = {x:x**2 for x in values if x%2 == 0}\n",
        "\n",
        "print(dic)"
      ],
      "metadata": {
        "colab": {
          "base_uri": "https://localhost:8080/"
        },
        "id": "UMRaZ00lqxG1",
        "outputId": "affa367f-f610-46bd-fba3-444319cab491"
      },
      "execution_count": null,
      "outputs": [
        {
          "output_type": "stream",
          "name": "stdout",
          "text": [
            "{2: 4, 4: 16, 6: 36}\n"
          ]
        }
      ]
    },
    {
      "cell_type": "code",
      "source": [
        "english_dict = {}\n",
        "english_dict[\"one\"] = \"하나\"\n",
        "english_dict[\"two\"] = \"둘\"\n",
        "english_dict[\"three\" ] = \"셋\"\n",
        "\n",
        "word = input(\"단어를 입력 : \")\n",
        "print(english_dict[word])"
      ],
      "metadata": {
        "colab": {
          "base_uri": "https://localhost:8080/"
        },
        "id": "FOIWkD6qtG52",
        "outputId": "646dd65c-5135-41c5-a171-0579aa565a70"
      },
      "execution_count": null,
      "outputs": [
        {
          "output_type": "stream",
          "name": "stdout",
          "text": [
            "단어를 입력 : one\n",
            "하나\n"
          ]
        }
      ]
    },
    {
      "cell_type": "code",
      "source": [
        "diction = {}\n",
        "word = \"\"\n",
        "meaning = \"\"\n",
        "num = 0\n",
        "\n",
        "while(num != 3):\n",
        "\n",
        "    print(\"1. 단어 추가\\n2. 단어 검색 \\n3. 종료\")\n",
        "    num = int(input(\"메뉴를 선택하세요 : \"))\n",
        "\n",
        "    if num == 1:\n",
        "        word = input(\"추가할 영어 단어를 입력하세요 : \")\n",
        "        meaning = input(\"한글 뜻을 입력하세요 : \")\n",
        "\n",
        "        diction[word] = meaning\n",
        "\n",
        "        print(\"단어가 추가되었습니다.\")\n",
        "\n",
        "    elif num == 2:\n",
        "        word = input(\"검색할 단어를 입력하세요 : \")\n",
        "        print(word + \"는 \" + diction.get(word, \"존재하지 않습니다.\"))\n",
        "\n",
        "    else:\n",
        "        print(\"다시 입력해주세요.\")\n",
        "\n",
        "print(\"프로그램을 종료합니다.\")"
      ],
      "metadata": {
        "colab": {
          "base_uri": "https://localhost:8080/"
        },
        "id": "BW0NjzkfyGfE",
        "outputId": "a1e3df28-6c95-4c41-b5cc-12b6cca1f81e"
      },
      "execution_count": null,
      "outputs": [
        {
          "output_type": "stream",
          "name": "stdout",
          "text": [
            "1. 단어 추가\n",
            "2. 단어 검색 \n",
            "3. 종료\n",
            "메뉴를 선택하세요 : 1\n",
            "추가할 영어 단어를 입력하세요 : apple\n",
            "한글 뜻을 입력하세요 : 사과\n",
            "단어가 추가되었습니다.\n",
            "1. 단어 추가\n",
            "2. 단어 검색 \n",
            "3. 종료\n",
            "메뉴를 선택하세요 : 2\n",
            "검색할 단어를 입력하세요 : apple\n",
            "apple는 사과\n",
            "1. 단어 추가\n",
            "2. 단어 검색 \n",
            "3. 종료\n",
            "메뉴를 선택하세요 : 2\n",
            "검색할 단어를 입력하세요 : tree\n",
            "tree는 존재하지 않습니다.\n",
            "1. 단어 추가\n",
            "2. 단어 검색 \n",
            "3. 종료\n",
            "메뉴를 선택하세요 : 3\n",
            "프로그램을 종료합니다.\n"
          ]
        }
      ]
    },
    {
      "cell_type": "code",
      "source": [
        "class Student:\n",
        "    def __init__(self, name = None, num = \"\", sel = 0, book = {}):\n",
        "        self.__name = name\n",
        "        self.__num = num\n",
        "        self.__sel = sel\n",
        "        self.__book = book\n",
        "\n",
        "    def getBook(self, book, name):\n",
        "        print(name + \"는 \" + book.get(name, \"존재하지 않습니다.\"))\n",
        "\n",
        "        return\n",
        "\n",
        "    def makeBook(self, name, num):\n",
        "        book[name] = num\n",
        "\n",
        "        return book\n",
        "\n",
        "    def getName(self):\n",
        "        name = input(\"이름 : \")\n",
        "\n",
        "        return name\n",
        "\n",
        "    def getNum(self):\n",
        "        num = input(\"전화번호 : \")\n",
        "\n",
        "        return num\n",
        "\n",
        "    def getSel(self):\n",
        "        print(\"1. 연락처 추가\\n2. 연락처 삭제\\n3. 연락처 검색\\n4. 연락처 출력\\n5. 연락처 수정\\n6. 종료\")\n",
        "        sel = int(input(\"메뉴 항목을 선택하시오 : \"))\n",
        "\n",
        "        return sel\n",
        "\n",
        "    def getDel(self, book):\n",
        "        name = input(\"삭제할 연락처의 이름을 입력하시오 : \")\n",
        "        if name in book:\n",
        "            book.pop(name)\n",
        "            print(name + \" 삭제 완료\")\n",
        "\n",
        "        else:\n",
        "            print(\"존재하지 않는 연락처입니다.\")\n",
        "\n",
        "        return book\n",
        "\n",
        "    def getDif(self, name, book):\n",
        "        n_num = input(\"바꿀 \" + name + \"의 연락처를 입력하시오 : \")\n",
        "        book[name] = n_num\n",
        "\n",
        "        return book\n",
        "\n",
        "a = Student()\n",
        "sel = 0\n",
        "book = {}\n",
        "while (sel != 6):\n",
        "    sel = a.getSel()\n",
        "    if sel == 1:\n",
        "        name = a.getName()\n",
        "        num = a.getNum()\n",
        "        book.update({name : num})\n",
        "\n",
        "    elif sel == 2:\n",
        "        a.getDel(book)\n",
        "        book.update(book)\n",
        "\n",
        "    elif sel == 3:\n",
        "        g_name = a.getName()\n",
        "        a.getBook(book, g_name)\n",
        "\n",
        "    elif sel == 4:\n",
        "        print(book)\n",
        "\n",
        "    elif sel == 5:\n",
        "        d_name = a.getName()\n",
        "        a.getDif(d_name, book)\n",
        "\n",
        "    else:\n",
        "        print(\"다시 입력해주세요\")\n",
        "\n",
        "print(\"종료되었습니다\")"
      ],
      "metadata": {
        "colab": {
          "base_uri": "https://localhost:8080/"
        },
        "id": "l285xmWR0KDF",
        "outputId": "0bedb2ca-a36b-4bfc-8f3e-033991eb3dff"
      },
      "execution_count": null,
      "outputs": [
        {
          "output_type": "stream",
          "name": "stdout",
          "text": [
            "1. 연락처 추가\n",
            "2. 연락처 삭제\n",
            "3. 연락처 검색\n",
            "4. 연락처 출력\n",
            "5. 연락처 수정\n",
            "6. 종료\n",
            "메뉴 항목을 선택하시오 : 1\n",
            "이름 : rla\n",
            "전화번호 : 111\n",
            "1. 연락처 추가\n",
            "2. 연락처 삭제\n",
            "3. 연락처 검색\n",
            "4. 연락처 출력\n",
            "5. 연락처 수정\n",
            "6. 종료\n",
            "메뉴 항목을 선택하시오 : 5\n",
            "이름 : rla\n",
            "바꿀 rla의 연락처를 입력하시오 : 222\n",
            "1. 연락처 추가\n",
            "2. 연락처 삭제\n",
            "3. 연락처 검색\n",
            "4. 연락처 출력\n",
            "5. 연락처 수정\n",
            "6. 종료\n",
            "메뉴 항목을 선택하시오 : 4\n",
            "{'rla': '222'}\n",
            "1. 연락처 추가\n",
            "2. 연락처 삭제\n",
            "3. 연락처 검색\n",
            "4. 연락처 출력\n",
            "5. 연락처 수정\n",
            "6. 종료\n",
            "메뉴 항목을 선택하시오 : 6\n",
            "다시 입력해주세요\n",
            "종료되었습니다\n"
          ]
        }
      ]
    },
    {
      "cell_type": "code",
      "source": [
        "text_data = \"create the highest grandest vision\"\n",
        "\n",
        "word_dic = {}\n",
        "for w in text_data.split():\n",
        "    if w in word_dic:\n",
        "        word_dic[w] += 1\n",
        "\n",
        "    else:\n",
        "        word_dic[w] = 1\n",
        "\n",
        "for w, c in word_dic.items():\n",
        "    print(w, \" 의 횟수는 \", c, \"번\")"
      ],
      "metadata": {
        "colab": {
          "base_uri": "https://localhost:8080/"
        },
        "id": "YaCnsEYsEgky",
        "outputId": "eea3767d-ea42-454b-aa1e-3c900fd86c55"
      },
      "execution_count": null,
      "outputs": [
        {
          "output_type": "stream",
          "name": "stdout",
          "text": [
            "create  의 횟수는  1 번\n",
            "the  의 횟수는  1 번\n",
            "highest  의 횟수는  1 번\n",
            "grandest  의 횟수는  1 번\n",
            "vision  의 횟수는  1 번\n"
          ]
        }
      ]
    },
    {
      "cell_type": "code",
      "source": [],
      "metadata": {
        "id": "C1NoUD6hCHvI"
      },
      "execution_count": null,
      "outputs": []
    }
  ],
  "metadata": {
    "colab": {
      "provenance": [],
      "authorship_tag": "ABX9TyNz6T98tprGBX8R9MNmCi3q"
    },
    "kernelspec": {
      "display_name": "Python 3",
      "name": "python3"
    },
    "language_info": {
      "name": "python"
    }
  },
  "nbformat": 4,
  "nbformat_minor": 0
}