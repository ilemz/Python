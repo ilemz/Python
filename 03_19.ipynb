{
  "nbformat": 4,
  "nbformat_minor": 0,
  "metadata": {
    "colab": {
      "provenance": [],
      "authorship_tag": "ABX9TyNRbmpNkcgLnI1QSaVjLjvg"
    },
    "kernelspec": {
      "name": "python3",
      "display_name": "Python 3"
    },
    "language_info": {
      "name": "python"
    }
  },
  "cells": [
    {
      "cell_type": "code",
      "execution_count": null,
      "metadata": {
        "colab": {
          "base_uri": "https://localhost:8080/"
        },
        "id": "HMGiRnqtQF8y",
        "outputId": "21e563fc-2ca3-4967-990a-d712d7d6d706"
      },
      "outputs": [
        {
          "output_type": "stream",
          "name": "stdout",
          "text": [
            "상품의 가격 : 15000\n",
            "배송비는 3000원입니다.\n"
          ]
        }
      ],
      "source": [
        "price = int(input(\"상품의 가격 : \"))\n",
        "\n",
        "if price > 20000 :\n",
        "    shippingcoast = 0\n",
        "else :\n",
        "    shippingcoast = 3000\n",
        "\n",
        "print(\"배송비는 %d원입니다.\" %shippingcoast)"
      ]
    },
    {
      "cell_type": "code",
      "source": [
        "x = 100\n",
        "y = 200\n",
        "\n",
        "print(f\"{x}와 {y}의 합 = {x+y}\")"
      ],
      "metadata": {
        "id": "5EQ5DYMlTgha",
        "colab": {
          "base_uri": "https://localhost:8080/"
        },
        "outputId": "b2aa4db3-aa16-4d46-96ed-81f5b9801a4d"
      },
      "execution_count": null,
      "outputs": [
        {
          "output_type": "stream",
          "name": "stdout",
          "text": [
            "100와 200의 합 = 300\n"
          ]
        }
      ]
    },
    {
      "cell_type": "code",
      "source": [
        "price = int(input(\"상품의 가격 : \"))\n",
        "expensive = price > 20000\n",
        "\n",
        "if expensive :\n",
        "    shippingcoast = 0\n",
        "else :\n",
        "    shippingcoast = 3000\n",
        "\n",
        "print(f\"배송비는 {shippingcoast}원입니다.\")"
      ],
      "metadata": {
        "colab": {
          "base_uri": "https://localhost:8080/"
        },
        "id": "cf6wyQShUYAK",
        "outputId": "4b7cdea2-e228-44e3-92d4-08c2846c7f4e"
      },
      "execution_count": null,
      "outputs": [
        {
          "output_type": "stream",
          "name": "stdout",
          "text": [
            "상품의 가격 : 20000\n",
            "배송비는 3000원입니다.\n"
          ]
        }
      ]
    },
    {
      "cell_type": "code",
      "source": [
        "import random\n",
        "\n",
        "x = random.randint(1, 100)\n",
        "y = random.randint(1, 100)\n",
        "\n",
        "answer = int(input(f\"{x} + {y} = \"))\n",
        "\n",
        "flag = (answer == (x + y))\n",
        "\n",
        "print(flag)"
      ],
      "metadata": {
        "colab": {
          "base_uri": "https://localhost:8080/"
        },
        "id": "FVR8RuaGVX2C",
        "outputId": "902aa3ae-0887-461b-87b7-d366b112193b"
      },
      "execution_count": null,
      "outputs": [
        {
          "output_type": "stream",
          "name": "stdout",
          "text": [
            "11 + 19 = 30\n",
            "True\n"
          ]
        }
      ]
    },
    {
      "cell_type": "code",
      "source": [
        "shippingcoast = ( 0 if price >= 20000 else 30000)\n",
        "\n",
        "absolutevalue = (x if x > 0 else -x)\n",
        "\n",
        "maxvalue = ( x if x > y else y)\n",
        "minvalue = (x if x < y else y)"
      ],
      "metadata": {
        "id": "B91y0QILWI5L"
      },
      "execution_count": null,
      "outputs": []
    },
    {
      "cell_type": "code",
      "source": [
        "x = int(input(\"첫 번째 수 : \"))\n",
        "y = int(input(\"두 번째 수 : \"))\n",
        "\n",
        "maxvalue = ( x if x > y else y)\n",
        "minvalue = (x if x < y else y)\n",
        "\n",
        "print(\"큰 수 = \", maxvalue, \"작은 수 = \", minvalue)"
      ],
      "metadata": {
        "colab": {
          "base_uri": "https://localhost:8080/"
        },
        "id": "aECtS8EzX5oq",
        "outputId": "2d5acef3-c834-415a-89c9-2550b37dd008"
      },
      "execution_count": null,
      "outputs": [
        {
          "output_type": "stream",
          "name": "stdout",
          "text": [
            "첫 번째 수 : 10\n",
            "두 번째 수 : 20\n",
            "큰 수 =  20 작은 수 =  10\n"
          ]
        }
      ]
    },
    {
      "cell_type": "code",
      "source": [
        "price = int(input(\"정가를 입력하시오 : \"))\n",
        "\n",
        "if price >= 100 :\n",
        "    sale = price - (price*15)/100\n",
        "    dum = '10층에서 사은품을 가져가세요'\n",
        "\n",
        "else :\n",
        "    sale = price - (price*10)/100\n",
        "    dum = ''\n",
        "\n",
        "print(f\"{dum} \\n할인 된 가격 : {sale}\")"
      ],
      "metadata": {
        "colab": {
          "base_uri": "https://localhost:8080/"
        },
        "id": "BxbQTsKJYTS6",
        "outputId": "e3bae83d-c20a-482a-b051-2146ee95406e"
      },
      "execution_count": null,
      "outputs": [
        {
          "output_type": "stream",
          "name": "stdout",
          "text": [
            "정가를 입력하시오 : 80\n",
            " \n",
            "할인 된 가격 : 72.0\n"
          ]
        }
      ]
    },
    {
      "cell_type": "code",
      "source": [
        "temp = float(input(\"온도를 입력하시오 : \"))\n",
        "\n",
        "if temp <= 0 :\n",
        "    print(\"물의 상태는 얼음입니다.\")\n",
        "\n",
        "elif temp > 0 and temp < 100 :\n",
        "    print(\"물의 상태는 액체입니다.\")\n",
        "\n",
        "else :\n",
        "    print(\"울의 상태는 기체입니다.\")"
      ],
      "metadata": {
        "colab": {
          "base_uri": "https://localhost:8080/"
        },
        "id": "jJe_whyPaAsa",
        "outputId": "76a262e5-7cc1-4d65-bb12-02842222bb27"
      },
      "execution_count": null,
      "outputs": [
        {
          "output_type": "stream",
          "name": "stdout",
          "text": [
            "온도를 입력하시오 : 0\n",
            "물의 상태는 얼음입니다.\n"
          ]
        }
      ]
    },
    {
      "cell_type": "code",
      "source": [
        "import random\n",
        "\n",
        "print(\"동전 던지기 게임을 시작합니다. \")\n",
        "\n",
        "coin = random.randrange(2)\n",
        "\n",
        "if coin == 0 :\n",
        "    print(\"앞면입니다.\")\n",
        "else :\n",
        "    print(\"뒷면입니다.\")\n",
        "\n",
        "print(\"게임이 종료되었습니다.\")"
      ],
      "metadata": {
        "colab": {
          "base_uri": "https://localhost:8080/"
        },
        "id": "kQz-N9rSdvQD",
        "outputId": "86dc98f0-1b09-40f4-a393-41ee41e02f3d"
      },
      "execution_count": null,
      "outputs": [
        {
          "output_type": "stream",
          "name": "stdout",
          "text": [
            "동전 던지기 게임을 시작합니다. \n",
            "앞면입니다.\n",
            "게임이 종료되었습니다.\n"
          ]
        }
      ]
    },
    {
      "cell_type": "code",
      "source": [
        "country = input(\"배송지(현재는 한국과 미국만 가능) : \")\n",
        "\n",
        "price = int(input(\"상품의 가격 : \"))\n",
        "\n",
        "shippingcoast = 0\n",
        "\n",
        "if country == '한국' and price < 20000:\n",
        "    shippingcoast = 3000\n",
        "\n",
        "elif country == '미국' and price < 100000:\n",
        "    shippingcoast = 8000\n",
        "\n",
        "else :\n",
        "    shippingcoast = 0\n",
        "\n",
        "print(\"배송비 = \", shippingcoast)"
      ],
      "metadata": {
        "colab": {
          "base_uri": "https://localhost:8080/"
        },
        "id": "PuPHZ0Sze8bj",
        "outputId": "5e7b425e-9752-4e18-962c-b63056a20403"
      },
      "execution_count": null,
      "outputs": [
        {
          "output_type": "stream",
          "name": "stdout",
          "text": [
            "배송지(현재는 한국과 미국만 가능) : 미국\n",
            "상품의 가격 : 100000\n",
            "배송비 =  0\n"
          ]
        }
      ]
    },
    {
      "cell_type": "code",
      "source": [
        "import random\n",
        "\n",
        "print(\"행운의 매직볼로 오늘의 운세를 출력합니다. \")\n",
        "\n",
        "answers = random.randint(1, 8)\n",
        "\n",
        "if answers == 1 :\n",
        "    print(\"확실히 이루어집니다.\")\n",
        "\n",
        "elif answers == 2 :\n",
        "    print(\"좋아 보이네요.\")\n",
        "\n",
        "elif answers == 3 :\n",
        "    print(\"믿으셔도 됩니다.\")\n",
        "\n",
        "elif answers == 4 :\n",
        "    print(\"제 생각엔 No입니다.\")\n",
        "\n",
        "else :\n",
        "    print(\"다시 질문해주세요.\")"
      ],
      "metadata": {
        "colab": {
          "base_uri": "https://localhost:8080/"
        },
        "id": "EO1x4ZZ2f8jA",
        "outputId": "2f8a500e-d5fe-4147-c07a-d5eb81c41832"
      },
      "execution_count": null,
      "outputs": [
        {
          "output_type": "stream",
          "name": "stdout",
          "text": [
            "행운의 매직볼로 오늘의 운세를 출력합니다. \n",
            "다시 질문해주세요.\n"
          ]
        }
      ]
    },
    {
      "cell_type": "code",
      "source": [
        "print(\"====================\")\n",
        "print(\"메뉴 1번 : 치즈 버거\")\n",
        "print(\"메뉴 2번 : 치킨 버거\")\n",
        "print(\"메뉴 3번 : 불고기 버거\")\n",
        "print(\"====================\")\n",
        "\n",
        "want = int(input(\"메뉴를 선택하세요 : \"))\n",
        "\n",
        "if want == 1 :\n",
        "    print(\"치즈버거 입니다.\")\n",
        "\n",
        "elif want == 2 :\n",
        "    print(\"치킨버거 입니다.\")\n",
        "\n",
        "elif want == 3 :\n",
        "    print(\"불고기버거 입니다.\")\n",
        "\n",
        "else :\n",
        "    print(\"잘못 입력하셨습니다.\")\n"
      ],
      "metadata": {
        "colab": {
          "base_uri": "https://localhost:8080/"
        },
        "id": "jtJfOAwPiAfA",
        "outputId": "263a74b5-6fad-4dad-abe7-dc3e34c74115"
      },
      "execution_count": null,
      "outputs": [
        {
          "output_type": "stream",
          "name": "stdout",
          "text": [
            "====================\n",
            "메뉴 1번 : 치즈 버거\n",
            "메뉴 2번 : 치킨 버거\n",
            "메뉴 3번 : 불고기 버거\n",
            "====================\n",
            "메뉴를 선택하세요 : 5\n",
            "잘못 입력하셨습니다.\n"
          ]
        }
      ]
    },
    {
      "cell_type": "code",
      "source": [
        "import random\n",
        "\n",
        "where = int(input(\"어디를 방어 하시겠습니까? \\n1. 왼쪽 \\n2. 중앙 \\n3.오른쪽 : \"))\n",
        "com = random.randint(1, 3)\n",
        "\n",
        "if where != com :\n",
        "    print(\"패널티 킥이 성공하였습니다.\")\n",
        "\n",
        "else :\n",
        "    print(\"패널티 킥이 실패하였습니다.\")"
      ],
      "metadata": {
        "colab": {
          "base_uri": "https://localhost:8080/"
        },
        "id": "YEtJMWnhiApY",
        "outputId": "ba44e2a2-aba5-4dc4-cb0d-8719c8813e16"
      },
      "execution_count": null,
      "outputs": [
        {
          "output_type": "stream",
          "name": "stdout",
          "text": [
            "어디를 방어 하시겠습니까? \n",
            "1. 왼쪽 \n",
            "2. 중앙 \n",
            " 3.오른쪽 : 2\n",
            "패널티 킥이 실패하였습니다.\n"
          ]
        }
      ]
    },
    {
      "cell_type": "code",
      "source": [
        "a = int(input(\"삼각형의 한 변을 입력하십시오 : \"))\n",
        "b = int(input(\"삼각형의 한 변을 입력하십시오 : \"))\n",
        "c = int(input(\"삼각형의 한 변을 입력하십시오 : \"))\n",
        "\n",
        "if a + b > c and c + b > a and a + c > b :\n",
        "    print(\"올바른 삼각형\")\n",
        "\n",
        "else :\n",
        "    print(\"바르지 않은 삼각형\")"
      ],
      "metadata": {
        "colab": {
          "base_uri": "https://localhost:8080/"
        },
        "id": "oWNsM_YYjxg5",
        "outputId": "01cdbfe8-24d4-4844-932a-ea825f540771"
      },
      "execution_count": null,
      "outputs": [
        {
          "output_type": "stream",
          "name": "stdout",
          "text": [
            "삼각형의 한 변을 입력하십시오 : 8\n",
            "삼각형의 한 변을 입력하십시오 : 10\n",
            "삼각형의 한 변을 입력하십시오 : 3\n",
            "올바른 삼각형\n"
          ]
        }
      ]
    },
    {
      "cell_type": "markdown",
      "source": [
        "조건문"
      ],
      "metadata": {
        "id": "6upf_UTamm-B"
      }
    },
    {
      "cell_type": "code",
      "source": [
        "a = int(input(\"정수를 입력하시오 : \"))\n",
        "b = int(input(\"정수를 입력하시오 : \"))\n",
        "\n",
        "if a%b == 0 :\n",
        "    print(\"약수입니다\")"
      ],
      "metadata": {
        "colab": {
          "base_uri": "https://localhost:8080/"
        },
        "id": "hYemfpMwm6qw",
        "outputId": "0b5fd7c7-4485-438a-fbdb-c639d5de1d07"
      },
      "execution_count": null,
      "outputs": [
        {
          "output_type": "stream",
          "name": "stdout",
          "text": [
            "정수를 입력하시오 : 18\n",
            "정수를 입력하시오 : 6\n",
            "약수입니다\n"
          ]
        }
      ]
    },
    {
      "cell_type": "code",
      "source": [
        "temp = int(input(\"현재 온도를 입력하시오 : \"))\n",
        "\n",
        "if temp >= 25 :\n",
        "    print(\"반바지를 입으세요.\")\n",
        "\n",
        "elif temp < 25 :\n",
        "    print(\"긴바지를 입으세요.\")"
      ],
      "metadata": {
        "colab": {
          "base_uri": "https://localhost:8080/"
        },
        "id": "ib8d-1zajxjg",
        "outputId": "27ad952f-da97-4709-c6d5-4e6f7c813d0f"
      },
      "execution_count": null,
      "outputs": [
        {
          "output_type": "stream",
          "name": "stdout",
          "text": [
            "현재 온도를 입력하시오 : 10\n",
            "긴바지를 입으세요.\n"
          ]
        }
      ]
    },
    {
      "cell_type": "code",
      "source": [
        "word = input(\"문자를 입력하시오 : \")\n",
        "\n",
        "if word == 'r' or word == 'R' :\n",
        "    print(\"Rectangle\")\n",
        "\n",
        "elif word == 'c' or word == 'C' :\n",
        "    print(\"Circle\")\n",
        "\n",
        "elif word == 't' or word == 'T' :\n",
        "    print(\"Triangle\")\n",
        "\n",
        "else :\n",
        "    print(\"Unknown\")"
      ],
      "metadata": {
        "colab": {
          "base_uri": "https://localhost:8080/"
        },
        "id": "TohqEBbnlX9I",
        "outputId": "0b8352e0-b0e9-46a5-c71a-9242bc4e5efa"
      },
      "execution_count": null,
      "outputs": [
        {
          "output_type": "stream",
          "name": "stdout",
          "text": [
            "문자를 입력하시오 : a\n",
            "Unknown\n"
          ]
        }
      ]
    },
    {
      "cell_type": "code",
      "source": [
        "r = int(input(\"원의 반지름 : \"))\n",
        "\n",
        "if r < 0 :\n",
        "    print(\"잘못 된 값입니다.\")\n",
        "\n",
        "else :\n",
        "    print(r*r*3.14)"
      ],
      "metadata": {
        "colab": {
          "base_uri": "https://localhost:8080/"
        },
        "id": "ij-uRB00lX_o",
        "outputId": "74d86d3e-eed7-4476-a60d-35fd3b2d2efd"
      },
      "execution_count": null,
      "outputs": [
        {
          "output_type": "stream",
          "name": "stdout",
          "text": [
            "원의 반지름 : -10\n",
            "잘못 된 값입니다.\n"
          ]
        }
      ]
    },
    {
      "cell_type": "code",
      "source": [
        "a, b, c = eval(input(\"3개의 정수를 입력하십시오 : \"))\n",
        "\n",
        "if a > b and c > b :\n",
        "    min = b\n",
        "\n",
        "elif a > c and b > c :\n",
        "    min = c\n",
        "\n",
        "else :\n",
        "    min = a\n",
        "\n",
        "print(f\"제일 작은 정수는 {min}입니다.\")"
      ],
      "metadata": {
        "colab": {
          "base_uri": "https://localhost:8080/"
        },
        "id": "Nfdx81JJlYCB",
        "outputId": "0b96dc59-3326-460e-b7d8-0310cc98de85"
      },
      "execution_count": null,
      "outputs": [
        {
          "output_type": "stream",
          "name": "stdout",
          "text": [
            "3개의 정수를 입력하십시오 : 20, 10, 30\n",
            "제일 작은 정수는 10입니다.\n"
          ]
        }
      ]
    },
    {
      "cell_type": "code",
      "source": [
        "rcp = int(input(\"선택하시오 \\n1. 가위 \\n2. 바위 \\n3.보\\n\"))\n",
        "\n",
        "com = random.randint(1, 3)\n",
        "\n",
        "print(f\"컴퓨터의 선택 : {com}\")\n",
        "\n",
        "if com == 1 and rcp == 2 :\n",
        "    win = '유저가 이겼음'\n",
        "\n",
        "elif com == 2 and rcp == 3 :\n",
        "    win = '유저가 이겼음'\n",
        "\n",
        "elif com == 3 and rcp == 1 :\n",
        "    win = '유저가 이겼음'\n",
        "\n",
        "elif com == rcp :\n",
        "    win = '무승부'\n",
        "\n",
        "else :\n",
        "    win = '컴퓨터가 이겼음'\n",
        "\n",
        "print(win)"
      ],
      "metadata": {
        "colab": {
          "base_uri": "https://localhost:8080/"
        },
        "id": "UdH9lQuHlYEQ",
        "outputId": "70d2141a-d99e-49e8-ade8-3699060e043a"
      },
      "execution_count": null,
      "outputs": [
        {
          "output_type": "stream",
          "name": "stdout",
          "text": [
            "선택하시오 \n",
            "1. 가위 \n",
            "2. 바위 \n",
            "3.보\n",
            "3\n",
            "컴퓨터의 선택 : 1\n",
            "컴퓨터가 이겼음\n"
          ]
        }
      ]
    },
    {
      "cell_type": "code",
      "source": [
        "height = int(input(\"키를 입력하세요 : \"))\n",
        "age = int(input(\"나이를 입력하세요 : \"))\n",
        "\n",
        "if height >= 140 and age >= 10 :\n",
        "    print(\"타도 좋습니다.\")\n",
        "\n",
        "else :\n",
        "    print(\"죄송합니다.\")"
      ],
      "metadata": {
        "colab": {
          "base_uri": "https://localhost:8080/"
        },
        "id": "8WZgXoE1lYGf",
        "outputId": "91f4b1de-7c6c-4a34-90b5-c2e0eea72055"
      },
      "execution_count": null,
      "outputs": [
        {
          "output_type": "stream",
          "name": "stdout",
          "text": [
            "키를 입력하세요 : 145\n",
            "나이를 입력하세요 : 111\n",
            "타도 좋습니다.\n"
          ]
        }
      ]
    },
    {
      "cell_type": "code",
      "source": [
        "weight, height = eval(input(\"체중과 키를 입혁하시오 : \"))\n",
        "\n",
        "bmi = (height - 100) * 0.9\n",
        "\n",
        "if weight > bmi :\n",
        "    print(\"과체중입니다\")\n",
        "\n",
        "elif weight < bmi :\n",
        "    print(\"저체중입니다\")\n",
        "\n",
        "else :\n",
        "    print(\"정상입니다\")"
      ],
      "metadata": {
        "colab": {
          "base_uri": "https://localhost:8080/"
        },
        "id": "pvnh-xJFlYNg",
        "outputId": "4da45183-f2b4-4f7e-ce01-96101dd856ae"
      },
      "execution_count": null,
      "outputs": [
        {
          "output_type": "stream",
          "name": "stdout",
          "text": [
            "체중과 키를 입혁하시오 : 180, 80\n",
            "과체중입니다\n"
          ]
        }
      ]
    },
    {
      "cell_type": "code",
      "source": [
        "what = random.randint(1, 4)\n",
        "number1 = random.randint(1, 10)\n",
        "number2 = random.randint(1, 10)\n",
        "\n",
        "if what == 1 :\n",
        "    what = '+'\n",
        "    t_ans = number1 + number2\n",
        "\n",
        "elif what == 2 :\n",
        "    what = '-'\n",
        "    t_ans = number1 - number2\n",
        "\n",
        "elif what == 3 :\n",
        "    what = '*'\n",
        "    t_ans = number1 * number2\n",
        "\n",
        "elif what == 4 :\n",
        "    what = '/'\n",
        "    t_ans = number1 / number2\n",
        "\n",
        "ans = int(input(f\"{number1} {what} {number2} = \"))\n",
        "\n",
        "if ans == t_ans :\n",
        "    print(\"맞았습니다.\")\n",
        "\n",
        "else :\n",
        "    print(\"틀렸습니다.\")"
      ],
      "metadata": {
        "colab": {
          "base_uri": "https://localhost:8080/"
        },
        "id": "YdO0772klYQP",
        "outputId": "ea1a9bd4-198e-47fd-a28e-e041e2c7587d"
      },
      "execution_count": null,
      "outputs": [
        {
          "output_type": "stream",
          "name": "stdout",
          "text": [
            "5 + 4 = 9\n",
            "맞았습니다.\n"
          ]
        }
      ]
    }
  ]
}