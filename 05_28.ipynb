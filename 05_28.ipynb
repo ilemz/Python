{
  "nbformat": 4,
  "nbformat_minor": 0,
  "metadata": {
    "colab": {
      "provenance": [],
      "authorship_tag": "ABX9TyMMm+1uTxHLh8HLDRKfuFiz"
    },
    "kernelspec": {
      "name": "python3",
      "display_name": "Python 3"
    },
    "language_info": {
      "name": "python"
    }
  },
  "cells": [
    {
      "cell_type": "code",
      "metadata": {
        "colab": {
          "base_uri": "https://localhost:8080/"
        },
        "id": "L1oVvSt6h-6D",
        "outputId": "1c80aa86-4515-4792-e387-6250e2891016"
      },
      "source": [
        "import pandas as pd\n",
        "\n",
        "ob = pd.Series([5.2, -4, 99, 0, 100])\n",
        "\n",
        "ob"
      ],
      "execution_count": null,
      "outputs": [
        {
          "output_type": "stream",
          "text": [
            "RangeIndex(start=0, stop=5, step=1)\n"
          ],
          "name": "stdout"
        }
      ]
    },
    {
      "cell_type": "code",
      "metadata": {
        "colab": {
          "base_uri": "https://localhost:8080/"
        },
        "id": "5ne8P_NFi8eN",
        "outputId": "5e0a38ad-bdfd-4f14-e4f7-946b553bf870"
      },
      "source": [
        "print(ob.index)\n",
        "print(ob.values)"
      ],
      "execution_count": null,
      "outputs": [
        {
          "output_type": "stream",
          "text": [
            "RangeIndex(start=0, stop=5, step=1)\n",
            "[  5.2  -4.   99.    0.  100. ]\n"
          ],
          "name": "stdout"
        }
      ]
    },
    {
      "cell_type": "code",
      "metadata": {
        "colab": {
          "base_uri": "https://localhost:8080/"
        },
        "id": "vg7hPzBDjb5Y",
        "outputId": "3dbb8ae1-2fd8-401f-d275-9327653c9a4b"
      },
      "source": [
        "print(ob[2:4])"
      ],
      "execution_count": null,
      "outputs": [
        {
          "output_type": "stream",
          "text": [
            "2    99.0\n",
            "3     0.0\n",
            "dtype: float64\n"
          ],
          "name": "stdout"
        }
      ]
    },
    {
      "cell_type": "code",
      "metadata": {
        "colab": {
          "base_uri": "https://localhost:8080/"
        },
        "id": "Zc3FkxUWjr3U",
        "outputId": "143b0997-c53c-4d9f-9421-55334bc1988b"
      },
      "source": [
        "import pandas as pd\n",
        "\n",
        "ob = pd.Series([50, -40, 99, 0, 100], index = ['서울', '대전', '광주', '부산', '속초'])\n",
        "\n",
        "print(ob.index)\n",
        "print(ob['서울'])\n",
        "print(ob[['서울', '부산']])"
      ],
      "execution_count": null,
      "outputs": [
        {
          "output_type": "stream",
          "text": [
            "Index(['서울', '대전', '광주', '부산', '속초'], dtype='object')\n",
            "50\n",
            "서울    50\n",
            "부산     0\n",
            "dtype: int64\n"
          ],
          "name": "stdout"
        }
      ]
    },
    {
      "cell_type": "code",
      "metadata": {
        "colab": {
          "base_uri": "https://localhost:8080/"
        },
        "id": "Bcz1jlwzkOVo",
        "outputId": "a524d0aa-1891-47a0-ee78-2ac0a9b4d3dd"
      },
      "source": [
        "print(ob.index)\n",
        "print(ob.values)"
      ],
      "execution_count": null,
      "outputs": [
        {
          "output_type": "stream",
          "text": [
            "Index(['서울', '대전', '광주', '부산', '속초'], dtype='object')\n",
            "[  5.2  -4.   99.    0.  100. ]\n"
          ],
          "name": "stdout"
        }
      ]
    },
    {
      "cell_type": "code",
      "metadata": {
        "colab": {
          "base_uri": "https://localhost:8080/"
        },
        "id": "QtnQcbNMkQwl",
        "outputId": "c87448ef-f367-4c86-8ee3-6929378c2c77"
      },
      "source": [
        "print(ob[2:4])"
      ],
      "execution_count": null,
      "outputs": [
        {
          "output_type": "stream",
          "text": [
            "광주    99.0\n",
            "부산     0.0\n",
            "dtype: float64\n"
          ],
          "name": "stdout"
        }
      ]
    },
    {
      "cell_type": "code",
      "metadata": {
        "colab": {
          "base_uri": "https://localhost:8080/"
        },
        "id": "ye4NKWeClH3v",
        "outputId": "e5a25a85-723e-4583-dd15-3e35c9167216"
      },
      "source": [
        "print(ob[ob>50])\n",
        "print(ob[ob<0])"
      ],
      "execution_count": null,
      "outputs": [
        {
          "output_type": "stream",
          "text": [
            "광주     99.0\n",
            "속초    100.0\n",
            "dtype: float64\n",
            "대전   -4.0\n",
            "dtype: float64\n"
          ],
          "name": "stdout"
        }
      ]
    },
    {
      "cell_type": "code",
      "metadata": {
        "colab": {
          "base_uri": "https://localhost:8080/"
        },
        "id": "Pl0Q9KHrlgzi",
        "outputId": "27a9f08f-b64a-4880-85d8-768739dba489"
      },
      "source": [
        "import pandas as pd\n",
        "\n",
        "ob = pd.Series([50, 99, 100, 99, 85], index = ['서울', '대전', '광주', '부산', '속초'])\n",
        "\n",
        "for i, v in ob.items():\n",
        "  print('%s : %d 명' %(i, v))"
      ],
      "execution_count": null,
      "outputs": [
        {
          "output_type": "stream",
          "text": [
            "서울 : 50 명\n",
            "대전 : 99 명\n",
            "광주 : 100 명\n",
            "부산 : 99 명\n",
            "속초 : 85 명\n"
          ],
          "name": "stdout"
        }
      ]
    },
    {
      "cell_type": "code",
      "metadata": {
        "colab": {
          "base_uri": "https://localhost:8080/"
        },
        "id": "aqsc1VvimKdC",
        "outputId": "612eef88-316f-4b74-ee5b-d35f475383a9"
      },
      "source": [
        "import pandas as pd\n",
        "\n",
        "ob = pd.Series({'서울' : 50, '대전' : 99, '부산' : 100}, index = ['서울', '대전', '광주', '부산', '속초'])\n",
        "\n",
        "ob"
      ],
      "execution_count": null,
      "outputs": [
        {
          "output_type": "execute_result",
          "data": {
            "text/plain": [
              "서울     50.0\n",
              "대전     99.0\n",
              "광주      NaN\n",
              "부산    100.0\n",
              "속초      NaN\n",
              "dtype: float64"
            ]
          },
          "metadata": {
            "tags": []
          },
          "execution_count": 19
        }
      ]
    },
    {
      "cell_type": "code",
      "metadata": {
        "colab": {
          "base_uri": "https://localhost:8080/",
          "height": 142
        },
        "id": "3uWmiuCzpu5z",
        "outputId": "7750de66-3218-4188-81af-9ed14eab389f"
      },
      "source": [
        "import pandas as pd\n",
        "\n",
        "data = {'이름' : ['유재석', '조세호', '양세형'], '아이디' : ['uuu', 'jjj', 'yyy'], '비밀번호' : ['1111', '2222', '3333']}\n",
        "\n",
        "df = pd.DataFrame(data)\n",
        "df"
      ],
      "execution_count": null,
      "outputs": [
        {
          "output_type": "execute_result",
          "data": {
            "text/html": [
              "<div>\n",
              "<style scoped>\n",
              "    .dataframe tbody tr th:only-of-type {\n",
              "        vertical-align: middle;\n",
              "    }\n",
              "\n",
              "    .dataframe tbody tr th {\n",
              "        vertical-align: top;\n",
              "    }\n",
              "\n",
              "    .dataframe thead th {\n",
              "        text-align: right;\n",
              "    }\n",
              "</style>\n",
              "<table border=\"1\" class=\"dataframe\">\n",
              "  <thead>\n",
              "    <tr style=\"text-align: right;\">\n",
              "      <th></th>\n",
              "      <th>이름</th>\n",
              "      <th>아이디</th>\n",
              "      <th>비밀번호</th>\n",
              "    </tr>\n",
              "  </thead>\n",
              "  <tbody>\n",
              "    <tr>\n",
              "      <th>0</th>\n",
              "      <td>유재석</td>\n",
              "      <td>uuu</td>\n",
              "      <td>1111</td>\n",
              "    </tr>\n",
              "    <tr>\n",
              "      <th>1</th>\n",
              "      <td>조세호</td>\n",
              "      <td>jjj</td>\n",
              "      <td>2222</td>\n",
              "    </tr>\n",
              "    <tr>\n",
              "      <th>2</th>\n",
              "      <td>양세형</td>\n",
              "      <td>yyy</td>\n",
              "      <td>3333</td>\n",
              "    </tr>\n",
              "  </tbody>\n",
              "</table>\n",
              "</div>"
            ],
            "text/plain": [
              "    이름  아이디  비밀번호\n",
              "0  유재석  uuu  1111\n",
              "1  조세호  jjj  2222\n",
              "2  양세형  yyy  3333"
            ]
          },
          "metadata": {
            "tags": []
          },
          "execution_count": 25
        }
      ]
    },
    {
      "cell_type": "code",
      "metadata": {
        "colab": {
          "base_uri": "https://localhost:8080/",
          "height": 142
        },
        "id": "exrKzxTVnMym",
        "outputId": "9cf978bc-2242-4efb-f24a-3b655648d351"
      },
      "source": [
        "import pandas as pd\n",
        "\n",
        "data = {'이름' : ['유재석', '조세호', '양세형'], '아이디' : ['uuu', 'jjj', 'yyy'], '비밀번호' : ['1111', '2222', '3333']}\n",
        "\n",
        "df = pd.DataFrame(data, index = ['유', '조', '양'])\n",
        "df"
      ],
      "execution_count": null,
      "outputs": [
        {
          "output_type": "execute_result",
          "data": {
            "text/html": [
              "<div>\n",
              "<style scoped>\n",
              "    .dataframe tbody tr th:only-of-type {\n",
              "        vertical-align: middle;\n",
              "    }\n",
              "\n",
              "    .dataframe tbody tr th {\n",
              "        vertical-align: top;\n",
              "    }\n",
              "\n",
              "    .dataframe thead th {\n",
              "        text-align: right;\n",
              "    }\n",
              "</style>\n",
              "<table border=\"1\" class=\"dataframe\">\n",
              "  <thead>\n",
              "    <tr style=\"text-align: right;\">\n",
              "      <th></th>\n",
              "      <th>이름</th>\n",
              "      <th>아이디</th>\n",
              "      <th>비밀번호</th>\n",
              "    </tr>\n",
              "  </thead>\n",
              "  <tbody>\n",
              "    <tr>\n",
              "      <th>유</th>\n",
              "      <td>유재석</td>\n",
              "      <td>uuu</td>\n",
              "      <td>1111</td>\n",
              "    </tr>\n",
              "    <tr>\n",
              "      <th>조</th>\n",
              "      <td>조세호</td>\n",
              "      <td>jjj</td>\n",
              "      <td>2222</td>\n",
              "    </tr>\n",
              "    <tr>\n",
              "      <th>양</th>\n",
              "      <td>양세형</td>\n",
              "      <td>yyy</td>\n",
              "      <td>3333</td>\n",
              "    </tr>\n",
              "  </tbody>\n",
              "</table>\n",
              "</div>"
            ],
            "text/plain": [
              "    이름  아이디  비밀번호\n",
              "유  유재석  uuu  1111\n",
              "조  조세호  jjj  2222\n",
              "양  양세형  yyy  3333"
            ]
          },
          "metadata": {
            "tags": []
          },
          "execution_count": 31
        }
      ]
    },
    {
      "cell_type": "code",
      "metadata": {
        "colab": {
          "base_uri": "https://localhost:8080/",
          "height": 35
        },
        "id": "-WMIzXZBoYqd",
        "outputId": "a1717ede-cc4c-47cf-ad8d-ed24b7b0be68"
      },
      "source": [
        "df.loc['조', '비밀번호']"
      ],
      "execution_count": null,
      "outputs": [
        {
          "output_type": "execute_result",
          "data": {
            "application/vnd.google.colaboratory.intrinsic+json": {
              "type": "string"
            },
            "text/plain": [
              "'2222'"
            ]
          },
          "metadata": {
            "tags": []
          },
          "execution_count": 35
        }
      ]
    },
    {
      "cell_type": "code",
      "metadata": {
        "colab": {
          "base_uri": "https://localhost:8080/"
        },
        "id": "ybpunoUspr-D",
        "outputId": "e571810c-df2f-4a98-da84-319fb79d4e51"
      },
      "source": [
        "df.loc['유', ['아이디', '비밀번호']]"
      ],
      "execution_count": null,
      "outputs": [
        {
          "output_type": "execute_result",
          "data": {
            "text/plain": [
              "아이디      uuu\n",
              "비밀번호    1111\n",
              "Name: 유, dtype: object"
            ]
          },
          "metadata": {
            "tags": []
          },
          "execution_count": 36
        }
      ]
    },
    {
      "cell_type": "code",
      "metadata": {
        "colab": {
          "base_uri": "https://localhost:8080/",
          "height": 142
        },
        "id": "fNHMrm_fp_cS",
        "outputId": "cf4964ff-b412-4615-8e3b-5af6e597e8cb"
      },
      "source": [
        "import pandas as pd\n",
        "\n",
        "scores = {'이름' : ['유재석', '조세호', '양세형'], '국어' : [100, 90, 80], '영어' : [77, 88, 99], '수학' : [93, 92, 95]}\n",
        "df = pd.DataFrame(scores)\n",
        "\n",
        "df"
      ],
      "execution_count": null,
      "outputs": [
        {
          "output_type": "execute_result",
          "data": {
            "text/html": [
              "<div>\n",
              "<style scoped>\n",
              "    .dataframe tbody tr th:only-of-type {\n",
              "        vertical-align: middle;\n",
              "    }\n",
              "\n",
              "    .dataframe tbody tr th {\n",
              "        vertical-align: top;\n",
              "    }\n",
              "\n",
              "    .dataframe thead th {\n",
              "        text-align: right;\n",
              "    }\n",
              "</style>\n",
              "<table border=\"1\" class=\"dataframe\">\n",
              "  <thead>\n",
              "    <tr style=\"text-align: right;\">\n",
              "      <th></th>\n",
              "      <th>이름</th>\n",
              "      <th>국어</th>\n",
              "      <th>영어</th>\n",
              "      <th>수학</th>\n",
              "    </tr>\n",
              "  </thead>\n",
              "  <tbody>\n",
              "    <tr>\n",
              "      <th>0</th>\n",
              "      <td>유재석</td>\n",
              "      <td>100</td>\n",
              "      <td>77</td>\n",
              "      <td>93</td>\n",
              "    </tr>\n",
              "    <tr>\n",
              "      <th>1</th>\n",
              "      <td>조세호</td>\n",
              "      <td>90</td>\n",
              "      <td>88</td>\n",
              "      <td>92</td>\n",
              "    </tr>\n",
              "    <tr>\n",
              "      <th>2</th>\n",
              "      <td>양세형</td>\n",
              "      <td>80</td>\n",
              "      <td>99</td>\n",
              "      <td>95</td>\n",
              "    </tr>\n",
              "  </tbody>\n",
              "</table>\n",
              "</div>"
            ],
            "text/plain": [
              "    이름   국어  영어  수학\n",
              "0  유재석  100  77  93\n",
              "1  조세호   90  88  92\n",
              "2  양세형   80  99  95"
            ]
          },
          "metadata": {
            "tags": []
          },
          "execution_count": 39
        }
      ]
    },
    {
      "cell_type": "code",
      "metadata": {
        "colab": {
          "base_uri": "https://localhost:8080/",
          "height": 142
        },
        "id": "wNRRpwZ8qa_u",
        "outputId": "40dbce07-28ad-451a-9c78-988b08344367"
      },
      "source": [
        "new_df = df.iloc[:, [1, 2, 3]]\n",
        "\n",
        "new_df"
      ],
      "execution_count": null,
      "outputs": [
        {
          "output_type": "execute_result",
          "data": {
            "text/html": [
              "<div>\n",
              "<style scoped>\n",
              "    .dataframe tbody tr th:only-of-type {\n",
              "        vertical-align: middle;\n",
              "    }\n",
              "\n",
              "    .dataframe tbody tr th {\n",
              "        vertical-align: top;\n",
              "    }\n",
              "\n",
              "    .dataframe thead th {\n",
              "        text-align: right;\n",
              "    }\n",
              "</style>\n",
              "<table border=\"1\" class=\"dataframe\">\n",
              "  <thead>\n",
              "    <tr style=\"text-align: right;\">\n",
              "      <th></th>\n",
              "      <th>국어</th>\n",
              "      <th>영어</th>\n",
              "      <th>수학</th>\n",
              "    </tr>\n",
              "  </thead>\n",
              "  <tbody>\n",
              "    <tr>\n",
              "      <th>0</th>\n",
              "      <td>100</td>\n",
              "      <td>77</td>\n",
              "      <td>93</td>\n",
              "    </tr>\n",
              "    <tr>\n",
              "      <th>1</th>\n",
              "      <td>90</td>\n",
              "      <td>88</td>\n",
              "      <td>92</td>\n",
              "    </tr>\n",
              "    <tr>\n",
              "      <th>2</th>\n",
              "      <td>80</td>\n",
              "      <td>99</td>\n",
              "      <td>95</td>\n",
              "    </tr>\n",
              "  </tbody>\n",
              "</table>\n",
              "</div>"
            ],
            "text/plain": [
              "    국어  영어  수학\n",
              "0  100  77  93\n",
              "1   90  88  92\n",
              "2   80  99  95"
            ]
          },
          "metadata": {
            "tags": []
          },
          "execution_count": 40
        }
      ]
    },
    {
      "cell_type": "code",
      "metadata": {
        "colab": {
          "base_uri": "https://localhost:8080/"
        },
        "id": "RSvnuMZgrLzn",
        "outputId": "820e346b-6ae9-4089-a85c-6f69fb6f1fb9"
      },
      "source": [
        "total = new_df.sum() #세로로 더함\n",
        "\n",
        "total"
      ],
      "execution_count": null,
      "outputs": [
        {
          "output_type": "execute_result",
          "data": {
            "text/plain": [
              "국어    270\n",
              "영어    264\n",
              "수학    280\n",
              "dtype: int64"
            ]
          },
          "metadata": {
            "tags": []
          },
          "execution_count": 41
        }
      ]
    },
    {
      "cell_type": "code",
      "metadata": {
        "colab": {
          "base_uri": "https://localhost:8080/"
        },
        "id": "9n9N3d3praIw",
        "outputId": "eac302f1-21dc-43cd-8e02-ebb408797b9c"
      },
      "source": [
        "total = new_df.sum(axis = 1) #가로로 더함\n",
        "\n",
        "total"
      ],
      "execution_count": null,
      "outputs": [
        {
          "output_type": "execute_result",
          "data": {
            "text/plain": [
              "0    270\n",
              "1    270\n",
              "2    274\n",
              "dtype: int64"
            ]
          },
          "metadata": {
            "tags": []
          },
          "execution_count": 42
        }
      ]
    },
    {
      "cell_type": "code",
      "metadata": {
        "colab": {
          "base_uri": "https://localhost:8080/"
        },
        "id": "M6nLipturkrw",
        "outputId": "bc6984cc-bbc7-4a90-f9ac-b58b094e220b"
      },
      "source": [
        "avg = new_df.mean(axis = 1)\n",
        "\n",
        "avg"
      ],
      "execution_count": null,
      "outputs": [
        {
          "output_type": "execute_result",
          "data": {
            "text/plain": [
              "0    90.000000\n",
              "1    90.000000\n",
              "2    91.333333\n",
              "dtype: float64"
            ]
          },
          "metadata": {
            "tags": []
          },
          "execution_count": 43
        }
      ]
    },
    {
      "cell_type": "code",
      "metadata": {
        "colab": {
          "base_uri": "https://localhost:8080/"
        },
        "id": "lItE-jcFr0as",
        "outputId": "192708d8-e328-403e-e1c2-f2fa771583a0"
      },
      "source": [
        "for i in range(3):\n",
        "  print('%s %d %.2f' %(df.iloc[i, 0], total.iloc[i], avg.iloc[i]))"
      ],
      "execution_count": null,
      "outputs": [
        {
          "output_type": "stream",
          "text": [
            "유재석 270 90.00\n",
            "조세호 270 90.00\n",
            "양세형 274 91.33\n"
          ],
          "name": "stdout"
        }
      ]
    },
    {
      "cell_type": "code",
      "metadata": {
        "id": "IwkwJXLCsKwJ"
      },
      "source": [],
      "execution_count": null,
      "outputs": []
    }
  ]
}