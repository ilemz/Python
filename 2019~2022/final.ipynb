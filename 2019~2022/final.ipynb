{
  "nbformat": 4,
  "nbformat_minor": 0,
  "metadata": {
    "colab": {
      "provenance": [],
      "authorship_tag": "ABX9TyPdMOnEIsoshvIgl1dV2/+P"
    },
    "kernelspec": {
      "name": "python3",
      "display_name": "Python 3"
    },
    "language_info": {
      "name": "python"
    }
  },
  "cells": [
    {
      "cell_type": "markdown",
      "metadata": {
        "id": "GcS649RTmFez"
      },
      "source": [
        "98 pg"
      ]
    },
    {
      "cell_type": "code",
      "metadata": {
        "colab": {
          "base_uri": "https://localhost:8080/"
        },
        "id": "V7laJrW1l_i0",
        "outputId": "3412cada-fdab-454c-bd60-52be710187bd"
      },
      "source": [
        "a = 7\n",
        "b = 10\n",
        "\n",
        "c = a+(b*2)\n",
        "print(c)\n",
        "c %= 5\n",
        "print(c)\n",
        "c **= 3\n",
        "print(c)\n",
        "c -= c*10\n",
        "print(c)"
      ],
      "execution_count": null,
      "outputs": [
        {
          "output_type": "stream",
          "text": [
            "27\n",
            "2\n",
            "8\n",
            "-72\n"
          ],
          "name": "stdout"
        }
      ]
    },
    {
      "cell_type": "code",
      "metadata": {
        "colab": {
          "base_uri": "https://localhost:8080/"
        },
        "id": "tznPScSLmYdT",
        "outputId": "f1681750-a5b6-4924-f932-56c4f1dfca19"
      },
      "source": [
        "r = int(input('반지름을 입력하세요 : '))\n",
        "\n",
        "l = 2 * 3.14 * r\n",
        "s = 3.14 * (r**2)\n",
        "\n",
        "print('반지름 : {}cm' .format(r))\n",
        "print('원의 둘레 : {:.2f}cm' .format(l))\n",
        "print('원의 넓이 : %.2fcm2' %s)"
      ],
      "execution_count": null,
      "outputs": [
        {
          "output_type": "stream",
          "text": [
            "반지름을 입력하세요 : 10\n",
            "반지름 : 10cm\n",
            "원의 둘레 : 62.80cm\n",
            "원의 넓이 : 314.00cm2\n"
          ],
          "name": "stdout"
        }
      ]
    },
    {
      "cell_type": "markdown",
      "metadata": {
        "id": "WsZKd90wsm6O"
      },
      "source": [
        "99 pg"
      ]
    },
    {
      "cell_type": "code",
      "metadata": {
        "colab": {
          "base_uri": "https://localhost:8080/"
        },
        "id": "4o2MsNzEnH3U",
        "outputId": "7d7755a8-e3b8-4937-e299-6611257a15d5"
      },
      "source": [
        "book = int(input('책 값을 입력하세요 : '))\n",
        "dis = int(input('할인율을 입력하세요(%) : '))\n",
        "dil = int(input('배송료를 입력하세요 : '))\n",
        "\n",
        "pay = book - (book * dis / 100) + dil\n",
        "\n",
        "print('결제 금액 : %d원' %pay)"
      ],
      "execution_count": null,
      "outputs": [
        {
          "output_type": "stream",
          "text": [
            "책 값을 입력하세요 : 15000\n",
            "할인율을 입력하세요(%) : 15\n",
            "배송료를 입력하세요 : 3000\n",
            "결제 금액 : 15750원\n"
          ],
          "name": "stdout"
        }
      ]
    },
    {
      "cell_type": "code",
      "metadata": {
        "colab": {
          "base_uri": "https://localhost:8080/"
        },
        "id": "sZJxZPhDpRNI",
        "outputId": "c11567ad-3f09-481a-ae1c-ca9b0f04574c"
      },
      "source": [
        "name = input('이름을 입력하세요 : ')\n",
        "n_year = int(input('현재년을 입력하세요 : '))\n",
        "b_year = int(input('탄생년을 입력하세요 : '))\n",
        "\n",
        "age = n_year - b_year + 1\n",
        "\n",
        "print('%s님의 나이는 %d세 입니다!' %(name, age))"
      ],
      "execution_count": null,
      "outputs": [
        {
          "output_type": "stream",
          "text": [
            "이름을 입력하세요 : 안지영\n",
            "현재년을 입력하세요 : 2020\n",
            "탄생년을 입력하세요 : 1997\n",
            "안지영님의 나이는 24세 입니다!\n"
          ],
          "name": "stdout"
        }
      ]
    },
    {
      "cell_type": "code",
      "metadata": {
        "colab": {
          "base_uri": "https://localhost:8080/"
        },
        "id": "T6LRCRU1rA1A",
        "outputId": "a3634491-b201-4f3b-b2b3-c0380a9e3286"
      },
      "source": [
        "year = int(input('연을 입력하세요 : '))\n",
        "month = int(input('월을 입력하세요 : '))\n",
        "day = int(input('일을 입력하세요 : '))\n",
        "\n",
        "print('%04d-%02d-%02d' %(year, month, day))"
      ],
      "execution_count": null,
      "outputs": [
        {
          "output_type": "stream",
          "text": [
            "연을 입력하세요 : 2020\n",
            "월을 입력하세요 : 1\n",
            "일을 입력하세요 : 5\n",
            "2020-01-05\n"
          ],
          "name": "stdout"
        }
      ]
    },
    {
      "cell_type": "markdown",
      "metadata": {
        "id": "b_-n2FENstJA"
      },
      "source": [
        "134 pg"
      ]
    },
    {
      "cell_type": "code",
      "metadata": {
        "colab": {
          "base_uri": "https://localhost:8080/"
        },
        "id": "82M32IZwa4O4",
        "outputId": "b3c09904-2226-416f-aafc-26da53287fa6"
      },
      "source": [
        "def num(a, b, c):\n",
        "  print(a!=2)\n",
        "  print(not(b>=a))\n",
        "  print(c/2>a*3)\n",
        "\n",
        "a, b, c = map(int, input('a b c : ').split())\n",
        "\n",
        "num(a, b, c)"
      ],
      "execution_count": null,
      "outputs": [
        {
          "output_type": "stream",
          "text": [
            "a b c : 2 5 -3\n",
            "False\n",
            "False\n",
            "False\n"
          ],
          "name": "stdout"
        }
      ]
    },
    {
      "cell_type": "code",
      "metadata": {
        "colab": {
          "base_uri": "https://localhost:8080/"
        },
        "id": "bCN0avV3rvf8",
        "outputId": "e222985a-35de-4d44-f4cb-c844700c6cc2"
      },
      "source": [
        "a = 2\n",
        "b = 5\n",
        "c = -3\n",
        "\n",
        "print(a!=2)\n",
        "print(not(b>=a))\n",
        "print(c/2>a*3)"
      ],
      "execution_count": null,
      "outputs": [
        {
          "output_type": "stream",
          "text": [
            "False\n",
            "False\n",
            "False\n"
          ],
          "name": "stdout"
        }
      ]
    },
    {
      "cell_type": "code",
      "metadata": {
        "colab": {
          "base_uri": "https://localhost:8080/"
        },
        "id": "_Ip49et4tABv",
        "outputId": "30bf11b3-77a0-463b-820b-0dda72e5ac94"
      },
      "source": [
        "a = 3\n",
        "b = 7\n",
        "c = -4\n",
        "\n",
        "print(a!=2)\n",
        "print(not(b>=a))\n",
        "print(c/2>a*3)"
      ],
      "execution_count": null,
      "outputs": [
        {
          "output_type": "stream",
          "text": [
            "True\n",
            "False\n",
            "False\n"
          ],
          "name": "stdout"
        }
      ]
    },
    {
      "cell_type": "code",
      "metadata": {
        "colab": {
          "base_uri": "https://localhost:8080/"
        },
        "id": "YDD5AcSVtNRM",
        "outputId": "b24dca58-0a2e-40e3-9c64-8b2feca1df50"
      },
      "source": [
        "a = -10\n",
        "b = 10\n",
        "c = -2\n",
        "\n",
        "print(a!=2)\n",
        "print(not(b>=a))\n",
        "print(c/2>a*3)"
      ],
      "execution_count": null,
      "outputs": [
        {
          "output_type": "stream",
          "text": [
            "True\n",
            "False\n",
            "True\n"
          ],
          "name": "stdout"
        }
      ]
    },
    {
      "cell_type": "code",
      "metadata": {
        "colab": {
          "base_uri": "https://localhost:8080/"
        },
        "id": "MlZmBZA7bTr0",
        "outputId": "75500506-bad7-4f61-dd82-50e44ab66d67"
      },
      "source": [
        "def tf(a, b, c):\n",
        "  print(a > 2 or c > b and c > 2)\n",
        "  print(not(a > 5 or b > c and c >= 3))\n",
        "\n",
        "a, b, c = map(int, input('a b c : ').split())\n",
        "\n",
        "tf(a, b, c)"
      ],
      "execution_count": null,
      "outputs": [
        {
          "output_type": "stream",
          "text": [
            "a b c : -5 3 2\n",
            "False\n",
            "True\n"
          ],
          "name": "stdout"
        }
      ]
    },
    {
      "cell_type": "code",
      "metadata": {
        "colab": {
          "base_uri": "https://localhost:8080/"
        },
        "id": "KCBnaFpGtSBU",
        "outputId": "1a755530-a898-4c8c-a0fa-1aeb4e589243"
      },
      "source": [
        "a = -5\n",
        "b = 3\n",
        "c = 2\n",
        "\n",
        "print(a > 2 or c > b and c > 2)\n",
        "print(not(a > 5 or b > c and c >= 3))"
      ],
      "execution_count": null,
      "outputs": [
        {
          "output_type": "stream",
          "text": [
            "False\n",
            "True\n"
          ],
          "name": "stdout"
        }
      ]
    },
    {
      "cell_type": "code",
      "metadata": {
        "colab": {
          "base_uri": "https://localhost:8080/"
        },
        "id": "lVv8nUGdteCi",
        "outputId": "48734f7e-5300-433d-9a47-3598b9df30b9"
      },
      "source": [
        "a = 10\n",
        "b = 5\n",
        "c = 7\n",
        "\n",
        "print(a > 2 or c > b and c > 2)\n",
        "print(not(a > 5 or b > c and c >= 3))"
      ],
      "execution_count": null,
      "outputs": [
        {
          "output_type": "stream",
          "text": [
            "True\n",
            "False\n"
          ],
          "name": "stdout"
        }
      ]
    },
    {
      "cell_type": "code",
      "metadata": {
        "colab": {
          "base_uri": "https://localhost:8080/"
        },
        "id": "OLLPUv-KtnpU",
        "outputId": "90644634-d934-409a-d843-bf8cf44ff55b"
      },
      "source": [
        "a = -3\n",
        "b = 10\n",
        "c = 2\n",
        "\n",
        "print(a > 2 or c > b and c > 2)\n",
        "print(not(a > 5 or b > c and c >= 3))"
      ],
      "execution_count": null,
      "outputs": [
        {
          "output_type": "stream",
          "text": [
            "False\n",
            "True\n"
          ],
          "name": "stdout"
        }
      ]
    },
    {
      "cell_type": "code",
      "metadata": {
        "colab": {
          "base_uri": "https://localhost:8080/"
        },
        "id": "knzEhdi4trTk",
        "outputId": "6d4edc33-4726-4060-801a-8ce2401c5c1b"
      },
      "source": [
        "a = 2\n",
        "z = a*5\n",
        "w = (z-3)*(a-2)/7+10\n",
        "\n",
        "print(w)\n",
        "\n",
        "if a>z or w>a :\n",
        "  y = 2*a\n",
        "  print('if')\n",
        "\n",
        "else :\n",
        "  y = 4*a\n",
        "  print('else')\n",
        "\n",
        "print(y)"
      ],
      "execution_count": null,
      "outputs": [
        {
          "output_type": "stream",
          "text": [
            "10.0\n",
            "if\n",
            "4\n"
          ],
          "name": "stdout"
        }
      ]
    },
    {
      "cell_type": "markdown",
      "metadata": {
        "id": "Iuen_v6KvaQv"
      },
      "source": [
        "135 pg"
      ]
    },
    {
      "cell_type": "code",
      "metadata": {
        "colab": {
          "base_uri": "https://localhost:8080/"
        },
        "id": "nF0Hk0Ciu4Fi",
        "outputId": "c44b2110-f88d-421e-b660-b21d6ba6c105"
      },
      "source": [
        "c = 0\n",
        "m = ''\n",
        "\n",
        "wat = int(input('단위를 입력하세요 (1. 섭씨, 2. 화씨) : '))\n",
        "temp = int(input('온도를 입력하세요 : '))\n",
        "\n",
        "if wat == 2:\n",
        "  c = (temp - 32) * 5/9\n",
        "\n",
        "if wat == 1:\n",
        "  c = tmep\n",
        "\n",
        "if c < 0 :\n",
        "  m = '고체'\n",
        "\n",
        "elif c > 100 :\n",
        "  m = '기체'\n",
        "\n",
        "else :\n",
        "  m = '액체'\n",
        "\n",
        "print('물의 섭씨 온도 : %.2f, 상태 : %s' %(c, m))"
      ],
      "execution_count": null,
      "outputs": [
        {
          "output_type": "stream",
          "text": [
            "단위를 입력하세요 (1. 섭씨, 2. 화씨) : 2\n",
            "온도를 입력하세요 : 80\n",
            "물의 섭씨 온도 : 26.67, 상태 : 액체\n"
          ],
          "name": "stdout"
        }
      ]
    },
    {
      "cell_type": "code",
      "metadata": {
        "colab": {
          "base_uri": "https://localhost:8080/"
        },
        "id": "P7szi26pw2GW",
        "outputId": "c15bd077-96a4-4a22-fb26-8627c97de04d"
      },
      "source": [
        "id = input('아이디를 입력하세요 : ')\n",
        "\n",
        "if id == 'admin':\n",
        "  print('모든 콘텐츠 이용 가능')\n",
        "\n",
        "if id != 'admin':\n",
        "  lv = int(input('회원 레벨을 입력해 주세요 : '))\n",
        "\n",
        "  if 1 < lv < 8:\n",
        "    print('일부 콘텐츠 이용 가능')\n",
        "\n",
        "  else :\n",
        "    print('콘텐츠 이용 불가')"
      ],
      "execution_count": null,
      "outputs": [
        {
          "output_type": "stream",
          "text": [
            "아이디를 입력하세요 : rubato\n",
            "회원 레벨을 입력해 주세요 : 3\n",
            "일부 콘텐츠 이용 가능\n"
          ],
          "name": "stdout"
        }
      ]
    },
    {
      "cell_type": "code",
      "metadata": {
        "colab": {
          "base_uri": "https://localhost:8080/"
        },
        "id": "DQ5_bgL-ymqO",
        "outputId": "4ac9eb66-8a96-4e9a-8e44-072a105e866d"
      },
      "source": [
        "age = int(input('나이를 입력하세요 : '))\n",
        "\n",
        "if age < 11:\n",
        "  print('입장료는 1000원 입니다.')\n",
        "\n",
        "elif age > 64:\n",
        "  print('입장료는 0원 입니다.')\n",
        "\n",
        "else :\n",
        "  print('입장료는 2000원 입니다.')"
      ],
      "execution_count": null,
      "outputs": [
        {
          "output_type": "stream",
          "text": [
            "나이를 입력하세요 : 6\n",
            "입장료는 1000원 입니다.\n"
          ],
          "name": "stdout"
        }
      ]
    },
    {
      "cell_type": "code",
      "metadata": {
        "colab": {
          "base_uri": "https://localhost:8080/"
        },
        "id": "AM1mk4V6zRil",
        "outputId": "b750239e-73bf-447f-a66c-ab3db6469c91"
      },
      "source": [
        "eng = int(input('영어시험 점수를 입력하세요 : '))\n",
        "math = int(input('수학시험 점수를 입력하세요 : '))\n",
        "\n",
        "if math <= 79 and eng <= 79:\n",
        "  print('불합격')\n",
        "\n",
        "elif math >= 80 and eng >= 80 :\n",
        "  print('합격')\n",
        "\n",
        "else :\n",
        "  print('재시험 기회 제공')"
      ],
      "execution_count": null,
      "outputs": [
        {
          "output_type": "stream",
          "text": [
            "영어시험 점수를 입력하세요 : 85\n",
            "수학시험 점수를 입력하세요 : 75\n",
            "재시험 기회 제공\n"
          ],
          "name": "stdout"
        }
      ]
    },
    {
      "cell_type": "markdown",
      "metadata": {
        "id": "vnd9NISx4yK5"
      },
      "source": [
        "172 pg"
      ]
    },
    {
      "cell_type": "code",
      "metadata": {
        "id": "VvsgWelP4cG4",
        "colab": {
          "base_uri": "https://localhost:8080/"
        },
        "outputId": "12c33a02-0fcc-4692-9e4c-64e34d8c043b"
      },
      "source": [
        "n = 8\n",
        "\n",
        "for i in range(n):\n",
        "  if i == 0 or i == n-1:\n",
        "    for j in range(n):\n",
        "      print('*', end = '')\n",
        "\n",
        "  else :\n",
        "    print('*', end = '')\n",
        "\n",
        "    for j in range(n-2):\n",
        "      print(' ', end = '')\n",
        "\n",
        "    print('*', end = '')\n",
        "\n",
        "  print()"
      ],
      "execution_count": null,
      "outputs": [
        {
          "output_type": "stream",
          "text": [
            "********\n",
            "*      *\n",
            "*      *\n",
            "*      *\n",
            "*      *\n",
            "*      *\n",
            "*      *\n",
            "********\n"
          ],
          "name": "stdout"
        }
      ]
    },
    {
      "cell_type": "code",
      "metadata": {
        "colab": {
          "base_uri": "https://localhost:8080/"
        },
        "id": "MusMUlJH-lKJ",
        "outputId": "2a5eb7b0-439b-4cd5-b6c1-50b7bd04da20"
      },
      "source": [
        "sum = 0\n",
        "\n",
        "for i in range(100):\n",
        "  if i%2 == 1:\n",
        "    if i == 99:\n",
        "      print(i, end = '')\n",
        "\n",
        "    else :\n",
        "      print(i, end = ' + ')\n",
        "\n",
        "    sum += i\n",
        "\n",
        "print(' = %d' %sum)"
      ],
      "execution_count": null,
      "outputs": [
        {
          "output_type": "stream",
          "text": [
            "1 + 3 + 5 + 7 + 9 + 11 + 13 + 15 + 17 + 19 + 21 + 23 + 25 + 27 + 29 + 31 + 33 + 35 + 37 + 39 + 41 + 43 + 45 + 47 + 49 + 51 + 53 + 55 + 57 + 59 + 61 + 63 + 65 + 67 + 69 + 71 + 73 + 75 + 77 + 79 + 81 + 83 + 85 + 87 + 89 + 91 + 93 + 95 + 97 + 99 = 2500\n"
          ],
          "name": "stdout"
        }
      ]
    },
    {
      "cell_type": "code",
      "metadata": {
        "colab": {
          "base_uri": "https://localhost:8080/"
        },
        "id": "nWir_OXw-9G4",
        "outputId": "1ac4770b-f5d8-44ff-f94a-822480019564"
      },
      "source": [
        "n = int(input('N의 값을 입력하세요 : '))\n",
        "sum = 0\n",
        "\n",
        "for i in range(1, n+1):\n",
        "  if i %2 == 0:\n",
        "    sum += i ** (i-1)\n",
        "\n",
        "print('N의 값 : %d' %n)\n",
        "print('합계 : %d' %sum)"
      ],
      "execution_count": null,
      "outputs": [
        {
          "output_type": "stream",
          "text": [
            "N의 값을 입력하세요 : 12\n",
            "N의 값 : 12\n",
            "합계 : 744010475682\n"
          ],
          "name": "stdout"
        }
      ]
    },
    {
      "cell_type": "code",
      "metadata": {
        "colab": {
          "base_uri": "https://localhost:8080/"
        },
        "id": "GFehOn3t_Xnv",
        "outputId": "3b9aa353-01fb-4315-8811-aa8990d8110c"
      },
      "source": [
        "n = int(input('N 값을 입력해주세요 : '))\n",
        "\n",
        "for a in range(2, n+1):\n",
        "  prime_yes = True\n",
        "\n",
        "  for i in range(2, a):\n",
        "    if a%i == 0:\n",
        "      prime_yes = False\n",
        "\n",
        "      break\n",
        "\n",
        "  if prime_yes :\n",
        "    print(a, end = ' ')"
      ],
      "execution_count": null,
      "outputs": [
        {
          "output_type": "stream",
          "text": [
            "N 값을 입력해주세요 : 200\n",
            "2 3 5 7 11 13 17 19 23 29 31 37 41 43 47 53 59 61 67 71 73 79 83 89 97 101 103 107 109 113 127 131 137 139 149 151 157 163 167 173 179 181 191 193 197 199 "
          ],
          "name": "stdout"
        }
      ]
    },
    {
      "cell_type": "markdown",
      "metadata": {
        "id": "xKYvIuXPAOBI"
      },
      "source": [
        "194 pg"
      ]
    },
    {
      "cell_type": "code",
      "metadata": {
        "colab": {
          "base_uri": "https://localhost:8080/"
        },
        "id": "IllmNgyN_72k",
        "outputId": "438628e4-c197-4f17-f280-61af537fc128"
      },
      "source": [
        "scores = [[96, 84, 80], [96, 86, 76], [76, 95, 83], [89, 96, 69], [90, 76, 91],\\\n",
        "          [82, 66, 88], [83, 86, 79], [85, 90, 83]]\n",
        "\n",
        "for i in range(len(scores)):\n",
        "  sum = 0\n",
        "\n",
        "  for j in range(len(scores[i])):\n",
        "    sum += scores[i][j]\n",
        "\n",
        "  avg = sum/len(scores[i])\n",
        "\n",
        "  print('%d번째 학생의 합계 : %d, 평균 : %.2f' %(i+1, sum, avg))"
      ],
      "execution_count": null,
      "outputs": [
        {
          "output_type": "stream",
          "text": [
            "1번째 학생의 합계 : 260, 평균 : 86.67\n",
            "2번째 학생의 합계 : 258, 평균 : 86.00\n",
            "3번째 학생의 합계 : 254, 평균 : 84.67\n",
            "4번째 학생의 합계 : 254, 평균 : 84.67\n",
            "5번째 학생의 합계 : 257, 평균 : 85.67\n",
            "6번째 학생의 합계 : 236, 평균 : 78.67\n",
            "7번째 학생의 합계 : 248, 평균 : 82.67\n",
            "8번째 학생의 합계 : 258, 평균 : 86.00\n"
          ],
          "name": "stdout"
        }
      ]
    },
    {
      "cell_type": "code",
      "metadata": {
        "id": "xL6458_vBF94"
      },
      "source": [],
      "execution_count": null,
      "outputs": []
    }
  ]
}
