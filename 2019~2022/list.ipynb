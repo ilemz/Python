{
  "nbformat": 4,
  "nbformat_minor": 0,
  "metadata": {
    "colab": {
      "provenance": [],
      "authorship_tag": "ABX9TyMDFJ22fqidJ0J8bSv5aqEl"
    },
    "kernelspec": {
      "name": "python3",
      "display_name": "Python 3"
    }
  },
  "cells": [
    {
      "cell_type": "code",
      "metadata": {
        "colab": {
          "base_uri": "https://localhost:8080/"
        },
        "id": "Nhoo-u-VjgyK",
        "outputId": "8dc83b8b-64fe-4509-ad68-c96177f23d91"
      },
      "source": [
        "score = [[98, 97, 95], [88, 85, 75], [100, 96, 59]]\n",
        "\n",
        "print(score[0])\n",
        "print(score[0][0])\n",
        "print(score[0][1])\n",
        "print(score[0][2])\n",
        "print(score[0][0])\n",
        "print(score[1][0])\n",
        "print(score[2][0])"
      ],
      "execution_count": null,
      "outputs": [
        {
          "output_type": "stream",
          "text": [
            "[98, 97, 95]\n",
            "98\n",
            "97\n",
            "95\n",
            "98\n",
            "88\n",
            "100\n"
          ],
          "name": "stdout"
        }
      ]
    },
    {
      "cell_type": "code",
      "metadata": {
        "colab": {
          "base_uri": "https://localhost:8080/"
        },
        "id": "4KCJ-MHmjwx9",
        "outputId": "311c31a5-ce34-4395-edf2-36f215aaf81e"
      },
      "source": [
        "score = [[96, 84, 80], [96, 86, 76], [76, 95, 83], [85, 96, 69], [90, 76, 91]]\n",
        "\n",
        "for i in range(len(score)):\n",
        "  sum = 0\n",
        "\n",
        "  for j in range(len(score[i])):\n",
        "    sum += score[i][j]\n",
        "\n",
        "  av = sum / len(score[i])\n",
        "\n",
        "  print('{}번째 학생의 합계 : {}, 평균 : {}' .format(i+1, sum, int(av)))"
      ],
      "execution_count": null,
      "outputs": [
        {
          "output_type": "stream",
          "text": [
            "1번째 학생의 합계 : 260, 평균 : 86\n",
            "2번째 학생의 합계 : 258, 평균 : 86\n",
            "3번째 학생의 합계 : 254, 평균 : 84\n",
            "4번째 학생의 합계 : 250, 평균 : 83\n",
            "5번째 학생의 합계 : 257, 평균 : 85\n"
          ],
          "name": "stdout"
        }
      ]
    },
    {
      "cell_type": "code",
      "metadata": {
        "colab": {
          "base_uri": "https://localhost:8080/"
        },
        "id": "YRQhKFuclqhN",
        "outputId": "cca06bc8-172c-4939-a4af-18f833bc237c"
      },
      "source": [
        "dict = {'a':'apple', 'b':'banana', 'c':'cherry'}\n",
        "\n",
        "print(dict)\n",
        "print(dict['a'])\n",
        "print(dict['c'])"
      ],
      "execution_count": null,
      "outputs": [
        {
          "output_type": "stream",
          "text": [
            "{'a': 'apple', 'b': 'banana', 'c': 'cherry'}\n",
            "apple\n",
            "cherry\n"
          ],
          "name": "stdout"
        }
      ]
    },
    {
      "cell_type": "code",
      "metadata": {
        "colab": {
          "base_uri": "https://localhost:8080/"
        },
        "id": "Ohi-_BpNoRgo",
        "outputId": "bade5879-2194-455f-cc8c-f65b91993e40"
      },
      "source": [
        "score = {'장도연':95, '박나래':78, '양세형':82, '유재석':80, '조세호':90}\n",
        "sum = 0\n",
        "\n",
        "for i in score:\n",
        "  sum += score[i]\n",
        "\n",
        "av = sum / len(score)\n",
        "\n",
        "print(sum, av)"
      ],
      "execution_count": null,
      "outputs": [
        {
          "output_type": "stream",
          "text": [
            "425 85.0\n"
          ],
          "name": "stdout"
        }
      ]
    },
    {
      "cell_type": "code",
      "metadata": {
        "id": "KheakoBopEwS",
        "colab": {
          "base_uri": "https://localhost:8080/"
        },
        "outputId": "9fc5d3ca-68a7-4e39-83c5-9d1273ec0fa0"
      },
      "source": [
        "n = int(input())\n",
        "c = 0\n",
        "\n",
        "while n>0:\n",
        "  if n%10 == 3 or n%10 == 6 or n%10 == 9:\n",
        "    c += 1\n",
        "\n",
        "  n = n//10\n",
        "\n",
        "  print(a, n)"
      ],
      "execution_count": null,
      "outputs": [
        {
          "output_type": "stream",
          "text": [
            "103\n",
            "3 10\n",
            "0 1\n",
            "1 0\n"
          ],
          "name": "stdout"
        }
      ]
    },
    {
      "cell_type": "code",
      "metadata": {
        "id": "7JHl2_U6Fmjr"
      },
      "source": [],
      "execution_count": null,
      "outputs": []
    }
  ]
}
