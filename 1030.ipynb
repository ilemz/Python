{
  "nbformat": 4,
  "nbformat_minor": 0,
  "metadata": {
    "colab": {
      "provenance": [],
      "authorship_tag": "ABX9TyP2pWNhYigwM2m2K9pml6Cy"
    },
    "kernelspec": {
      "name": "python3",
      "display_name": "Python 3"
    },
    "language_info": {
      "name": "python"
    }
  },
  "cells": [
    {
      "cell_type": "code",
      "execution_count": null,
      "metadata": {
        "colab": {
          "base_uri": "https://localhost:8080/"
        },
        "id": "yh6UNcCx4wS5",
        "outputId": "6a25c1d8-03c1-484d-c3e7-d18e36923960"
      },
      "outputs": [
        {
          "output_type": "stream",
          "name": "stdout",
          "text": [
            "55\n"
          ]
        }
      ],
      "source": [
        "a = []\n",
        "sum = 0\n",
        "for i in range(0, 11, 1):\n",
        "  a.append(i)\n",
        "  sum += i\n",
        "print(sum)"
      ]
    },
    {
      "cell_type": "code",
      "source": [
        "a = []\n",
        "sum = 0\n",
        "for i in range(0, 101, 1):\n",
        "  a.append(i)\n",
        "  sum += i\n",
        "print(sum)"
      ],
      "metadata": {
        "colab": {
          "base_uri": "https://localhost:8080/"
        },
        "id": "u9xhb-NDFPOJ",
        "outputId": "fbf06dea-7053-4038-953b-4eff4b1f7d6f"
      },
      "execution_count": null,
      "outputs": [
        {
          "output_type": "stream",
          "name": "stdout",
          "text": [
            "5050\n"
          ]
        }
      ]
    },
    {
      "cell_type": "code",
      "source": [
        "a = []\n",
        "sum = 0\n",
        "for i in range(0, 11, 1):\n",
        "  if i % 2 != 0:\n",
        "    a.append(i)\n",
        "    sum += i\n",
        "print(sum)"
      ],
      "metadata": {
        "colab": {
          "base_uri": "https://localhost:8080/"
        },
        "id": "zZfydzwqFYLI",
        "outputId": "6b6ee48e-665e-4eff-a1a4-2102c303f489"
      },
      "execution_count": null,
      "outputs": [
        {
          "output_type": "stream",
          "name": "stdout",
          "text": [
            "25\n"
          ]
        }
      ]
    },
    {
      "cell_type": "code",
      "source": [
        "a = []\n",
        "sum = 0\n",
        "for i in range(0, 11, 1):\n",
        "  if i % 2 == 0:\n",
        "    a.append(i)\n",
        "    sum += i\n",
        "print(sum)"
      ],
      "metadata": {
        "colab": {
          "base_uri": "https://localhost:8080/"
        },
        "id": "r7D0RdYuF4Qw",
        "outputId": "ebdc3a9a-83b7-4d3e-f401-f9961cb1e84e"
      },
      "execution_count": null,
      "outputs": [
        {
          "output_type": "stream",
          "name": "stdout",
          "text": [
            "30\n"
          ]
        }
      ]
    },
    {
      "cell_type": "code",
      "source": [
        "a = []\n",
        "sum = 0\n",
        "for i in range(1, 201, 1):\n",
        "  if i % 3 == 0:\n",
        "    a.append(i)\n",
        "    sum += i\n",
        "print(sum)"
      ],
      "metadata": {
        "colab": {
          "base_uri": "https://localhost:8080/"
        },
        "id": "kmnOae0OF-b3",
        "outputId": "53c27a23-d939-47aa-f822-ca06f66ef08d"
      },
      "execution_count": null,
      "outputs": [
        {
          "output_type": "stream",
          "name": "stdout",
          "text": [
            "6633\n"
          ]
        }
      ]
    },
    {
      "cell_type": "code",
      "source": [
        "a = []\n",
        "sum = 0\n",
        "for i in range(1, 11, 1):\n",
        "  if i % 3 != 0:\n",
        "    a.append(i)\n",
        "print(a)"
      ],
      "metadata": {
        "colab": {
          "base_uri": "https://localhost:8080/"
        },
        "id": "gR2l-cwSGH_H",
        "outputId": "de28c226-43b9-459d-c785-5d648d665147"
      },
      "execution_count": null,
      "outputs": [
        {
          "output_type": "stream",
          "name": "stdout",
          "text": [
            "[1, 2, 4, 5, 7, 8, 10]\n"
          ]
        }
      ]
    },
    {
      "cell_type": "code",
      "source": [
        "a = []\n",
        "sum = 0\n",
        "i = int(input(\"시작값 : \"))\n",
        "f = int(input(\"종료값 : \"))\n",
        "for i in range(i, f+1, 1):\n",
        "  a.append(i)\n",
        "  sum += i\n",
        "print(sum)"
      ],
      "metadata": {
        "colab": {
          "base_uri": "https://localhost:8080/"
        },
        "id": "9WH_44ikGSQf",
        "outputId": "52c7a81d-9026-4861-dc16-ad97e4cf6b88"
      },
      "execution_count": null,
      "outputs": [
        {
          "output_type": "stream",
          "name": "stdout",
          "text": [
            "시작값 : 1\n",
            "종료값 : 10\n",
            "55\n"
          ]
        }
      ]
    },
    {
      "cell_type": "code",
      "source": [
        "a = []\n",
        "sum = 0\n",
        "i = int(input(\"시작값 : \"))\n",
        "f = int(input(\"종료값 : \"))\n",
        "for i in range(i, f+1, 1):\n",
        "  if i % 2 != 0:\n",
        "    a.append(i)\n",
        "    sum += i\n",
        "print(sum)"
      ],
      "metadata": {
        "colab": {
          "base_uri": "https://localhost:8080/"
        },
        "id": "mlvC10Q8GpQo",
        "outputId": "d3a94e20-95ec-4b8d-e186-298e15dff946"
      },
      "execution_count": null,
      "outputs": [
        {
          "output_type": "stream",
          "name": "stdout",
          "text": [
            "시작값 : 1\n",
            "종료값 : 10\n",
            "25\n"
          ]
        }
      ]
    },
    {
      "cell_type": "code",
      "source": [
        "a = []\n",
        "sum = 0\n",
        "i = int(input(\"시작값 : \"))\n",
        "f = int(input(\"종료값 : \"))\n",
        "for i in range(i, f+1, 1):\n",
        "  if i % 2 == 0:\n",
        "    a.append(i)\n",
        "    sum += i\n",
        "print(sum)"
      ],
      "metadata": {
        "colab": {
          "base_uri": "https://localhost:8080/"
        },
        "id": "I3fFg4AUGy7H",
        "outputId": "92f1878d-792f-4cc4-f76c-13aa4bc1b003"
      },
      "execution_count": null,
      "outputs": [
        {
          "output_type": "stream",
          "name": "stdout",
          "text": [
            "시작값 : 1\n",
            "종료값 : 10\n",
            "30\n"
          ]
        }
      ]
    },
    {
      "cell_type": "code",
      "source": [
        "a_odd = []\n",
        "a_even = []\n",
        "odd = 0\n",
        "even = 0\n",
        "i = int(input(\"시작값 : \"))\n",
        "f = int(input(\"종료값 : \"))\n",
        "for i in range(i, f+1, 1):\n",
        "  if i % 2 == 0:\n",
        "    a_odd.append(i)\n",
        "    odd += i\n",
        "  else:\n",
        "    a_even.append(i)\n",
        "    even += i\n",
        "print(\"홀수는 : %d, 짝수는 : \" %even, odd)"
      ],
      "metadata": {
        "colab": {
          "base_uri": "https://localhost:8080/"
        },
        "id": "paJjhS7-G4mf",
        "outputId": "9d637a91-6ebe-4253-c8f3-6cd840ce79f1"
      },
      "execution_count": null,
      "outputs": [
        {
          "output_type": "stream",
          "name": "stdout",
          "text": [
            "시작값 : 1\n",
            "종료값 : 10\n",
            "홀수는 : 25, 짝수는 :  30\n"
          ]
        }
      ]
    },
    {
      "cell_type": "code",
      "source": [
        "a = []\n",
        "sum = 0\n",
        "i = 0\n",
        "while(i <= 10):\n",
        "  a.append(i)\n",
        "  sum += i\n",
        "  i+=1\n",
        "print(sum)"
      ],
      "metadata": {
        "colab": {
          "base_uri": "https://localhost:8080/"
        },
        "id": "p48gm2S6Ho8w",
        "outputId": "59218f89-3aa6-4939-e09e-51156d8ed131"
      },
      "execution_count": null,
      "outputs": [
        {
          "output_type": "stream",
          "name": "stdout",
          "text": [
            "55\n"
          ]
        }
      ]
    },
    {
      "cell_type": "code",
      "source": [
        "a = []\n",
        "sum = 0\n",
        "i = 0\n",
        "while(i < 100):\n",
        "  i+=1\n",
        "  a.append(i)\n",
        "  sum += i\n",
        "print(sum)"
      ],
      "metadata": {
        "colab": {
          "base_uri": "https://localhost:8080/"
        },
        "id": "gAiIR-U6IamZ",
        "outputId": "f980b3ef-6aa4-4e6f-b2db-8ad26149cdb5"
      },
      "execution_count": null,
      "outputs": [
        {
          "output_type": "stream",
          "name": "stdout",
          "text": [
            "5050\n"
          ]
        }
      ]
    },
    {
      "cell_type": "code",
      "source": [
        "a = []\n",
        "sum = 0\n",
        "i = 0\n",
        "while(i < 10):\n",
        "  i+=1\n",
        "  if i % 2 != 0:\n",
        "    a.append(i)\n",
        "    sum += i\n",
        "print(sum)"
      ],
      "metadata": {
        "colab": {
          "base_uri": "https://localhost:8080/"
        },
        "id": "fSVeFIafIeqQ",
        "outputId": "375b7f1a-5775-4a09-a198-09bb29960396"
      },
      "execution_count": null,
      "outputs": [
        {
          "output_type": "stream",
          "name": "stdout",
          "text": [
            "25\n"
          ]
        }
      ]
    },
    {
      "cell_type": "code",
      "source": [
        "a = []\n",
        "sum = 0\n",
        "i = 0\n",
        "while(i < 10):\n",
        "  i+=1\n",
        "  if i % 2 == 0:\n",
        "    a.append(i)\n",
        "    sum += i\n",
        "print(sum)"
      ],
      "metadata": {
        "colab": {
          "base_uri": "https://localhost:8080/"
        },
        "id": "eytYLHxAIomf",
        "outputId": "2915cd26-1d57-41f9-d358-2a4dde165430"
      },
      "execution_count": null,
      "outputs": [
        {
          "output_type": "stream",
          "name": "stdout",
          "text": [
            "30\n"
          ]
        }
      ]
    },
    {
      "cell_type": "code",
      "source": [
        "a = []\n",
        "sum = 0\n",
        "i = 1\n",
        "while(i < 200):\n",
        "  i+=1\n",
        "  if i % 3 == 0:\n",
        "    a.append(i)\n",
        "    sum += i\n",
        "print(sum)"
      ],
      "metadata": {
        "colab": {
          "base_uri": "https://localhost:8080/"
        },
        "id": "fkZmJCH4ItgY",
        "outputId": "358c2b10-26c9-4622-b6c9-80f5733f2cd8"
      },
      "execution_count": null,
      "outputs": [
        {
          "output_type": "stream",
          "name": "stdout",
          "text": [
            "6633\n"
          ]
        }
      ]
    },
    {
      "cell_type": "code",
      "source": [
        "a = []\n",
        "sum = 0\n",
        "i = 1\n",
        "while(i < 10):\n",
        "  i+=1\n",
        "  if i % 3 != 0:\n",
        "    a.append(i)\n",
        "print(a)"
      ],
      "metadata": {
        "colab": {
          "base_uri": "https://localhost:8080/"
        },
        "id": "lxUcPl1HI3Gw",
        "outputId": "6f095867-2d45-4c5d-e27b-428e0def3928"
      },
      "execution_count": null,
      "outputs": [
        {
          "output_type": "stream",
          "name": "stdout",
          "text": [
            "[2, 4, 5, 7, 8, 10]\n"
          ]
        }
      ]
    },
    {
      "cell_type": "code",
      "source": [
        "a = []\n",
        "sum = 0\n",
        "i = int(input(\"시작값 : \"))\n",
        "f = int(input(\"종료값 : \"))\n",
        "while(i < f):\n",
        "  i+=1\n",
        "  a.append(i)\n",
        "  sum += i\n",
        "print(sum)"
      ],
      "metadata": {
        "colab": {
          "base_uri": "https://localhost:8080/"
        },
        "id": "pQPPE55bJCBB",
        "outputId": "96b6f1f9-d6fc-4745-b60d-96fd97b37098"
      },
      "execution_count": null,
      "outputs": [
        {
          "output_type": "stream",
          "name": "stdout",
          "text": [
            "시작값 : 0\n",
            "종료값 : 10\n",
            "55\n"
          ]
        }
      ]
    },
    {
      "cell_type": "code",
      "source": [
        "a = []\n",
        "sum = 0\n",
        "i = int(input(\"시작값 : \"))\n",
        "f = int(input(\"종료값 : \"))\n",
        "while(i <= f):\n",
        "  if i % 2 != 0:\n",
        "    a.append(i)\n",
        "    sum += i\n",
        "  i+=1\n",
        "print(a, sum)"
      ],
      "metadata": {
        "colab": {
          "base_uri": "https://localhost:8080/"
        },
        "id": "_-2QN1ntJiUx",
        "outputId": "d7155159-811b-4d07-d1ff-0866c95a0ac7"
      },
      "execution_count": null,
      "outputs": [
        {
          "output_type": "stream",
          "name": "stdout",
          "text": [
            "시작값 : 1\n",
            "종료값 : 10\n",
            "[1, 3, 5, 7, 9] 25\n"
          ]
        }
      ]
    },
    {
      "cell_type": "code",
      "source": [
        "a = []\n",
        "sum = 0\n",
        "i = int(input(\"시작값 : \"))\n",
        "f = int(input(\"종료값 : \"))\n",
        "while(i <= f):\n",
        "  i+=1\n",
        "  if i % 2 == 0:\n",
        "    a.append(i)\n",
        "    sum += i\n",
        "print(sum)"
      ],
      "metadata": {
        "colab": {
          "base_uri": "https://localhost:8080/"
        },
        "id": "Trf48j2kJ3bZ",
        "outputId": "542aad26-421b-4cc2-f244-072d1715ba30"
      },
      "execution_count": null,
      "outputs": [
        {
          "output_type": "stream",
          "name": "stdout",
          "text": [
            "시작값 : 1\n",
            "종료값 : 10\n",
            "30\n"
          ]
        }
      ]
    },
    {
      "cell_type": "code",
      "source": [
        "a_odd = []\n",
        "a_even = []\n",
        "odd = 0\n",
        "even = 0\n",
        "i = int(input(\"시작값 : \"))\n",
        "f = int(input(\"종료값 : \"))\n",
        "while(i <= f):\n",
        "  if i % 2 == 0:\n",
        "    a_odd.append(i)\n",
        "    odd += i\n",
        "  elif i % 2 != 0:\n",
        "    a_even.append(i)\n",
        "    even += i\n",
        "  i+=1\n",
        "print(\"홀수는 : %d, 짝수는 : \" %even, odd)"
      ],
      "metadata": {
        "colab": {
          "base_uri": "https://localhost:8080/"
        },
        "id": "LzGq0ihDJ_0B",
        "outputId": "a7bd8757-44c4-4047-b0c2-9178ef21c431"
      },
      "execution_count": null,
      "outputs": [
        {
          "output_type": "stream",
          "name": "stdout",
          "text": [
            "시작값 : 1\n",
            "종료값 : 10\n",
            "홀수는 : 25, 짝수는 :  30\n"
          ]
        }
      ]
    },
    {
      "cell_type": "code",
      "source": [],
      "metadata": {
        "id": "EZU7lRFMWGZz"
      },
      "execution_count": null,
      "outputs": []
    }
  ]
}