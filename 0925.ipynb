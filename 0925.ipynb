{
  "nbformat": 4,
  "nbformat_minor": 0,
  "metadata": {
    "colab": {
      "provenance": [],
      "authorship_tag": "ABX9TyOSHhhudOd9BXFDFDUcHhbO"
    },
    "kernelspec": {
      "name": "python3",
      "display_name": "Python 3"
    },
    "language_info": {
      "name": "python"
    }
  },
  "cells": [
    {
      "cell_type": "code",
      "execution_count": null,
      "metadata": {
        "colab": {
          "base_uri": "https://localhost:8080/"
        },
        "id": "vokeEvmqt8EY",
        "outputId": "9c24d6ec-cadf-4f97-ba18-0ff08936dac4"
      },
      "outputs": [
        {
          "output_type": "stream",
          "name": "stdout",
          "text": [
            "정수를 입력해주세요 : 0\n",
            "입력하신 정수는 0입니다.\n"
          ]
        }
      ],
      "source": [
        "num = int(input(\"정수를 입력해주세요 : \"))\n",
        "\n",
        "if num == 0:\n",
        "  print(\"입력하신 정수는 0입니다.\")\n",
        "\n",
        "elif num > 0:\n",
        "  print(\"입력하신 정수는 양수입니다.\")\n",
        "\n",
        "else:\n",
        "  print(\"입력하신 정수는 음수입니다.\")"
      ]
    },
    {
      "cell_type": "code",
      "source": [
        "year = int(input(\"출생연도를 알려주세요 : \"))\n",
        "\n",
        "old = 2023 - year\n",
        "\n",
        "print(\"당신은 올해 %d 살입니다.\" %(old))\n",
        "\n",
        "if old >= 20:\n",
        "  print(\"당신은 성인입니다.\")"
      ],
      "metadata": {
        "colab": {
          "base_uri": "https://localhost:8080/"
        },
        "id": "oNQvaY8rzNoR",
        "outputId": "62f962fc-b312-4615-bb65-d4b0924d2966"
      },
      "execution_count": null,
      "outputs": [
        {
          "output_type": "stream",
          "name": "stdout",
          "text": [
            "출생연도를 알려주세요 : 2003\n",
            "당신은 올해 20 살입니다.\n",
            "당신은 성인입니다.\n"
          ]
        }
      ]
    },
    {
      "cell_type": "code",
      "source": [
        "k_hour = int(input(\"한국은 몇시입니까? : \"))\n",
        "k_min = int(input(\"몇분입니까? : \"))\n",
        "\n",
        "if k_hour >= 8:\n",
        "  f_hour = k_hour - 8\n",
        "\n",
        "else:\n",
        "  f_hour = k_hour + 24 - 8\n",
        "\n",
        "print(\"프랑스는 %d시 %d분 입니다.\" %(f_hour, k_min))"
      ],
      "metadata": {
        "colab": {
          "base_uri": "https://localhost:8080/"
        },
        "id": "iwMOTBhSz6Oh",
        "outputId": "ae7895c3-c82a-492d-b6dc-4a908268f6a3"
      },
      "execution_count": null,
      "outputs": [
        {
          "output_type": "stream",
          "name": "stdout",
          "text": [
            "한국은 몇시입니까? : 7\n",
            "몇분입니까? : 30\n",
            "프랑스는 23시 30분 입니다.\n"
          ]
        }
      ]
    },
    {
      "cell_type": "code",
      "source": [
        "score = int(input(\"성적을 입력하세요 : \"))\n",
        "\n",
        "if score>=80 :\n",
        "    print(\"A\")\n",
        "\n",
        "elif score>=60 :\n",
        "    print(\"B\")\n",
        "\n",
        "else :\n",
        "    print(\"C\")"
      ],
      "metadata": {
        "colab": {
          "base_uri": "https://localhost:8080/"
        },
        "id": "GqEQpYH21LdI",
        "outputId": "ca4b5a0d-ba4b-4e4d-d88d-4400864ed805"
      },
      "execution_count": null,
      "outputs": [
        {
          "output_type": "stream",
          "name": "stdout",
          "text": [
            "성적을 입력하세요 : 50\n",
            "C\n"
          ]
        }
      ]
    },
    {
      "cell_type": "code",
      "source": [
        "num = int(input(\"정수를 입력하세요 : \"))\n",
        "\n",
        "if num > 0 and num % 3 == 0 :\n",
        "  print(\"당신이 입력한 수는 3의 배수 입니다.\")\n",
        "\n",
        "elif num <= 0 :\n",
        "  print(\"판별할 수 없는 수를 입력하셨습니다.\"),\n",
        "  print(\"양의 정수만 판별이 가능합니다.\")\n",
        "\n",
        "else :\n",
        "  print(\"3의 배수가 아닙니다.\")"
      ],
      "metadata": {
        "colab": {
          "base_uri": "https://localhost:8080/"
        },
        "id": "4XCOeS_52TtY",
        "outputId": "c4c66e6a-925b-48b3-96ee-1ba354dab0a2"
      },
      "execution_count": null,
      "outputs": [
        {
          "output_type": "stream",
          "name": "stdout",
          "text": [
            "정수를 입력하세요 : -6\n",
            "판별할 수 없는 수를 입력하셨습니다.\n",
            "양의 정수만 판별이 가능합니다.\n"
          ]
        }
      ]
    },
    {
      "cell_type": "code",
      "source": [
        "num = int(input(\"정수를 입력하세요 : \"))\n",
        "\n",
        "if num % 2 != 0 :\n",
        "  print(\"%d는 2의 배수가 아닙니다.\" %num)\n",
        "\n",
        "if num % 2 == 0 :\n",
        "  print(\"%d는 2의 배수입니다.\" %num)\n",
        "\n",
        "if num % 3 != 0 :\n",
        "  print(\"%d는 3의 배수가 아닙니다.\" %num)\n",
        "\n",
        "if num % 3 == 0 :\n",
        "  print(\"%d는 3의 배수입니다.\" %num)\n",
        "\n",
        "if num % 5 != 0 :\n",
        "  print(\"%d는 5의 배수가 아닙니다.\" %num)\n",
        "\n",
        "if num % 5 == 0 :\n",
        "  print(\"%d는 5의 배수입니다.\" %num)"
      ],
      "metadata": {
        "colab": {
          "base_uri": "https://localhost:8080/"
        },
        "id": "vCgLIL3n8YpH",
        "outputId": "ba6d5fca-9054-4d9f-b948-67233398d2e6"
      },
      "execution_count": null,
      "outputs": [
        {
          "output_type": "stream",
          "name": "stdout",
          "text": [
            "정수를 입력하세요 : 7\n",
            "7는 2의 배수가 아닙니다.\n",
            "7는 3의 배수가 아닙니다.\n",
            "7는 5의 배수가 아닙니다.\n"
          ]
        }
      ]
    },
    {
      "cell_type": "code",
      "source": [
        "quiz = int(input(\"퀴즈 점수를 입력하세요 : \"))\n",
        "test_1 = int(input(\"중간고사 성적을 입력하세요 : \"))\n",
        "test_2 = int(input(\"기말고사 성적을 입력하세요 : \"))\n",
        "\n",
        "score = (quiz * 0.2) + (test_1 * 0.3) + (test_2 * 0.5)\n",
        "\n",
        "print(\"점수는 %d점입니다.\" %score)\n",
        "\n",
        "if score >= 70 :\n",
        "    print(\"pass\")\n",
        "\n",
        "else :\n",
        "    print(\"fail\")"
      ],
      "metadata": {
        "id": "ovhyVZww3OsO"
      },
      "execution_count": null,
      "outputs": []
    },
    {
      "cell_type": "code",
      "source": [
        "temp = int(input(\"기온을 입력해주세요 : \"))\n",
        "\n",
        "if temp >= 20 :\n",
        "  print(\"덥게 느껴지는 날씨입니다. 반팔티도 괜찮습니다.\")\n",
        "\n",
        "elif temp >= 16 :\n",
        "  print(\"생활하기 좋은 기온입니다. 가볍게 입으세요.\")\n",
        "\n",
        "elif temp >= 11 :\n",
        "  print(\"날씨가 선선하네요. 가벼운 외투를 챙기세요.\")\n",
        "\n",
        "else :\n",
        "  print(\"날씨가 춥습니다. 두꺼운 외투를 챙기세요.\")"
      ],
      "metadata": {
        "colab": {
          "base_uri": "https://localhost:8080/"
        },
        "id": "g97T4oED3ZpW",
        "outputId": "a5a8dcc5-5f7e-4c97-8f71-5a0899d0c32e"
      },
      "execution_count": null,
      "outputs": [
        {
          "output_type": "stream",
          "name": "stdout",
          "text": [
            "기온을 입력해주세요 : -9\n",
            "날씨가 춥습니다. 두꺼운 외투를 챙기세요.\n"
          ]
        }
      ]
    },
    {
      "cell_type": "code",
      "source": [
        "import datetime as dt\n",
        "\n",
        "born = int(input(\"출생연도를 알려주세요 : \"))\n",
        "\n",
        "today = dt.date.today()\n",
        "year = today.year\n",
        "\n",
        "old = year - born\n",
        "\n",
        "if old >= 27:\n",
        "  print(\"직장인\")\n",
        "\n",
        "elif old >= 20:\n",
        "  print(\"대학생\")\n",
        "\n",
        "elif old >= 17:\n",
        "  print(\"고등학생\")\n",
        "\n",
        "elif old >= 14:\n",
        "  print(\"중학생\")\n",
        "\n",
        "elif old >= 8:\n",
        "  print(\"초등학생\")\n",
        "\n",
        "elif old >= 1:\n",
        "  print(\"어린이\")"
      ],
      "metadata": {
        "colab": {
          "base_uri": "https://localhost:8080/"
        },
        "id": "gHAPMual6gzn",
        "outputId": "e41e2967-3ca4-49a0-e328-712289b66104"
      },
      "execution_count": null,
      "outputs": [
        {
          "output_type": "stream",
          "name": "stdout",
          "text": [
            "출생연도를 알려주세요 : 2003\n",
            "대학생\n"
          ]
        }
      ]
    },
    {
      "cell_type": "code",
      "source": [
        "height = int(input(\"키를 입력하세요 : \"))\n",
        "weight = int(input(\"몸무게를 입력하세요 : \"))\n",
        "\n",
        "norm = (height - 100) * 0.9\n",
        "\n",
        "if weight / norm >= 1.3 :\n",
        "  print(\"비만입니다. 식사량을 줄이고 주 3일 동안 운동하세요.\")\n",
        "\n",
        "elif weight / norm >= 1.15 :\n",
        "  print(\"과체중입니다. 약간 살이 쪘네요. 주 2일은 운동하세요.\")\n",
        "\n",
        "elif weight / norm >= 0.85 :\n",
        "  print(\"정상 몸무게입니다. 지금 체중을 잘 유지하세요.\")\n",
        "\n",
        "else :\n",
        "  print(\"저체중입니다. 제 때에 많이 먹고 운동도 하세요.\")"
      ],
      "metadata": {
        "colab": {
          "base_uri": "https://localhost:8080/"
        },
        "id": "wDQHfuZ_7X9O",
        "outputId": "c8b6ed91-08b4-4c91-e1d6-d1018d869977"
      },
      "execution_count": null,
      "outputs": [
        {
          "output_type": "stream",
          "name": "stdout",
          "text": [
            "키를 입력하세요 : 180\n",
            "몸무게를 입력하세요 : 90\n",
            "과체중입니다. 약간 살이 쪘네요. 주 2일은 운동하세요.\n"
          ]
        }
      ]
    },
    {
      "cell_type": "code",
      "source": [
        "height = int(input(\"키를 입력하세요 : \"))\n",
        "weight = int(input(\"몸무게를 입력하세요 : \"))\n",
        "\n",
        "bmi = weight / ((height*0.01)*(height*0.01))\n",
        "\n",
        "if bmi > 40 :\n",
        "  print(\"고도비만\")\n",
        "\n",
        "elif bmi > 30 :\n",
        "  print(\"비만\")\n",
        "\n",
        "elif bmi > 25 :\n",
        "  print(\"과체중\")\n",
        "\n",
        "elif bmi > 20 :\n",
        "  print(\"정상\")\n",
        "\n",
        "else :\n",
        "  print(\"저체중\")"
      ],
      "metadata": {
        "colab": {
          "base_uri": "https://localhost:8080/"
        },
        "id": "yJRnFTyf-o03",
        "outputId": "d5e84177-d818-48cc-81f5-7b62da4000ce"
      },
      "execution_count": null,
      "outputs": [
        {
          "output_type": "stream",
          "name": "stdout",
          "text": [
            "키를 입력하세요 : 180\n",
            "몸무게를 입력하세요 : 80\n",
            "정상\n"
          ]
        }
      ]
    },
    {
      "cell_type": "code",
      "source": [
        "t1 = int(input(\"성적을 입력하세요 : \"))\n",
        "t2 = int(input(\"성적을 입력하세요 : \"))\n",
        "t3 = int(input(\"성적을 입력하세요 : \"))\n",
        "\n",
        "score = (t1 + t2 + t3) / 3\n",
        "\n",
        "if score >= 60 :\n",
        "  print(\"pass\")\n",
        "\n",
        "if t1 and t2 and t3 >= 40 :\n",
        "  print(\"pass\")\n",
        "\n",
        "else :\n",
        "    print(\"fail\")"
      ],
      "metadata": {
        "colab": {
          "base_uri": "https://localhost:8080/"
        },
        "id": "8gYRBZqMMyHN",
        "outputId": "da6ba203-5b04-4e6c-d8c3-ef02a9596f1b"
      },
      "execution_count": null,
      "outputs": [
        {
          "output_type": "stream",
          "name": "stdout",
          "text": [
            "성적을 입력하세요 : 50\n",
            "성적을 입력하세요 : 50\n",
            "성적을 입력하세요 : 50\n",
            "pass\n"
          ]
        }
      ]
    }
  ]
}