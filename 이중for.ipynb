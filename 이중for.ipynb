{
  "nbformat": 4,
  "nbformat_minor": 0,
  "metadata": {
    "colab": {
      "provenance": [],
      "authorship_tag": "ABX9TyPuS2VKbKV26qhXG8ivlDR5"
    },
    "kernelspec": {
      "name": "python3",
      "display_name": "Python 3"
    }
  },
  "cells": [
    {
      "cell_type": "code",
      "metadata": {
        "colab": {
          "base_uri": "https://localhost:8080/"
        },
        "id": "wPfJklmkYdgF",
        "outputId": "285cd611-5f49-4693-caf9-0736cc871f7a"
      },
      "source": [
        "for i in range(2, 10):\n",
        "  for j in range(1, 10):\n",
        "    print('{} * {} = {}' .format(i, j, j*i))\n",
        "\n",
        "  print('\\n')"
      ],
      "execution_count": null,
      "outputs": [
        {
          "output_type": "stream",
          "text": [
            "2 * 1 = 2\n",
            "2 * 2 = 4\n",
            "2 * 3 = 6\n",
            "2 * 4 = 8\n",
            "2 * 5 = 10\n",
            "2 * 6 = 12\n",
            "2 * 7 = 14\n",
            "2 * 8 = 16\n",
            "2 * 9 = 18\n",
            "\n",
            "\n",
            "3 * 1 = 3\n",
            "3 * 2 = 6\n",
            "3 * 3 = 9\n",
            "3 * 4 = 12\n",
            "3 * 5 = 15\n",
            "3 * 6 = 18\n",
            "3 * 7 = 21\n",
            "3 * 8 = 24\n",
            "3 * 9 = 27\n",
            "\n",
            "\n",
            "4 * 1 = 4\n",
            "4 * 2 = 8\n",
            "4 * 3 = 12\n",
            "4 * 4 = 16\n",
            "4 * 5 = 20\n",
            "4 * 6 = 24\n",
            "4 * 7 = 28\n",
            "4 * 8 = 32\n",
            "4 * 9 = 36\n",
            "\n",
            "\n",
            "5 * 1 = 5\n",
            "5 * 2 = 10\n",
            "5 * 3 = 15\n",
            "5 * 4 = 20\n",
            "5 * 5 = 25\n",
            "5 * 6 = 30\n",
            "5 * 7 = 35\n",
            "5 * 8 = 40\n",
            "5 * 9 = 45\n",
            "\n",
            "\n",
            "6 * 1 = 6\n",
            "6 * 2 = 12\n",
            "6 * 3 = 18\n",
            "6 * 4 = 24\n",
            "6 * 5 = 30\n",
            "6 * 6 = 36\n",
            "6 * 7 = 42\n",
            "6 * 8 = 48\n",
            "6 * 9 = 54\n",
            "\n",
            "\n",
            "7 * 1 = 7\n",
            "7 * 2 = 14\n",
            "7 * 3 = 21\n",
            "7 * 4 = 28\n",
            "7 * 5 = 35\n",
            "7 * 6 = 42\n",
            "7 * 7 = 49\n",
            "7 * 8 = 56\n",
            "7 * 9 = 63\n",
            "\n",
            "\n",
            "8 * 1 = 8\n",
            "8 * 2 = 16\n",
            "8 * 3 = 24\n",
            "8 * 4 = 32\n",
            "8 * 5 = 40\n",
            "8 * 6 = 48\n",
            "8 * 7 = 56\n",
            "8 * 8 = 64\n",
            "8 * 9 = 72\n",
            "\n",
            "\n",
            "9 * 1 = 9\n",
            "9 * 2 = 18\n",
            "9 * 3 = 27\n",
            "9 * 4 = 36\n",
            "9 * 5 = 45\n",
            "9 * 6 = 54\n",
            "9 * 7 = 63\n",
            "9 * 8 = 72\n",
            "9 * 9 = 81\n",
            "\n",
            "\n"
          ],
          "name": "stdout"
        }
      ]
    },
    {
      "cell_type": "code",
      "metadata": {
        "colab": {
          "base_uri": "https://localhost:8080/"
        },
        "id": "jiluLogJY6KR",
        "outputId": "81352c5e-a5ff-49cb-d4cf-1e507db1b3b3"
      },
      "source": [
        " for i in range(1, 6):\n",
        "   for j in range(1, 6):\n",
        "     print('*', end = '')\n",
        "\n",
        "   print()"
      ],
      "execution_count": null,
      "outputs": [
        {
          "output_type": "stream",
          "text": [
            "*****\n",
            "*****\n",
            "*****\n",
            "*****\n",
            "*****\n"
          ],
          "name": "stdout"
        }
      ]
    },
    {
      "cell_type": "code",
      "metadata": {
        "colab": {
          "base_uri": "https://localhost:8080/"
        },
        "id": "CNFvaPBNa157",
        "outputId": "d5120b8b-a2e2-4e00-a6d8-0787b185df06"
      },
      "source": [
        " for i in range(1, 11):\n",
        "   for j in range(1, i+1):\n",
        "     print('*', end = '')\n",
        "\n",
        "   print()"
      ],
      "execution_count": null,
      "outputs": [
        {
          "output_type": "stream",
          "text": [
            "*\n",
            "**\n",
            "***\n",
            "****\n",
            "*****\n",
            "******\n",
            "*******\n",
            "********\n",
            "*********\n",
            "**********\n"
          ],
          "name": "stdout"
        }
      ]
    },
    {
      "cell_type": "code",
      "metadata": {
        "colab": {
          "base_uri": "https://localhost:8080/"
        },
        "id": "VB9KzljobNJE",
        "outputId": "1bf323bf-bb37-4f7a-e1b3-c1fa0e5e1969"
      },
      "source": [
        " for i in range(1, 11):\n",
        "   for j in range(1, 10-i+1):\n",
        "     print(' ', end = '')\n",
        "   for k in range(1, i+1):\n",
        "     print('*', end = '')\n",
        "   print()"
      ],
      "execution_count": null,
      "outputs": [
        {
          "output_type": "stream",
          "text": [
            "         *\n",
            "        **\n",
            "       ***\n",
            "      ****\n",
            "     *****\n",
            "    ******\n",
            "   *******\n",
            "  ********\n",
            " *********\n",
            "**********\n"
          ],
          "name": "stdout"
        }
      ]
    },
    {
      "cell_type": "code",
      "metadata": {
        "colab": {
          "base_uri": "https://localhost:8080/"
        },
        "id": "VvF88Hrnbn6X",
        "outputId": "a4be11c4-83b9-4e29-81bb-5d463b7f8da6"
      },
      "source": [
        "sum = 0\n",
        "i = 1\n",
        "\n",
        "while i <= 10:\n",
        "  sum += i\n",
        "\n",
        "  print('i의 값 : {} => 합계 : {}' .format(1, sum))\n",
        "\n",
        "  i+= 1"
      ],
      "execution_count": null,
      "outputs": [
        {
          "output_type": "stream",
          "text": [
            "i의 값 : 1 => 합계 : 1\n",
            "i의 값 : 1 => 합계 : 3\n",
            "i의 값 : 1 => 합계 : 6\n",
            "i의 값 : 1 => 합계 : 10\n",
            "i의 값 : 1 => 합계 : 15\n",
            "i의 값 : 1 => 합계 : 21\n",
            "i의 값 : 1 => 합계 : 28\n",
            "i의 값 : 1 => 합계 : 36\n",
            "i의 값 : 1 => 합계 : 45\n",
            "i의 값 : 1 => 합계 : 55\n"
          ],
          "name": "stdout"
        }
      ]
    },
    {
      "cell_type": "code",
      "metadata": {
        "colab": {
          "base_uri": "https://localhost:8080/"
        },
        "id": "Wd1wm63udStr",
        "outputId": "6facb34f-680b-4aa2-f4db-489a1e69c583"
      },
      "source": [
        "sum = 0\n",
        "\n",
        "for i in range(1, 11):\n",
        "  sum += i\n",
        "\n",
        "  if i == 5:\n",
        "    break\n",
        "\n",
        "print(sum)"
      ],
      "execution_count": null,
      "outputs": [
        {
          "output_type": "stream",
          "text": [
            "15\n"
          ],
          "name": "stdout"
        }
      ]
    },
    {
      "cell_type": "code",
      "metadata": {
        "colab": {
          "base_uri": "https://localhost:8080/"
        },
        "id": "FRfLarsKd4Y_",
        "outputId": "cdd4371c-ad1f-4a78-a1aa-2997d4801dcd"
      },
      "source": [
        " for i in range(1, 6):\n",
        "   for j in range(1, 11):\n",
        "     print('*', end = ' ')\n",
        "\n",
        "   print()"
      ],
      "execution_count": null,
      "outputs": [
        {
          "output_type": "stream",
          "text": [
            "* * * * * * * * * * \n",
            "* * * * * * * * * * \n",
            "* * * * * * * * * * \n",
            "* * * * * * * * * * \n",
            "* * * * * * * * * * \n"
          ],
          "name": "stdout"
        }
      ]
    },
    {
      "cell_type": "code",
      "metadata": {
        "colab": {
          "base_uri": "https://localhost:8080/"
        },
        "id": "UF2S82A4eFOs",
        "outputId": "728c312f-902e-404a-a836-da58cbc00686"
      },
      "source": [
        "i = 0\n",
        "\n",
        "while i < 5:\n",
        "  j = 0\n",
        "\n",
        "  while j < 10:\n",
        "    print('*', end = ' ')\n",
        "\n",
        "    j += 1\n",
        "\n",
        "  print()\n",
        "  i += 1"
      ],
      "execution_count": null,
      "outputs": [
        {
          "output_type": "stream",
          "text": [
            "* * * * * * * * * * \n",
            "* * * * * * * * * * \n",
            "* * * * * * * * * * \n",
            "* * * * * * * * * * \n",
            "* * * * * * * * * * \n"
          ],
          "name": "stdout"
        }
      ]
    },
    {
      "cell_type": "code",
      "metadata": {
        "colab": {
          "base_uri": "https://localhost:8080/"
        },
        "id": "q_A88XB5eXAF",
        "outputId": "fb1ed870-f5ad-4280-f94e-a233b1fa5ec1"
      },
      "source": [
        " for i in range(6, 0, -1):\n",
        "   for j in range(i):\n",
        "     print(i, end = ' ')\n",
        "\n",
        "   print()"
      ],
      "execution_count": null,
      "outputs": [
        {
          "output_type": "stream",
          "text": [
            "6 6 6 6 6 6 \n",
            "5 5 5 5 5 \n",
            "4 4 4 4 \n",
            "3 3 3 \n",
            "2 2 \n",
            "1 \n"
          ],
          "name": "stdout"
        }
      ]
    },
    {
      "cell_type": "code",
      "metadata": {
        "colab": {
          "base_uri": "https://localhost:8080/"
        },
        "id": "nhrvKFaUekAl",
        "outputId": "3c4494cf-3681-4a0d-c3f2-2f68e72beda4"
      },
      "source": [
        " for i in range(6):\n",
        "   for j in range(i+1):\n",
        "     print(j, end = ' ')\n",
        "\n",
        "   print()\n",
        "   i -= 1"
      ],
      "execution_count": null,
      "outputs": [
        {
          "output_type": "stream",
          "text": [
            "0 \n",
            "0 1 \n",
            "0 1 2 \n",
            "0 1 2 3 \n",
            "0 1 2 3 4 \n",
            "0 1 2 3 4 5 \n"
          ],
          "name": "stdout"
        }
      ]
    },
    {
      "cell_type": "code",
      "metadata": {
        "colab": {
          "base_uri": "https://localhost:8080/"
        },
        "id": "lh4l06y-e0YK",
        "outputId": "b0faeff8-159b-48d9-ff29-59f9365d0203"
      },
      "source": [
        "name = ['유재석', '조세호', '최준', '양세형', '장도연']\n",
        "\n",
        "print(name[0])\n",
        "print(name[-1])\n",
        "print(name[0:3])\n",
        "print(name[0:])\n",
        "print(name[2:5])\n",
        "print(name[-4:-1])"
      ],
      "execution_count": null,
      "outputs": [
        {
          "output_type": "stream",
          "text": [
            "유재석\n",
            "장도연\n",
            "['유재석', '조세호', '최준']\n",
            "['유재석', '조세호', '최준', '양세형', '장도연']\n",
            "['최준', '양세형', '장도연']\n",
            "['조세호', '최준', '양세형']\n"
          ],
          "name": "stdout"
        }
      ]
    },
    {
      "cell_type": "code",
      "metadata": {
        "colab": {
          "base_uri": "https://localhost:8080/"
        },
        "id": "G08-7dd5g30Y",
        "outputId": "803388bd-a84e-4c5a-a7d1-bb236b26f9fa"
      },
      "source": [
        "fruit = []\n",
        "fruit.append('apple')\n",
        "fruit.append('melon')\n",
        "fruit.append('peach')\n",
        "fruit.append('mango')\n",
        "fruit.append('banana')\n",
        "\n",
        "fruit.insert(1, 'pineapple')\n",
        "\n",
        "print(fruit)\n",
        "\n",
        "fruit.remove('banana')\n",
        "\n",
        "print(fruit)\n",
        "\n",
        "fruit.pop(1)\n",
        "\n",
        "print(fruit)\n",
        "print(fruit.sort)\n",
        "print(fruit)"
      ],
      "execution_count": null,
      "outputs": [
        {
          "output_type": "stream",
          "text": [
            "['apple', 'pineapple', 'melon', 'peach', 'mango', 'banana']\n",
            "['apple', 'pineapple', 'melon', 'peach', 'mango']\n",
            "['apple', 'melon', 'peach', 'mango']\n",
            "<built-in method sort of list object at 0x7f6f4b147410>\n",
            "['apple', 'melon', 'peach', 'mango']\n"
          ],
          "name": "stdout"
        }
      ]
    },
    {
      "cell_type": "code",
      "metadata": {
        "id": "vHvc6Tg1huKa"
      },
      "source": [],
      "execution_count": null,
      "outputs": []
    }
  ]
}