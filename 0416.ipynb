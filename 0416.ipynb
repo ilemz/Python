{
  "nbformat": 4,
  "nbformat_minor": 0,
  "metadata": {
    "colab": {
      "provenance": [],
      "authorship_tag": "ABX9TyN7qLJHIO9h2XCBuyY28zHn"
    },
    "kernelspec": {
      "name": "python3",
      "display_name": "Python 3"
    },
    "language_info": {
      "name": "python"
    }
  },
  "cells": [
    {
      "cell_type": "code",
      "execution_count": null,
      "metadata": {
        "colab": {
          "base_uri": "https://localhost:8080/"
        },
        "id": "gSzARliAc_Li",
        "outputId": "755ab171-fa6e-4eb5-eb77-427ca1fb09cf"
      },
      "outputs": [
        {
          "output_type": "stream",
          "name": "stdout",
          "text": [
            "[90, 80, 70, 60, 50, 40, 30, 20, 10]\n"
          ]
        }
      ],
      "source": [
        "numbers = [10, 20, 30, 40, 50, 60, 70, 80, 90]\n",
        "\n",
        "print(numbers[::-1])"
      ]
    },
    {
      "cell_type": "code",
      "source": [
        "lst = [1, 2, 3, 4, 5, 6, 7, 8]\n",
        "lst[0:3] = ['white', 'blue', 'red']\n",
        "\n",
        "lst"
      ],
      "metadata": {
        "colab": {
          "base_uri": "https://localhost:8080/"
        },
        "id": "WaH7FZuYdJgJ",
        "outputId": "934993c3-0510-4745-dd12-780404872183"
      },
      "execution_count": null,
      "outputs": [
        {
          "output_type": "execute_result",
          "data": {
            "text/plain": [
              "['white', 'blue', 'red', 4, 5, 6, 7, 8]"
            ]
          },
          "metadata": {},
          "execution_count": 7
        }
      ]
    },
    {
      "cell_type": "code",
      "source": [
        "lst = [1, 2, 3, 4, 5, 6, 7, 8]\n",
        "lst[::2] = [99, 99, 99, 99]\n",
        "\n",
        "lst"
      ],
      "metadata": {
        "colab": {
          "base_uri": "https://localhost:8080/"
        },
        "id": "aZfKmx5TdfwQ",
        "outputId": "7686edf8-bf65-4bb3-96e8-7dad1cbcf709"
      },
      "execution_count": null,
      "outputs": [
        {
          "output_type": "execute_result",
          "data": {
            "text/plain": [
              "[99, 2, 99, 4, 99, 6, 99, 8]"
            ]
          },
          "metadata": {},
          "execution_count": 8
        }
      ]
    },
    {
      "cell_type": "code",
      "source": [
        "lst = [1, 2, 3, 4, 5, 6, 7, 8]\n",
        "lst[:] = []\n",
        "\n",
        "lst"
      ],
      "metadata": {
        "colab": {
          "base_uri": "https://localhost:8080/"
        },
        "id": "yPCWajKxdluQ",
        "outputId": "a018dec5-2850-4f99-fd10-8e7261e5b798"
      },
      "execution_count": null,
      "outputs": [
        {
          "output_type": "execute_result",
          "data": {
            "text/plain": [
              "[]"
            ]
          },
          "metadata": {},
          "execution_count": 9
        }
      ]
    },
    {
      "cell_type": "code",
      "source": [
        "numbers = list(range(0, 10))\n",
        "numbers\n",
        "\n",
        "del numbers[-1]\n",
        "\n",
        "numbers"
      ],
      "metadata": {
        "colab": {
          "base_uri": "https://localhost:8080/"
        },
        "id": "id_HBvr6dqYH",
        "outputId": "453eceb1-dea6-439b-c80a-8d7386684cb9"
      },
      "execution_count": null,
      "outputs": [
        {
          "output_type": "execute_result",
          "data": {
            "text/plain": [
              "[0, 1, 2, 3, 4, 5, 6, 7, 8]"
            ]
          },
          "metadata": {},
          "execution_count": 10
        }
      ]
    },
    {
      "cell_type": "code",
      "source": [
        "s = \"Monty Python\"\n",
        "\n",
        "print(s[0])\n",
        "print(s[6:10])\n",
        "print(s[-12:-7])"
      ],
      "metadata": {
        "colab": {
          "base_uri": "https://localhost:8080/"
        },
        "id": "uljLceDidz8P",
        "outputId": "cf45baf9-8503-434d-b51b-eb80007a42a8"
      },
      "execution_count": null,
      "outputs": [
        {
          "output_type": "stream",
          "name": "stdout",
          "text": [
            "M\n",
            "Pyth\n",
            "Monty\n"
          ]
        }
      ]
    },
    {
      "cell_type": "code",
      "source": [
        "numbers = [1, 2, 3, 4, 5, 6, 7, 8, 9, 10]\n",
        "reversed = numbers[::-2]\n",
        "print(reversed)"
      ],
      "metadata": {
        "colab": {
          "base_uri": "https://localhost:8080/"
        },
        "id": "NoghNSfZd99_",
        "outputId": "9746a58b-667e-47da-9fef-07903bc04ac2"
      },
      "execution_count": null,
      "outputs": [
        {
          "output_type": "stream",
          "name": "stdout",
          "text": [
            "[10, 8, 6, 4, 2]\n"
          ]
        }
      ]
    },
    {
      "cell_type": "code",
      "source": [
        "numbers = list(range(1, 10))\n",
        "numbers[1:] = []\n",
        "print(numbers)"
      ],
      "metadata": {
        "colab": {
          "base_uri": "https://localhost:8080/"
        },
        "id": "ghaVtI_ZePb3",
        "outputId": "3508eafe-9813-437a-b8e3-d22d209f964b"
      },
      "execution_count": null,
      "outputs": [
        {
          "output_type": "stream",
          "name": "stdout",
          "text": [
            "[1]\n"
          ]
        }
      ]
    },
    {
      "cell_type": "code",
      "source": [
        "def func1(x):\n",
        "    x = 42\n",
        "    print(\"x = \", x, \"id = \", id(x))\n",
        "\n",
        "y = 10\n",
        "func1(y)\n",
        "print(\"y = \", y, \"id = \", id(y))"
      ],
      "metadata": {
        "colab": {
          "base_uri": "https://localhost:8080/"
        },
        "id": "XnOJY9_KfCI2",
        "outputId": "ebe6e750-b95d-4702-e0e7-d91549fe0168"
      },
      "execution_count": null,
      "outputs": [
        {
          "output_type": "stream",
          "name": "stdout",
          "text": [
            "x =  42 id =  136659696764432\n",
            "y =  10 id =  136659696763408\n"
          ]
        }
      ]
    },
    {
      "cell_type": "code",
      "source": [
        "def func2(list):\n",
        "    list[0] = 99\n",
        "\n",
        "values = [0, 1, 1, 2, 3, 5, 8]\n",
        "func2(values)\n",
        "print(values)"
      ],
      "metadata": {
        "colab": {
          "base_uri": "https://localhost:8080/"
        },
        "id": "swKKrvo6fgeV",
        "outputId": "c3f3c4f0-40ff-4aee-9874-e1c61eed30e3"
      },
      "execution_count": null,
      "outputs": [
        {
          "output_type": "stream",
          "name": "stdout",
          "text": [
            "[99, 1, 1, 2, 3, 5, 8]\n"
          ]
        }
      ]
    },
    {
      "cell_type": "code",
      "source": [
        "def modify(list):\n",
        "    n_list = []\n",
        "    for i in list:\n",
        "        j = i + (i * 0.3)\n",
        "        n_list.append(j)\n",
        "    return n_list\n",
        "\n",
        "mon = [200, 250, 300, 280, 500]\n",
        "print(\"인상 전 = \", mon)\n",
        "print(\"인상 후 = \", modify(mon))"
      ],
      "metadata": {
        "colab": {
          "base_uri": "https://localhost:8080/"
        },
        "id": "FuuCC0iPgZQc",
        "outputId": "f357dcd1-6207-4ab9-e5f7-241ba2bb344a"
      },
      "execution_count": null,
      "outputs": [
        {
          "output_type": "stream",
          "name": "stdout",
          "text": [
            "인상 전 =  [200, 250, 300, 280, 500]\n",
            "인상 후 =  [260.0, 325.0, 390.0, 364.0, 650.0]\n"
          ]
        }
      ]
    },
    {
      "cell_type": "code",
      "source": [
        "#리스트 함축\n",
        "squares = [x*x for x in range(10)]\n",
        "squares"
      ],
      "metadata": {
        "id": "bAotlujukuZ5",
        "colab": {
          "base_uri": "https://localhost:8080/"
        },
        "outputId": "c9d67f87-4425-45fb-d97b-c9d2d0d87b1a"
      },
      "execution_count": null,
      "outputs": [
        {
          "output_type": "execute_result",
          "data": {
            "text/plain": [
              "[0, 1, 4, 9, 16, 25, 36, 49, 64, 81]"
            ]
          },
          "metadata": {},
          "execution_count": 29
        }
      ]
    },
    {
      "cell_type": "code",
      "source": [
        "prices = [135, -545, 922, 356, -992, 217]\n",
        "mprices = [i if i > 0 else 0 for i in prices]\n",
        "\n",
        "mprices"
      ],
      "metadata": {
        "colab": {
          "base_uri": "https://localhost:8080/"
        },
        "id": "gWJWsqv6tKJ5",
        "outputId": "2a7ab6e6-acd7-470f-94a6-8bf640f51e25"
      },
      "execution_count": null,
      "outputs": [
        {
          "output_type": "execute_result",
          "data": {
            "text/plain": [
              "[135, 0, 922, 356, 0, 217]"
            ]
          },
          "metadata": {},
          "execution_count": 30
        }
      ]
    },
    {
      "cell_type": "code",
      "source": [
        "words = [\"All\", \"good\", \"things\", \"must\", \"come\", \"to\", \"an\", \"end.\"]\n",
        "letters = [w[0] for w in words]\n",
        "\n",
        "letters"
      ],
      "metadata": {
        "colab": {
          "base_uri": "https://localhost:8080/"
        },
        "id": "E6ZlqMtduW8R",
        "outputId": "02572c98-26bb-4aaa-fde5-9077f70eb09c"
      },
      "execution_count": null,
      "outputs": [
        {
          "output_type": "execute_result",
          "data": {
            "text/plain": [
              "['A', 'g', 't', 'm', 'c', 't', 'a', 'e']"
            ]
          },
          "metadata": {},
          "execution_count": 31
        }
      ]
    },
    {
      "cell_type": "code",
      "source": [
        "numbers = [x + y for x in ['a', 'b', 'c'] for y in ['x', 'y', 'z']]\n",
        "\n",
        "numbers"
      ],
      "metadata": {
        "colab": {
          "base_uri": "https://localhost:8080/"
        },
        "id": "RiaHDyDDuo3g",
        "outputId": "7e7cd9b4-a8ec-4c9d-9ee8-244ffbd0b095"
      },
      "execution_count": null,
      "outputs": [
        {
          "output_type": "execute_result",
          "data": {
            "text/plain": [
              "['ax', 'ay', 'az', 'bx', 'by', 'bz', 'cx', 'cy', 'cz']"
            ]
          },
          "metadata": {},
          "execution_count": 32
        }
      ]
    },
    {
      "cell_type": "code",
      "source": [
        "mul23 = [i for i in range(0, 100) if((i%2 == 0) and (i%3 == 0))]\n",
        "\n",
        "mul23"
      ],
      "metadata": {
        "colab": {
          "base_uri": "https://localhost:8080/"
        },
        "id": "VBfC2r41uyOQ",
        "outputId": "1895b34a-efbc-4ebd-d27f-d68daccff930"
      },
      "execution_count": null,
      "outputs": [
        {
          "output_type": "execute_result",
          "data": {
            "text/plain": [
              "[0, 6, 12, 18, 24, 30, 36, 42, 48, 54, 60, 66, 72, 78, 84, 90, 96]"
            ]
          },
          "metadata": {},
          "execution_count": 38
        }
      ]
    },
    {
      "cell_type": "code",
      "source": [
        "s = [\n",
        "    [1, 2, 3, 4, 5],\n",
        "    [6, 7, 8, 9, 10],\n",
        "    [11, 12, 13, 14, 15]\n",
        "]\n",
        "\n",
        "print(s)"
      ],
      "metadata": {
        "colab": {
          "base_uri": "https://localhost:8080/"
        },
        "id": "0rC4WCBcvdFY",
        "outputId": "6e119a82-5a3b-40fd-b89a-a14598081963"
      },
      "execution_count": null,
      "outputs": [
        {
          "output_type": "stream",
          "name": "stdout",
          "text": [
            "[[1, 2, 3, 4, 5], [6, 7, 8, 9, 10], [11, 12, 13, 14, 15]]\n"
          ]
        }
      ]
    },
    {
      "cell_type": "code",
      "source": [
        "rows = 3\n",
        "cols = 5\n",
        "\n",
        "s = []\n",
        "\n",
        "for row in range(rows):\n",
        "    s += [[0]*cols]\n",
        "\n",
        "print(\"s = \", s)"
      ],
      "metadata": {
        "colab": {
          "base_uri": "https://localhost:8080/"
        },
        "id": "QqjCDdV2w1v_",
        "outputId": "11994869-5752-4288-c58b-9a18812eb543"
      },
      "execution_count": null,
      "outputs": [
        {
          "output_type": "stream",
          "name": "stdout",
          "text": [
            "s =  [[0, 0, 0, 0, 0], [0, 0, 0, 0, 0], [0, 0, 0, 0, 0]]\n"
          ]
        }
      ]
    },
    {
      "cell_type": "code",
      "source": [
        "s = [\n",
        "    [1, 2, 3, 4, 5],\n",
        "    [6, 7, 8, 9, 10],\n",
        "    [11, 12, 13, 14, 15]\n",
        "]\n",
        "\n",
        "rows = len(s)\n",
        "cols = len(s[0])\n",
        "\n",
        "for r in range(rows):\n",
        "    for c in range(cols):\n",
        "        print(s[r][c], end = \", \")\n",
        "\n",
        "    print()"
      ],
      "metadata": {
        "colab": {
          "base_uri": "https://localhost:8080/"
        },
        "id": "g4nenArHxnV4",
        "outputId": "8c9e7fd8-adf0-4bca-a2dd-c6245d113a20"
      },
      "execution_count": null,
      "outputs": [
        {
          "output_type": "stream",
          "name": "stdout",
          "text": [
            "1, 2, 3, 4, 5, \n",
            "6, 7, 8, 9, 10, \n",
            "11, 12, 13, 14, 15, \n"
          ]
        }
      ]
    },
    {
      "cell_type": "code",
      "source": [
        "fruits = ()\n",
        "fruits = (\"apple\", \"banana\", \"grape\")\n",
        "\n",
        "results = fruits[1]\n",
        "results"
      ],
      "metadata": {
        "colab": {
          "base_uri": "https://localhost:8080/",
          "height": 35
        },
        "id": "csLFiOj9znyP",
        "outputId": "4d381632-0366-447b-9982-8c62d9ae5387"
      },
      "execution_count": null,
      "outputs": [
        {
          "output_type": "execute_result",
          "data": {
            "text/plain": [
              "'banana'"
            ],
            "application/vnd.google.colaboratory.intrinsic+json": {
              "type": "string"
            }
          },
          "metadata": {},
          "execution_count": 44
        }
      ]
    },
    {
      "cell_type": "code",
      "source": [
        "fruits = \"apple\", \"banana\", \"grape\"\n",
        "\n",
        "results = fruits[1]\n",
        "results"
      ],
      "metadata": {
        "colab": {
          "base_uri": "https://localhost:8080/",
          "height": 35
        },
        "id": "d5lCRjyF4cFn",
        "outputId": "0c3a8cac-0335-4c71-9298-709daa29a1d9"
      },
      "execution_count": null,
      "outputs": [
        {
          "output_type": "execute_result",
          "data": {
            "text/plain": [
              "'banana'"
            ],
            "application/vnd.google.colaboratory.intrinsic+json": {
              "type": "string"
            }
          },
          "metadata": {},
          "execution_count": 45
        }
      ]
    },
    {
      "cell_type": "code",
      "source": [
        "fruits = (\"apple\", ) #쉼표가 있어야지만 튜플이 됨\n",
        "\n",
        "print(type(fruits))\n",
        "print(fruits)"
      ],
      "metadata": {
        "colab": {
          "base_uri": "https://localhost:8080/"
        },
        "id": "IK34eudl4mpm",
        "outputId": "85e85712-22ca-4272-f84e-e50f240ea0a6"
      },
      "execution_count": null,
      "outputs": [
        {
          "output_type": "stream",
          "name": "stdout",
          "text": [
            "<class 'tuple'>\n",
            "('apple',)\n"
          ]
        }
      ]
    },
    {
      "cell_type": "code",
      "source": [
        "myList = [1, 2, 3, 4]\n",
        "myTuple = tuple(myList)\n",
        "myTuple"
      ],
      "metadata": {
        "colab": {
          "base_uri": "https://localhost:8080/"
        },
        "id": "KLCCZ1yk4-Am",
        "outputId": "15c3e0ad-5c2a-4395-e465-fce117d67656"
      },
      "execution_count": null,
      "outputs": [
        {
          "output_type": "execute_result",
          "data": {
            "text/plain": [
              "(1, 2, 3, 4)"
            ]
          },
          "metadata": {},
          "execution_count": 51
        }
      ]
    },
    {
      "cell_type": "code",
      "source": [
        "myTuple = [1, 2, 3, 4]\n",
        "myList = tuple(myTuple)\n",
        "myList"
      ],
      "metadata": {
        "colab": {
          "base_uri": "https://localhost:8080/"
        },
        "id": "b5qmylDS5wO-",
        "outputId": "91dde252-7d64-41e7-c64b-d55a06a0c051"
      },
      "execution_count": null,
      "outputs": [
        {
          "output_type": "execute_result",
          "data": {
            "text/plain": [
              "(1, 2, 3, 4)"
            ]
          },
          "metadata": {},
          "execution_count": 52
        }
      ]
    },
    {
      "cell_type": "code",
      "source": [
        "fruits = (\"apple\", \"banana\", \"grape\")\n",
        "fruits += (\"pear\", \"kiwi\")\n",
        "\n",
        "fruits"
      ],
      "metadata": {
        "colab": {
          "base_uri": "https://localhost:8080/"
        },
        "id": "0MdvWR-i54Eu",
        "outputId": "5c590184-ae71-46b5-dff3-0dccd514b527"
      },
      "execution_count": null,
      "outputs": [
        {
          "output_type": "execute_result",
          "data": {
            "text/plain": [
              "('apple', 'banana', 'grape', 'pear', 'kiwi')"
            ]
          },
          "metadata": {},
          "execution_count": 53
        }
      ]
    },
    {
      "cell_type": "code",
      "source": [
        "numbers = [10, 20, 30]\n",
        "numbers += (40, 50)\n",
        "\n",
        "numbers"
      ],
      "metadata": {
        "colab": {
          "base_uri": "https://localhost:8080/"
        },
        "id": "Ys4gk_4V6G8-",
        "outputId": "24f53c3c-77c4-4f29-82d8-38b6c2a60612"
      },
      "execution_count": null,
      "outputs": [
        {
          "output_type": "execute_result",
          "data": {
            "text/plain": [
              "[10, 20, 30, 40, 50]"
            ]
          },
          "metadata": {},
          "execution_count": 55
        }
      ]
    },
    {
      "cell_type": "code",
      "source": [],
      "metadata": {
        "id": "-wfmA9uE6l8_"
      },
      "execution_count": null,
      "outputs": []
    }
  ]
}