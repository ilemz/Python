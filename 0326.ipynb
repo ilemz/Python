{
  "nbformat": 4,
  "nbformat_minor": 0,
  "metadata": {
    "colab": {
      "provenance": [],
      "authorship_tag": "ABX9TyNUya0OJnIKBIkiF9KvHtsO"
    },
    "kernelspec": {
      "name": "python3",
      "display_name": "Python 3"
    },
    "language_info": {
      "name": "python"
    }
  },
  "cells": [
    {
      "cell_type": "code",
      "execution_count": null,
      "metadata": {
        "colab": {
          "base_uri": "https://localhost:8080/"
        },
        "id": "NVVwIjPPS3LS",
        "outputId": "1206fd13-490e-4091-9f4c-9c2d48e8eb77"
      },
      "outputs": [
        {
          "output_type": "stream",
          "name": "stdout",
          "text": [
            "정수를 입력하세요 : 10\n",
            "10 ! 는 3628800 이다.\n"
          ]
        }
      ],
      "source": [
        "a = int(input(\"정수를 입력하세요 : \"))\n",
        "fact = 1\n",
        "\n",
        "for i in range(1, a + 1) :\n",
        "    fact = fact * i\n",
        "\n",
        "print(a, \"! 는\", fact, \"이다.\")"
      ]
    },
    {
      "cell_type": "code",
      "source": [
        "i = 1\n",
        "sum = 0\n",
        "\n",
        "while i <= 10 :\n",
        "    sum += 1\n",
        "    i += 1\n",
        "\n",
        "print(\"합계는\", sum)"
      ],
      "metadata": {
        "colab": {
          "base_uri": "https://localhost:8080/"
        },
        "id": "jI6M9_iZVZSz",
        "outputId": "e41e84b5-01b4-4d65-b44a-3a0051700b17"
      },
      "execution_count": null,
      "outputs": [
        {
          "output_type": "stream",
          "name": "stdout",
          "text": [
            "합계는 10\n"
          ]
        }
      ]
    },
    {
      "cell_type": "code",
      "source": [
        "gugu = int(input(\"원하는 단은 : \"))\n",
        "\n",
        "i = 1\n",
        "\n",
        "while i <= 9 :\n",
        "    print(gugu, \" * \", i, \" = \", gugu * i)\n",
        "    i += 1"
      ],
      "metadata": {
        "colab": {
          "base_uri": "https://localhost:8080/"
        },
        "id": "fMy0djPnW5Xh",
        "outputId": "24f9624a-2a66-47ad-c68d-76a00723c8fa"
      },
      "execution_count": null,
      "outputs": [
        {
          "output_type": "stream",
          "name": "stdout",
          "text": [
            "원하는 단은 : 9\n",
            "9  *  1  =  9\n",
            "9  *  2  =  18\n",
            "9  *  3  =  27\n",
            "9  *  4  =  36\n",
            "9  *  5  =  45\n",
            "9  *  6  =  54\n",
            "9  *  7  =  63\n",
            "9  *  8  =  72\n",
            "9  *  9  =  81\n"
          ]
        }
      ]
    },
    {
      "cell_type": "code",
      "source": [
        "import random\n",
        "\n",
        "tr = 0\n",
        "ans = 0\n",
        "com = random.randint(1, 100)\n",
        "\n",
        "print(\"1부터 100 사이의 숫자를 맞추시오\")\n",
        "\n",
        "while (ans != com) and (tr < 10) :\n",
        "    ans = int(input(\"숫자를 입력하시오 : \"))\n",
        "\n",
        "    if ans < com :\n",
        "        print(\"너무 낮음!\")\n",
        "\n",
        "    elif ans > com :\n",
        "        print(\"너무 높음!\")\n",
        "\n",
        "    tr += 1\n",
        "\n",
        "if (ans == com) :\n",
        "    print(\"축하합니다. 시도 횟수 = \", tr)\n",
        "\n",
        "else :\n",
        "    print(\"실패했습니다! 시도 횟수 = \", tr)"
      ],
      "metadata": {
        "colab": {
          "base_uri": "https://localhost:8080/"
        },
        "id": "y3RS-oQYXdsp",
        "outputId": "9d1da5d4-2f1b-4755-9f15-1ff5d46ec768"
      },
      "execution_count": null,
      "outputs": [
        {
          "output_type": "stream",
          "name": "stdout",
          "text": [
            "1부터 100 사이의 숫자를 맞추시오\n",
            "숫자를 입력하시오 : 10\n",
            "너무 낮음!\n",
            "숫자를 입력하시오 : 20\n",
            "너무 낮음!\n",
            "숫자를 입력하시오 : 30\n",
            "너무 낮음!\n",
            "숫자를 입력하시오 : 4\n",
            "너무 낮음!\n",
            "숫자를 입력하시오 : 40\n",
            "너무 낮음!\n",
            "숫자를 입력하시오 : 50\n",
            "너무 낮음!\n",
            "숫자를 입력하시오 : 60\n",
            "너무 낮음!\n",
            "숫자를 입력하시오 : 70\n",
            "너무 낮음!\n",
            "숫자를 입력하시오 : 80\n",
            "너무 낮음!\n",
            "숫자를 입력하시오 : 90\n",
            "너무 높음!\n",
            "실패했습니다! 시도 횟수 =  10\n"
          ]
        }
      ]
    },
    {
      "cell_type": "code",
      "source": [
        "import random\n",
        "\n",
        "tr = 0\n",
        "ans = 0\n",
        "com = random.randint(1, 100)\n",
        "\n",
        "print(\"1부터 100 사이의 숫자를 맞추시오\")\n",
        "\n",
        "for tr in range (0, 10) :\n",
        "    ans = int(input(\"숫자를 입력하시오 : \"))\n",
        "\n",
        "    if ans < com :\n",
        "        tr += 1\n",
        "        print(\"너무 낮음!\")\n",
        "\n",
        "    elif ans > com :\n",
        "        tr += 1\n",
        "        print(\"너무 높음!\")\n",
        "\n",
        "    else :\n",
        "        tr += 1\n",
        "        break\n",
        "\n",
        "if (ans == com) :\n",
        "    print(\"축하합니다. 시도 횟수 = \", tr)\n",
        "\n",
        "else :\n",
        "    print(\"실패했습니다! 시도 횟수 = \", tr)"
      ],
      "metadata": {
        "colab": {
          "base_uri": "https://localhost:8080/"
        },
        "id": "8Rq1LnCIY7r6",
        "outputId": "aa553e9f-f779-406b-ce1a-d158bab686a3"
      },
      "execution_count": null,
      "outputs": [
        {
          "output_type": "stream",
          "name": "stdout",
          "text": [
            "1부터 100 사이의 숫자를 맞추시오\n",
            "숫자를 입력하시오 : 50\n",
            "너무 낮음!\n",
            "숫자를 입력하시오 : 70\n",
            "너무 낮음!\n",
            "숫자를 입력하시오 : 80\n",
            "너무 높음!\n",
            "숫자를 입력하시오 : 78\n",
            "너무 높음!\n",
            "숫자를 입력하시오 : 77\n",
            "너무 높음!\n",
            "숫자를 입력하시오 : 75\n",
            "너무 낮음!\n",
            "숫자를 입력하시오 : 76\n",
            "축하합니다. 시도 횟수 =  7\n"
          ]
        }
      ]
    },
    {
      "cell_type": "code",
      "source": [
        "import random\n",
        "\n",
        "a = random.randint(1, 100)\n",
        "b = random.randint(1, 100)\n",
        "num = random.randrange(2)\n",
        "tr = 0\n",
        "answ = 0\n",
        "\n",
        "sachick = [\"+\", \"-\"]\n",
        "\n",
        "c = sachick[num]\n",
        "\n",
        "if (c == \"+\"):\n",
        "    com = a + b\n",
        "\n",
        "elif (c == \"-\"):\n",
        "    com = a - b\n",
        "\n",
        "while(answ != com) :\n",
        "    answ = int(input(f\"{a} {c} {b} = \"))\n",
        "\n",
        "    if answ == com :\n",
        "        print(\"잘했어요!!\")\n",
        "\n",
        "    else :\n",
        "        print(\"틀렸어요. 하지만 다음번에는 잘할 수 있죠?\")\n",
        "\n",
        "    tr += 1\n",
        "\n",
        "if(answ == com) :\n",
        "    print(\"시도 횟수 =\", tr)"
      ],
      "metadata": {
        "id": "ILEDhIK3ff9I",
        "outputId": "31c719f1-a92d-4ed0-8a0f-b1135f5fd3a1",
        "colab": {
          "base_uri": "https://localhost:8080/"
        }
      },
      "execution_count": null,
      "outputs": [
        {
          "output_type": "stream",
          "name": "stdout",
          "text": [
            "42 - 72 = -30\n",
            "잘했어요!!\n",
            "시도 횟수 = 1\n"
          ]
        }
      ]
    },
    {
      "cell_type": "code",
      "source": [
        "password = \"\"\n",
        "\n",
        "while password != \"pythonisfun\" :\n",
        "    password = input(\"암호를 입력하시오 : \")\n",
        "\n",
        "print(\"로그인 성공\")"
      ],
      "metadata": {
        "colab": {
          "base_uri": "https://localhost:8080/"
        },
        "id": "k42U0HVohtUR",
        "outputId": "49da4cdc-4099-4522-f592-fa6d0eac6e1e"
      },
      "execution_count": null,
      "outputs": [
        {
          "output_type": "stream",
          "name": "stdout",
          "text": [
            "암호를 입력하시오 : ppyas\n",
            "암호를 입력하시오 : gggg\n",
            "암호를 입력하시오 : pythonisfun\n",
            "로그인 성공\n"
          ]
        }
      ]
    },
    {
      "cell_type": "code",
      "source": [
        "id = \"\"\n",
        "password = \"\"\n",
        "\n",
        "log = False\n",
        "\n",
        "while (log != True) :\n",
        "    id, password = input(\"id와 password를 입력하세요 : \").split()\n",
        "\n",
        "    if (id == \"admin\") and (password == \"pythonisfun\") :\n",
        "        log = True\n",
        "\n",
        "print(\"로그인 성공\")"
      ],
      "metadata": {
        "colab": {
          "base_uri": "https://localhost:8080/"
        },
        "id": "RX7an6XtmzOf",
        "outputId": "c54cad6b-e5b2-4838-a5d9-b7e4132576a4"
      },
      "execution_count": null,
      "outputs": [
        {
          "output_type": "stream",
          "name": "stdout",
          "text": [
            "id와 password를 입력하세요 : aaaa pythonisfun\n",
            "id와 password를 입력하세요 : admin aaa\n",
            "id와 password를 입력하세요 : admin pythonisfun\n",
            "로그인 성공\n"
          ]
        }
      ]
    },
    {
      "cell_type": "code",
      "source": [
        "for a in range(1, 7) :\n",
        "    for b in range(1, 7) :\n",
        "        if a + b == 6 :\n",
        "            print(f\"첫번째 주사위 = {a}, 두번째 주사위 = {b}\")"
      ],
      "metadata": {
        "colab": {
          "base_uri": "https://localhost:8080/"
        },
        "id": "e_vRD2Pbne45",
        "outputId": "e61f11d7-1938-4cce-a622-f513f480d3f0"
      },
      "execution_count": null,
      "outputs": [
        {
          "output_type": "stream",
          "name": "stdout",
          "text": [
            "첫번째 주사위 = 1, 두번째 주사위 = 5\n",
            "첫번째 주사위 = 2, 두번째 주사위 = 4\n",
            "첫번째 주사위 = 3, 두번째 주사위 = 3\n",
            "첫번째 주사위 = 4, 두번째 주사위 = 2\n",
            "첫번째 주사위 = 5, 두번째 주사위 = 1\n"
          ]
        }
      ]
    },
    {
      "cell_type": "code",
      "source": [
        "number = 27\n",
        "div = 2\n",
        "pri = True\n",
        "\n",
        "while div < number :\n",
        "    if number % div == 0 :\n",
        "        pri = False\n",
        "        break\n",
        "\n",
        "    div += 1\n",
        "\n",
        "if pri :\n",
        "    print(\"소수\")\n",
        "\n",
        "else :\n",
        "    print(\"소수 아님\")"
      ],
      "metadata": {
        "colab": {
          "base_uri": "https://localhost:8080/"
        },
        "id": "kcmhk9xSvppK",
        "outputId": "6552bd5b-f883-4ca4-dacf-ec01325346b3"
      },
      "execution_count": null,
      "outputs": [
        {
          "output_type": "stream",
          "name": "stdout",
          "text": [
            "소수 아님\n"
          ]
        }
      ]
    },
    {
      "cell_type": "code",
      "source": [
        "num = 50\n",
        "n = 2\n",
        "count = 0\n",
        "\n",
        "while count < num :\n",
        "    div = 2\n",
        "    pri = True\n",
        "\n",
        "    while div < n :\n",
        "        if n % div == 0 :\n",
        "            pri = False\n",
        "            break\n",
        "        div += 1\n",
        "\n",
        "    if pri :\n",
        "        count += 1\n",
        "        print(n, end = \" \")\n",
        "\n",
        "    n += 1"
      ],
      "metadata": {
        "colab": {
          "base_uri": "https://localhost:8080/"
        },
        "id": "Sf2blcuOw9l_",
        "outputId": "7ba8cec5-8f49-4750-8719-c13ea758d3b8"
      },
      "execution_count": null,
      "outputs": [
        {
          "output_type": "stream",
          "name": "stdout",
          "text": [
            "2 3 5 7 11 13 17 19 23 29 31 37 41 43 47 53 59 61 67 71 73 79 83 89 97 101 103 107 109 113 127 131 137 139 149 151 157 163 167 173 179 181 191 193 197 199 211 223 227 229 "
          ]
        }
      ]
    },
    {
      "cell_type": "code",
      "source": [
        "import random\n",
        "\n",
        "money = 50\n",
        "goal = 250\n",
        "win = 0\n",
        "\n",
        "for i in range(100) :\n",
        "    cash = money\n",
        "\n",
        "    while cash > 0 and cash < goal :\n",
        "        num = random.randint(1, 2)\n",
        "\n",
        "        if num == 1 :\n",
        "            cash += 1\n",
        "\n",
        "        else :\n",
        "            cash -= 1\n",
        "\n",
        "    if cash == goal :\n",
        "        win += 1\n",
        "\n",
        "print(\"초기 금액 : $%d\" %money)\n",
        "print(\"목표 금액 : $%d\" %goal)\n",
        "print(\"100번 중에 %d번 성공\" %win)"
      ],
      "metadata": {
        "colab": {
          "base_uri": "https://localhost:8080/"
        },
        "id": "HW9-0eeEzC-D",
        "outputId": "ac2fbec4-5bbe-42d3-8c89-412f78811f7a"
      },
      "execution_count": null,
      "outputs": [
        {
          "output_type": "stream",
          "name": "stdout",
          "text": [
            "초기 금액 : $50\n",
            "목표 금액 : $250\n",
            "100번 중에 25번 성공\n"
          ]
        }
      ]
    },
    {
      "cell_type": "code",
      "source": [
        "num = 1\n",
        "div = 2\n",
        "\n",
        "while(num <= 50) :\n",
        "    if num % div == 0 :\n",
        "        print(num, end = \" \")\n",
        "    num += 1"
      ],
      "metadata": {
        "colab": {
          "base_uri": "https://localhost:8080/"
        },
        "id": "rto5Cn_e0Nor",
        "outputId": "ce950b1e-914b-424c-aa7f-846a7b0abf7b"
      },
      "execution_count": null,
      "outputs": [
        {
          "output_type": "stream",
          "name": "stdout",
          "text": [
            "2 4 6 8 10 12 14 16 18 20 22 24 26 28 30 32 34 36 38 40 42 44 46 48 "
          ]
        }
      ]
    },
    {
      "cell_type": "code",
      "source": [
        "num = 1\n",
        "div = 3\n",
        "sum = 0\n",
        "\n",
        "while(num <= 100) :\n",
        "    if num % div == 0 :\n",
        "        sum += num\n",
        "    num += 1\n",
        "\n",
        "print(f\"1부터 100 사이의 모든 3의 배수의 합은 {sum}입니다.\")"
      ],
      "metadata": {
        "colab": {
          "base_uri": "https://localhost:8080/"
        },
        "id": "OdAWzKf51Sjy",
        "outputId": "ce9084f5-6b3f-4ae6-bda6-996316d4a281"
      },
      "execution_count": null,
      "outputs": [
        {
          "output_type": "stream",
          "name": "stdout",
          "text": [
            "1부터 100 사이의 모든 3의 배수의 합은 1683입니다.\n"
          ]
        }
      ]
    },
    {
      "cell_type": "code",
      "source": [
        "i = 0\n",
        "j = 0\n",
        "num = int(input(\"정수를 입력하시오 : \"))\n",
        "\n",
        "while i < num :\n",
        "    i += 1\n",
        "    while j < i:\n",
        "        j += 1\n",
        "        print(j, end = \" \")\n",
        "    j = 0\n",
        "\n",
        "    print(\"\\n\")"
      ],
      "metadata": {
        "colab": {
          "base_uri": "https://localhost:8080/"
        },
        "id": "RCH0uVIh1oJT",
        "outputId": "c2103ce1-229d-44fd-ea49-73057175ac47"
      },
      "execution_count": null,
      "outputs": [
        {
          "output_type": "stream",
          "name": "stdout",
          "text": [
            "정수를 입력하시오 : 5\n",
            "1 \n",
            "\n",
            "1 2 \n",
            "\n",
            "1 2 3 \n",
            "\n",
            "1 2 3 4 \n",
            "\n",
            "1 2 3 4 5 \n",
            "\n"
          ]
        }
      ]
    },
    {
      "cell_type": "code",
      "source": [],
      "metadata": {
        "id": "tzFJdHLQ2GjF"
      },
      "execution_count": null,
      "outputs": []
    }
  ]
}