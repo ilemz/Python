{
  "nbformat": 4,
  "nbformat_minor": 0,
  "metadata": {
    "colab": {
      "provenance": [],
      "authorship_tag": "ABX9TyOlTSupYQuBCYwgtOkuf8uS"
    },
    "kernelspec": {
      "name": "python3",
      "display_name": "Python 3"
    },
    "language_info": {
      "name": "python"
    }
  },
  "cells": [
    {
      "cell_type": "code",
      "execution_count": null,
      "metadata": {
        "colab": {
          "base_uri": "https://localhost:8080/"
        },
        "id": "yStZWKRUVrOJ",
        "outputId": "a158061f-e26a-445f-f772-73773e220824"
      },
      "outputs": [
        {
          "output_type": "stream",
          "name": "stdout",
          "text": [
            "20cm 피자 2개의 면적 :  2512.0\n",
            "30cm 피자 1개의 면적 :  2826.0\n"
          ]
        }
      ],
      "source": [
        "def main() :\n",
        "    print(\"20cm 피자 2개의 면적 :\", get_area(20) + get_area(20))\n",
        "    print(\"30cm 피자 1개의 면적 :\", get_area(30))\n",
        "\n",
        "def get_area(r) :\n",
        "    if r > 0 :\n",
        "        area = 3.14*r**2\n",
        "\n",
        "    else :\n",
        "        area = 0\n",
        "\n",
        "    return area\n",
        "\n",
        "main()"
      ]
    },
    {
      "cell_type": "code",
      "source": [
        "def set_r(r):\n",
        "    r = 100\n",
        "    return\n",
        "\n",
        "r = 20\n",
        "set_r(r)\n",
        "\n",
        "print(r)"
      ],
      "metadata": {
        "colab": {
          "base_uri": "https://localhost:8080/"
        },
        "id": "W38Cj86oe1aV",
        "outputId": "819ae763-d432-4af6-df10-ef760df6d8c6"
      },
      "execution_count": null,
      "outputs": [
        {
          "output_type": "stream",
          "name": "stdout",
          "text": [
            "20\n"
          ]
        }
      ]
    },
    {
      "cell_type": "code",
      "source": [
        "def greet(name, msg = \"별일없죠?\"):\n",
        "    print(\"안녕\", name + ', ' + msg)\n",
        "\n",
        "greet(\"영희\")"
      ],
      "metadata": {
        "colab": {
          "base_uri": "https://localhost:8080/"
        },
        "id": "lYcz7J_XfXJ0",
        "outputId": "8db2f1d0-15d6-4269-e34e-b48649511718"
      },
      "execution_count": null,
      "outputs": [
        {
          "output_type": "stream",
          "name": "stdout",
          "text": [
            "안녕 영희, 별일없죠?\n"
          ]
        }
      ]
    },
    {
      "cell_type": "code",
      "source": [
        "def get_sum(start, end):\n",
        "    sum = 0\n",
        "    for i in range(start, end + 1):\n",
        "        sum += i\n",
        "    return sum\n",
        "\n",
        "x = get_sum(1, 10)\n",
        "y = get_sum(1, 20)\n",
        "\n",
        "print(x, y)"
      ],
      "metadata": {
        "colab": {
          "base_uri": "https://localhost:8080/"
        },
        "id": "-xBdsZL3fkQj",
        "outputId": "9221b949-886d-4b8e-fd43-218206bfacc1"
      },
      "execution_count": null,
      "outputs": [
        {
          "output_type": "stream",
          "name": "stdout",
          "text": [
            "55 210\n"
          ]
        }
      ]
    },
    {
      "cell_type": "code",
      "source": [
        "def varfunc(*args):\n",
        "    print(*args)\n",
        "\n",
        "print(\"하나의 값으로 호출\")\n",
        "varfunc(10)\n",
        "\n",
        "print(\"여러개의 값으로 호출\")\n",
        "varfunc(10, 20, 30)"
      ],
      "metadata": {
        "colab": {
          "base_uri": "https://localhost:8080/"
        },
        "id": "IevB8R9Ef3AD",
        "outputId": "034e3288-c857-41b1-84dd-1d267dcbe8a1"
      },
      "execution_count": null,
      "outputs": [
        {
          "output_type": "stream",
          "name": "stdout",
          "text": [
            "하나의 값으로 호출\n",
            "10\n",
            "여러개의 값으로 호출\n",
            "10 20 30\n"
          ]
        }
      ]
    },
    {
      "cell_type": "code",
      "source": [
        "def myfunc(**kwargs):\n",
        "    result = \"\"\n",
        "\n",
        "    for arg in kwargs.values():\n",
        "        result += arg\n",
        "    return result\n",
        "\n",
        "print(myfunc(a = \"Hi!\", b = \"Mr.\", c = \"Kim\"))"
      ],
      "metadata": {
        "colab": {
          "base_uri": "https://localhost:8080/"
        },
        "id": "VfTh48YDkwRj",
        "outputId": "91458da9-0c96-423b-ce44-94f1720f03d0"
      },
      "execution_count": null,
      "outputs": [
        {
          "output_type": "stream",
          "name": "stdout",
          "text": [
            "Hi!Mr.Kim\n"
          ]
        }
      ]
    },
    {
      "cell_type": "code",
      "source": [
        "def display(msg, count):\n",
        "    i = 0\n",
        "\n",
        "    for i in range(0, count):\n",
        "        print(msg)\n",
        "        i += 1\n",
        "\n",
        "display(\"환영합니다.\", 5)"
      ],
      "metadata": {
        "colab": {
          "base_uri": "https://localhost:8080/"
        },
        "id": "Z9PtfGX4m4Ws",
        "outputId": "9059ac6d-18e0-4b53-8262-ab7270911ed5"
      },
      "execution_count": null,
      "outputs": [
        {
          "output_type": "stream",
          "name": "stdout",
          "text": [
            "환영합니다.\n",
            "환영합니다.\n",
            "환영합니다.\n",
            "환영합니다.\n",
            "환영합니다.\n"
          ]
        }
      ]
    },
    {
      "cell_type": "code",
      "source": [
        "def weeklyPay(rate, hour) :\n",
        "    pay = 0\n",
        "\n",
        "    if(hour > 30):\n",
        "        pay = rate * 30 + 1.5 * rate * (hour - 30)\n",
        "\n",
        "    else :\n",
        "        pay = hour * rate\n",
        "\n",
        "    return pay\n",
        "\n",
        "r = int(input(\"시급을 입력하시오 : \"))\n",
        "h = int(input(\"근무 시간을 입력하시오 : \"))\n",
        "\n",
        "print(weeklyPay(r, h))"
      ],
      "metadata": {
        "colab": {
          "base_uri": "https://localhost:8080/"
        },
        "id": "n2mjQwBBo1qL",
        "outputId": "a0fd4716-cfb0-43bf-a26c-dee9c93125cf"
      },
      "execution_count": null,
      "outputs": [
        {
          "output_type": "stream",
          "name": "stdout",
          "text": [
            "시급을 입력하시오 : 10000\n",
            "근무 시간을 입력하시오 : 38\n",
            "420000.0\n"
          ]
        }
      ]
    },
    {
      "cell_type": "code",
      "source": [
        "def get_info():\n",
        "    name = input(\"이름 : \")\n",
        "    age = int(input(\"나이 : \"))\n",
        "\n",
        "    return name, age\n",
        "\n",
        "st_name, st_age = get_info()\n",
        "\n",
        "print(f\"이름은 {st_name}이고, 나이는 {st_age}살 입니다.\")"
      ],
      "metadata": {
        "colab": {
          "base_uri": "https://localhost:8080/"
        },
        "id": "ro9HtOUup6Oa",
        "outputId": "63a85fed-84f2-48c4-e3c0-3951a67d12f5"
      },
      "execution_count": null,
      "outputs": [
        {
          "output_type": "stream",
          "name": "stdout",
          "text": [
            "이름 : sss\n",
            "나이 : 5\n",
            "이름은 sss이고, 나이는 5살 입니다.\n"
          ]
        }
      ]
    },
    {
      "cell_type": "code",
      "source": [
        "def ftoc(f) :\n",
        "    C = (f - 32) * (5 / 9)\n",
        "    return C\n",
        "\n",
        "def ctof(c) :\n",
        "    F = (c * (9 / 5)) + 32\n",
        "    return F\n",
        "\n",
        "num = 0\n",
        "\n",
        "while (num != 3) :\n",
        "    print(\"1. 섭씨 온도 -> 화씨 온도\")\n",
        "    print(\"2. 화씨 온도 -> 섭씨 온도\")\n",
        "    print(\"3. 종료\")\n",
        "\n",
        "    num = int(input(\"메뉴를 선택하세요. : \"))\n",
        "\n",
        "    if(num == 1):\n",
        "        c = float(input(\"섭씨 온도를 입력하시오 : \"))\n",
        "        print(f\"화씨 온도 = {ctof(c)}\")\n",
        "\n",
        "    elif(num == 2):\n",
        "        f = float(input(\"화씨 온도를 입력하시오 : \"))\n",
        "        print(f\"섭씨 온도 = {ftoc(f)}\")\n",
        "\n",
        "    elif (num == 3):\n",
        "        num = 3"
      ],
      "metadata": {
        "colab": {
          "base_uri": "https://localhost:8080/"
        },
        "id": "7-jgAimzrz56",
        "outputId": "9156f6f6-36a8-4bb3-e6ee-004453bd1d6e"
      },
      "execution_count": null,
      "outputs": [
        {
          "name": "stdout",
          "output_type": "stream",
          "text": [
            "1. 섭씨 온도 -> 화씨 온도\n",
            "2. 화씨 온도 -> 섭씨 온도\n",
            "3. 종료\n",
            "메뉴를 선택하세요. : 1\n",
            "섭씨 온도를 입력하시오 : 37.0\n",
            "화씨 온도 = 98.60000000000001\n",
            "1. 섭씨 온도 -> 화씨 온도\n",
            "2. 화씨 온도 -> 섭씨 온도\n",
            "3. 종료\n",
            "메뉴를 선택하세요. : 3\n"
          ]
        }
      ]
    },
    {
      "cell_type": "code",
      "source": [
        "def get_peri(radius = 5.0):\n",
        "\n",
        "    size = 2.0 * 3.141692 * radius\n",
        "\n",
        "    return size\n",
        "\n",
        "print(get_peri())\n",
        "print(get_peri(4.0))"
      ],
      "metadata": {
        "colab": {
          "base_uri": "https://localhost:8080/"
        },
        "id": "e7fF3Dm8udVs",
        "outputId": "202ff447-1fd0-4099-aca7-daa4dfacd863"
      },
      "execution_count": null,
      "outputs": [
        {
          "output_type": "stream",
          "name": "stdout",
          "text": [
            "31.416919999999998\n",
            "25.133536\n"
          ]
        }
      ]
    },
    {
      "cell_type": "code",
      "source": [
        "def sum(num1, num2) :\n",
        "    sum = num1 + num2\n",
        "    print(f\"{num1} + {num2} = {sum}\")\n",
        "\n",
        "def min(num1, num2) :\n",
        "    min = num1 - num2\n",
        "    print(f\"{num1} + {num2} = {min}\")\n",
        "\n",
        "def mul(num1, num2) :\n",
        "    mul = num1 * num2\n",
        "    print(f\"{num1} + {num2} = {mul}\")\n",
        "\n",
        "def div(num1, num2) :\n",
        "    div = num1 / num2\n",
        "    print(f\"{num1} + {num2} = {div}\")\n",
        "\n",
        "a = int(input(\"첫 번째 정수를 입력하시오 : \"))\n",
        "b = int(input(\"두 번째 정수를 입력하시오 : \"))\n",
        "\n",
        "sum(a, b)\n",
        "min(a, b)\n",
        "mul(a, b)\n",
        "div(a, b)"
      ],
      "metadata": {
        "colab": {
          "base_uri": "https://localhost:8080/"
        },
        "id": "xywHaczoy3IT",
        "outputId": "581a5b3a-3fa5-45bd-e911-58461389d430"
      },
      "execution_count": null,
      "outputs": [
        {
          "output_type": "stream",
          "name": "stdout",
          "text": [
            "첫 번째 정수를 입력하시오 : 10\n",
            "두 번째 정수를 입력하시오 : 20\n",
            "10 + 20 = 30\n",
            "10 + 20 = -10\n",
            "10 + 20 = 200\n",
            "10 + 20 = 0.5\n"
          ]
        }
      ]
    },
    {
      "cell_type": "code",
      "source": [
        "def calc():\n",
        "    num1 = int(input(\"첫 번째 정수를 입력하시오 : \"))\n",
        "    num2 = int(input(\"두 번째 정수를 입력하시오 : \"))\n",
        "\n",
        "    sum = num1 + num2\n",
        "    min = num1 - num2\n",
        "    mul = num1 * num2\n",
        "    div = num1 / num2\n",
        "\n",
        "    print(f\"{sum}, {min}, {mul}, {div}이 반환되었습니다.\")\n",
        "\n",
        "calc()"
      ],
      "metadata": {
        "colab": {
          "base_uri": "https://localhost:8080/"
        },
        "id": "glGi0BOy05_6",
        "outputId": "95bd7796-96c5-4bbd-d92c-1a1340f2cb6b"
      },
      "execution_count": null,
      "outputs": [
        {
          "output_type": "stream",
          "name": "stdout",
          "text": [
            "첫 번째 정수를 입력하시오 : 10\n",
            "두 번째 정수를 입력하시오 : 20\n",
            "30, -10, 200, 0.5이 반환되었습니다.\n"
          ]
        }
      ]
    },
    {
      "cell_type": "code",
      "source": [
        "def getGrade(score):\n",
        "    grade = \"\"\n",
        "\n",
        "    if score >= 90 :\n",
        "        grade = \"A\"\n",
        "\n",
        "    elif score >= 80 :\n",
        "        grade = \"B\"\n",
        "\n",
        "    elif score >= 70 :\n",
        "        grade = \"C\"\n",
        "\n",
        "    elif score >= 60 :\n",
        "        grade = \"D\"\n",
        "\n",
        "    else :\n",
        "        grade = \"F\"\n",
        "\n",
        "    return grade\n",
        "\n",
        "s = int(input(\"점수를 입력하세요 : \"))\n",
        "print(f\"성적은 {getGrade(s)}입니다.\")"
      ],
      "metadata": {
        "colab": {
          "base_uri": "https://localhost:8080/"
        },
        "id": "BM7uLqSd1xXB",
        "outputId": "ee3cf46d-2e42-4ee6-81ef-cb1ebbd234fc"
      },
      "execution_count": null,
      "outputs": [
        {
          "output_type": "stream",
          "name": "stdout",
          "text": [
            "점수를 입력하세요 : 83\n",
            "성적은 B입니다.\n"
          ]
        }
      ]
    },
    {
      "cell_type": "code",
      "source": [
        "questions = ['name', 'quest', 'color']\n",
        "answers = ['Kim', '파이썬', 'blue']\n",
        "\n",
        "for q, a in zip(questions, answers) :\n",
        "\n",
        "    print(f\"What is your {q}? It is {a}\")"
      ],
      "metadata": {
        "colab": {
          "base_uri": "https://localhost:8080/"
        },
        "id": "gP_sEPoi24ai",
        "outputId": "5ad96c4a-3476-4a46-944d-86ff4a9f621f"
      },
      "execution_count": null,
      "outputs": [
        {
          "output_type": "stream",
          "name": "stdout",
          "text": [
            "What is your name? It is Kim\n",
            "What is your quest? It is 파이썬\n",
            "What is your color? It is blue\n"
          ]
        }
      ]
    },
    {
      "cell_type": "code",
      "source": [],
      "metadata": {
        "id": "n2Gtl9ia44GK"
      },
      "execution_count": null,
      "outputs": []
    }
  ]
}