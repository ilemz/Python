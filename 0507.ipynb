{
  "nbformat": 4,
  "nbformat_minor": 0,
  "metadata": {
    "colab": {
      "provenance": [],
      "authorship_tag": "ABX9TyNvGRuU/L+oWd7ONrUwlJAa"
    },
    "kernelspec": {
      "name": "python3",
      "display_name": "Python 3"
    },
    "language_info": {
      "name": "python"
    }
  },
  "cells": [
    {
      "cell_type": "code",
      "execution_count": null,
      "metadata": {
        "colab": {
          "base_uri": "https://localhost:8080/"
        },
        "id": "VIcVuwEQqDQp",
        "outputId": "d9cc19c8-8a85-4b11-8a5f-a502c0e61c86"
      },
      "outputs": [
        {
          "output_type": "stream",
          "name": "stdout",
          "text": [
            "카운트 값 :  101\n",
            "카운트 값 :  200\n"
          ]
        }
      ],
      "source": [
        "class Counter:\n",
        "    def __init__ (self, initValue = 100):\n",
        "        self.count = initValue\n",
        "\n",
        "    def increment (self):\n",
        "        self.count += 1\n",
        "\n",
        "a = Counter()\n",
        "a.increment()\n",
        "\n",
        "print(\"카운트 값 : \", a.count)\n",
        "\n",
        "b = Counter(200)\n",
        "\n",
        "print(\"카운트 값 : \", b.count)"
      ]
    },
    {
      "cell_type": "code",
      "source": [
        "class Television:\n",
        "    def __init__ (self, channel, volume, on):\n",
        "        self.channel = channel\n",
        "        self.volume = volume\n",
        "        self.on = on\n",
        "\n",
        "    def show(self):\n",
        "        print(self.channel, self.volume, self.on)\n",
        "\n",
        "    def setChannel(self, channel):\n",
        "        self.channel = channel\n",
        "\n",
        "    def getChannel(self):\n",
        "        return self.channel\n",
        "\n",
        "t = Television(9, 10, True)\n",
        "t.show()\n",
        "t.setChannel(11)\n",
        "t.show()"
      ],
      "metadata": {
        "colab": {
          "base_uri": "https://localhost:8080/"
        },
        "id": "XKKXuSkAsViE",
        "outputId": "703d77f4-0082-4707-e396-00e19e66eac7"
      },
      "execution_count": null,
      "outputs": [
        {
          "output_type": "stream",
          "name": "stdout",
          "text": [
            "9 10 True\n",
            "11 10 True\n"
          ]
        }
      ]
    },
    {
      "cell_type": "code",
      "source": [
        "import math\n",
        "\n",
        "class Circle:\n",
        "    def __init__(self, radius = 0):\n",
        "        self.radius = radius\n",
        "\n",
        "    def getArea(self):\n",
        "        return math.pi * self.radius * self.radius\n",
        "\n",
        "    def getPerimeter(self):\n",
        "        return 2 * math.pi * self.radius\n",
        "\n",
        "c = Circle(10)\n",
        "print(\"원의 면적 : \", c.getArea())\n",
        "print(\"원의 면적 : \", c.getPerimeter())"
      ],
      "metadata": {
        "colab": {
          "base_uri": "https://localhost:8080/"
        },
        "id": "iI1IjNv45oGr",
        "outputId": "b29ea5c8-f011-4efc-c1da-de56327cbb52"
      },
      "execution_count": null,
      "outputs": [
        {
          "output_type": "stream",
          "name": "stdout",
          "text": [
            "원의 면적 :  314.1592653589793\n",
            "원의 면적 :  62.83185307179586\n"
          ]
        }
      ]
    },
    {
      "cell_type": "code",
      "source": [
        "class Student:\n",
        "    def __init__ (self, name = None, age = 0):\n",
        "        self.__name = name\n",
        "        self.__age = age\n",
        "\n",
        "    def getAge(self):\n",
        "        return self.__age\n",
        "\n",
        "    def getName(self):\n",
        "        return self.__name\n",
        "\n",
        "    def setName(self, name):\n",
        "        self.__name = name\n",
        "\n",
        "    def setAge(self, age):\n",
        "        self.__age = age\n",
        "\n",
        "obj = Student(\"hong\", 20)\n",
        "print(obj.getName())"
      ],
      "metadata": {
        "colab": {
          "base_uri": "https://localhost:8080/"
        },
        "id": "jlanBC0y6TqT",
        "outputId": "a1eb4eb8-8a30-4b11-8f28-2ddde79154b4"
      },
      "execution_count": null,
      "outputs": [
        {
          "output_type": "stream",
          "name": "stdout",
          "text": [
            "hong\n"
          ]
        }
      ]
    },
    {
      "cell_type": "code",
      "source": [
        "class BankAccount:\n",
        "    def __init__(self):\n",
        "        self.__balance = 0\n",
        "\n",
        "    def withdraw(self, amount):\n",
        "        self.__balance -= amount\n",
        "        print(\"통장에\", amount, \"가 입금되었음\")\n",
        "        return self.__balance\n",
        "\n",
        "    def deposit(self, amount):\n",
        "        self.__balance += amount\n",
        "        print(\"통장에서\", amount, \"가 출금되었음\")\n",
        "        return self.__balance\n",
        "\n",
        "a = BankAccount()\n",
        "a.deposit(100)\n",
        "a.withdraw(10)"
      ],
      "metadata": {
        "colab": {
          "base_uri": "https://localhost:8080/"
        },
        "id": "S6pYfNGA7t57",
        "outputId": "a807e273-e04c-4739-b06c-a7bd84428d76"
      },
      "execution_count": null,
      "outputs": [
        {
          "output_type": "stream",
          "name": "stdout",
          "text": [
            "통장에서 100 가 출금되었음\n",
            "통장에 10 가 입금되었음\n"
          ]
        },
        {
          "output_type": "execute_result",
          "data": {
            "text/plain": [
              "90"
            ]
          },
          "metadata": {},
          "execution_count": 38
        }
      ]
    },
    {
      "cell_type": "code",
      "source": [],
      "metadata": {
        "id": "5iDcd1QjD2hJ"
      },
      "execution_count": null,
      "outputs": []
    }
  ]
}