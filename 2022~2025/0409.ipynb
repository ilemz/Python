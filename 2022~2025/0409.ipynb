{
  "nbformat": 4,
  "nbformat_minor": 0,
  "metadata": {
    "colab": {
      "provenance": [],
      "authorship_tag": "ABX9TyNBo8Ydhb5KbV7Ea8zMThlO"
    },
    "kernelspec": {
      "name": "python3",
      "display_name": "Python 3"
    },
    "language_info": {
      "name": "python"
    }
  },
  "cells": [
    {
      "cell_type": "code",
      "execution_count": null,
      "metadata": {
        "colab": {
          "base_uri": "https://localhost:8080/"
        },
        "id": "wWxx_3L2ZKpj",
        "outputId": "4710dc29-0e2f-4862-89b8-07b155d605b3"
      },
      "outputs": [
        {
          "output_type": "stream",
          "name": "stdout",
          "text": [
            "['아이언맨', '토르']\n"
          ]
        }
      ],
      "source": [
        "heroes = []\n",
        "heroes.append(\"아이언맨\")\n",
        "heroes.append(\"토르\")\n",
        "print(heroes)"
      ]
    },
    {
      "cell_type": "code",
      "source": [
        "heroes = [\"아이언맨\", \"토르\", \"헐크\"]\n",
        "heroes.insert(1, \"스파이더맨\")\n",
        "print(heroes)"
      ],
      "metadata": {
        "colab": {
          "base_uri": "https://localhost:8080/"
        },
        "id": "uoKtIc2zb6gk",
        "outputId": "18197c79-9f8f-4928-d9ad-2ce6ae86f506"
      },
      "execution_count": null,
      "outputs": [
        {
          "output_type": "stream",
          "name": "stdout",
          "text": [
            "['아이언맨', '스파이더맨', '토르', '헐크']\n"
          ]
        }
      ]
    },
    {
      "cell_type": "code",
      "source": [
        "list1 = list(range(1, 10))\n",
        "print(list1)\n",
        "\n",
        "list2 = list('ABCD')\n",
        "print(list2)"
      ],
      "metadata": {
        "colab": {
          "base_uri": "https://localhost:8080/"
        },
        "id": "-OpBQpcycYqR",
        "outputId": "71c5d422-268e-4540-c04c-bf2e5480ffd3"
      },
      "execution_count": null,
      "outputs": [
        {
          "output_type": "stream",
          "name": "stdout",
          "text": [
            "[1, 2, 3, 4, 5, 6, 7, 8, 9]\n",
            "['A', 'B', 'C', 'D']\n"
          ]
        }
      ]
    },
    {
      "cell_type": "code",
      "source": [
        "n = heroes.index(\"헐크\")\n",
        "print(n)"
      ],
      "metadata": {
        "colab": {
          "base_uri": "https://localhost:8080/"
        },
        "id": "h3Y6NW_idM9y",
        "outputId": "9fe3f6cd-a342-4705-8c00-3189c8481872"
      },
      "execution_count": null,
      "outputs": [
        {
          "output_type": "stream",
          "name": "stdout",
          "text": [
            "3\n"
          ]
        }
      ]
    },
    {
      "cell_type": "code",
      "source": [
        "if \"헐크\" in heroes:\n",
        "    print(heroes.index(\"헐크\"))"
      ],
      "metadata": {
        "colab": {
          "base_uri": "https://localhost:8080/"
        },
        "id": "f_KzvjoceDTi",
        "outputId": "9249b287-dcb5-4848-a4ad-e6e66afa1bc3"
      },
      "execution_count": null,
      "outputs": [
        {
          "output_type": "stream",
          "name": "stdout",
          "text": [
            "3\n"
          ]
        }
      ]
    },
    {
      "cell_type": "code",
      "source": [
        "heroes = [\"아이언맨\", \"토르\", \"헐크\", \"스칼렛 위치\", \"헐크\"]\n",
        "\n",
        "n = heroes.index(\"헐크\", 3)\n",
        "print(n)"
      ],
      "metadata": {
        "colab": {
          "base_uri": "https://localhost:8080/"
        },
        "id": "iEolSNlieguL",
        "outputId": "555eb838-a85c-41d2-d11c-f8a49c440286"
      },
      "execution_count": null,
      "outputs": [
        {
          "output_type": "stream",
          "name": "stdout",
          "text": [
            "4\n"
          ]
        }
      ]
    },
    {
      "cell_type": "code",
      "source": [
        "if \"토르\" in heroes:\n",
        "    heroes.remove(\"토르\")\n",
        "\n",
        "print(heroes)"
      ],
      "metadata": {
        "colab": {
          "base_uri": "https://localhost:8080/"
        },
        "id": "YRKpI8xbev8w",
        "outputId": "0f56c7c0-71d5-44a7-de1c-4b6e0953e0aa"
      },
      "execution_count": null,
      "outputs": [
        {
          "output_type": "stream",
          "name": "stdout",
          "text": [
            "['아이언맨', '헐크', '스칼렛 위치', '헐크']\n"
          ]
        }
      ]
    },
    {
      "cell_type": "code",
      "source": [
        "a = [3, 2, 1, 5, 4]\n",
        "a.sort()\n",
        "print(a)\n",
        "a.sort(reverse = True)\n",
        "print(a)"
      ],
      "metadata": {
        "colab": {
          "base_uri": "https://localhost:8080/"
        },
        "id": "1BUyV3IPfOMI",
        "outputId": "c33922e8-6b2d-4259-95ca-cb13dcbf034e"
      },
      "execution_count": null,
      "outputs": [
        {
          "output_type": "stream",
          "name": "stdout",
          "text": [
            "[1, 2, 3, 4, 5]\n",
            "[5, 4, 3, 2, 1]\n"
          ]
        }
      ]
    },
    {
      "cell_type": "code",
      "source": [
        "numbers = [10, 3, 7, 1, 9, 4, 2, 8, 5, 6]\n",
        "\n",
        "ascending_numbers = sorted(numbers) #원본 유지\n",
        "print(ascending_numbers)"
      ],
      "metadata": {
        "colab": {
          "base_uri": "https://localhost:8080/"
        },
        "id": "1dq4PtyPgLui",
        "outputId": "7d665970-d4b4-4e23-80b6-4335bf04ed91"
      },
      "execution_count": null,
      "outputs": [
        {
          "output_type": "stream",
          "name": "stdout",
          "text": [
            "[1, 2, 3, 4, 5, 6, 7, 8, 9, 10]\n"
          ]
        }
      ]
    },
    {
      "cell_type": "code",
      "source": [
        "numbers = [10, 20, 30, 40, 50]\n",
        "\n",
        "print(\"합 = \", sum(numbers))\n",
        "print(\"최대값 = \", max(numbers))\n",
        "print(\"최소값 = \", min(numbers))"
      ],
      "metadata": {
        "colab": {
          "base_uri": "https://localhost:8080/"
        },
        "id": "6hAlS3BpgYBi",
        "outputId": "3cb7f680-2f34-4479-98e1-ee6843df0bf9"
      },
      "execution_count": null,
      "outputs": [
        {
          "output_type": "stream",
          "name": "stdout",
          "text": [
            "합 =  150\n",
            "최대값 =  50\n",
            "최소값 =  10\n"
          ]
        }
      ]
    },
    {
      "cell_type": "code",
      "source": [
        "import random\n",
        "\n",
        "numberList = [1, 2, 3, 4, 5, 6, 7, 8, 9, 10]\n",
        "print(\"랜덤하게 선택한 항목 = \", random.choice(numberList))"
      ],
      "metadata": {
        "colab": {
          "base_uri": "https://localhost:8080/"
        },
        "id": "n50OaWYjhNUp",
        "outputId": "c6754a31-5c64-4cc9-e04e-5f3cbb097a43"
      },
      "execution_count": null,
      "outputs": [
        {
          "output_type": "stream",
          "name": "stdout",
          "text": [
            "랜덤하게 선택한 항목 =  3\n"
          ]
        }
      ]
    },
    {
      "cell_type": "code",
      "source": [
        "import random\n",
        "\n",
        "movie_list = [\"Citizen Kane\", \"Singin' in the rain\", \"modern times\", \"casablanca\", \"city lights\"]\n",
        "item = random.choice(movie_list)\n",
        "print(\"랜덤하게 선택한 항목 = \", item)"
      ],
      "metadata": {
        "colab": {
          "base_uri": "https://localhost:8080/"
        },
        "id": "ufa3Dry_hd1i",
        "outputId": "3b049849-540e-4897-bdd1-b4bc94d05e74"
      },
      "execution_count": null,
      "outputs": [
        {
          "output_type": "stream",
          "name": "stdout",
          "text": [
            "랜덤하게 선택한 항목 =  city lights\n"
          ]
        }
      ]
    },
    {
      "cell_type": "code",
      "source": [
        "i = 0\n",
        "scores = []\n",
        "\n",
        "for i in range(5):\n",
        "    score = int(input(\"성적을 입력하십시오 : \"))\n",
        "    scores.append(score)\n",
        "    i += 1\n",
        "\n",
        "print(\"성적 평균 = \", (sum(scores))/len(scores))\n",
        "print(\"최대 점수 = \", max(scores))\n",
        "print(\"최소 점수 = \", min(scores))\n",
        "print(\"80점 이상 = \", scores.count(80))"
      ],
      "metadata": {
        "colab": {
          "base_uri": "https://localhost:8080/"
        },
        "id": "2ev8725kh2va",
        "outputId": "3ee80a75-258c-4000-e574-846a1955cbfa"
      },
      "execution_count": null,
      "outputs": [
        {
          "output_type": "stream",
          "name": "stdout",
          "text": [
            "성적을 입력하십시오 : 10\n",
            "성적을 입력하십시오 : 20\n",
            "성적을 입력하십시오 : 60\n",
            "성적을 입력하십시오 : 70\n",
            "성적을 입력하십시오 : 80\n",
            "성적 평균 =  48.0\n",
            "최대 점수 =  80\n",
            "최소 점수 =  10\n",
            "80점 이상 =  1\n"
          ]
        }
      ]
    },
    {
      "cell_type": "code",
      "source": [
        "list1 = [1, 2, 3, 4, 15, 99]\n",
        "list1.sort()\n",
        "print(\"두번째로 큰 수 = \", list1[-2])"
      ],
      "metadata": {
        "colab": {
          "base_uri": "https://localhost:8080/"
        },
        "id": "6RSulg1yianZ",
        "outputId": "eddf1d63-51d7-47a5-864c-e0e97ba8fd6a"
      },
      "execution_count": null,
      "outputs": [
        {
          "output_type": "stream",
          "name": "stdout",
          "text": [
            "두번째로 큰 수 =  15\n"
          ]
        }
      ]
    },
    {
      "cell_type": "code",
      "source": [
        "list1 = [1, 2, 3, 4, 15, 99]\n",
        "list1.remove(max(list1))\n",
        "print(\"두번째로 큰 수 = \", max(list1))"
      ],
      "metadata": {
        "colab": {
          "base_uri": "https://localhost:8080/"
        },
        "id": "bvEa6b6Nn9vK",
        "outputId": "eea59127-bfcf-4569-8e54-2033d1e47798"
      },
      "execution_count": null,
      "outputs": [
        {
          "output_type": "stream",
          "name": "stdout",
          "text": [
            "두번째로 큰 수 =  15\n"
          ]
        }
      ]
    },
    {
      "cell_type": "code",
      "source": [
        "score = [10.0, 9.0, 8.3, 7.1, 3.0, 9.0]\n",
        "score.remove(max(score))\n",
        "score.remove(min(score))\n",
        "print(score)"
      ],
      "metadata": {
        "colab": {
          "base_uri": "https://localhost:8080/"
        },
        "id": "H1cg1dHroE1o",
        "outputId": "7281e29e-1633-4cfc-da57-690468db814c"
      },
      "execution_count": null,
      "outputs": [
        {
          "output_type": "stream",
          "name": "stdout",
          "text": [
            "[9.0, 8.3, 7.1, 9.0]\n"
          ]
        }
      ]
    },
    {
      "cell_type": "code",
      "source": [
        "stack = []\n",
        "\n",
        "for i in range(3):\n",
        "    f = input(\"과일을 입력하시오 : \")\n",
        "    stack.append(f)\n",
        "\n",
        "for i in range(3):\n",
        "    print(stack.pop())"
      ],
      "metadata": {
        "colab": {
          "base_uri": "https://localhost:8080/"
        },
        "id": "PWnk7JA_pGNp",
        "outputId": "449b14f0-be2e-49e2-b860-88eee78132a8"
      },
      "execution_count": null,
      "outputs": [
        {
          "output_type": "stream",
          "name": "stdout",
          "text": [
            "과일을 입력하시오 : 사과\n",
            "과일을 입력하시오 : 포도\n",
            "과일을 입력하시오 : 오렌지\n",
            "오렌지\n",
            "포도\n",
            "사과\n"
          ]
        }
      ]
    },
    {
      "cell_type": "code",
      "source": [
        "friend = []\n",
        "num = 0\n",
        "\n",
        "while (num != 9) :\n",
        "    print(\"----------------------\")\n",
        "    print(\"1. 친구 리스트 출력 \\n2. 친구 추가 \\n3. 친구 삭제 \\n4. 이름 변경 \\n9. 종료\")\n",
        "    num = int(input(\"메뉴를 입력하세요 : \"))\n",
        "\n",
        "    if (num == 1):\n",
        "        print(friend)\n",
        "\n",
        "    elif (num == 2):\n",
        "        name = input(\"이름을 입력하세요 : \")\n",
        "        friend.append(name)\n",
        "\n",
        "    elif (num == 3):\n",
        "        del_name = input(\"삭제하고 싶은 이름을 입력하세요 : \")\n",
        "\n",
        "        if del_name in friend:\n",
        "            friend.remove(del_name)\n",
        "\n",
        "        else:\n",
        "            print(\"이름이 발견되지 않았음\")\n",
        "\n",
        "    elif (num == 4):\n",
        "        old_name = input(\"변경하고 싶은 이름을 입력하세요 : \")\n",
        "\n",
        "        if old_name in friend:\n",
        "            index = friend.index(old_name)\n",
        "            new_name = input(\"새로운 이름을 입력하세요 : \")\n",
        "            friend[index] = new_name\n",
        "\n",
        "        else:\n",
        "            print(\"이름이 발견되지 않았음\")"
      ],
      "metadata": {
        "colab": {
          "base_uri": "https://localhost:8080/"
        },
        "id": "2Hj_3fmGqeVp",
        "outputId": "04fa832b-7155-4cae-97cf-ea0d97b9d1a6"
      },
      "execution_count": null,
      "outputs": [
        {
          "name": "stdout",
          "output_type": "stream",
          "text": [
            "----------------------\n",
            "1. 친구 리스트 출력 \n",
            "2. 친구 추가 \n",
            "3. 친구 삭제 \n",
            "4. 이름 변경 \n",
            "9. 종료\n",
            "메뉴를 입력하세요 : 2\n",
            "이름을 입력하세요 : 홍길동\n",
            "----------------------\n",
            "1. 친구 리스트 출력 \n",
            "2. 친구 추가 \n",
            "3. 친구 삭제 \n",
            "4. 이름 변경 \n",
            "9. 종료\n",
            "메뉴를 입력하세요 : 1\n",
            "['홍길동']\n",
            "----------------------\n",
            "1. 친구 리스트 출력 \n",
            "2. 친구 추가 \n",
            "3. 친구 삭제 \n",
            "4. 이름 변경 \n",
            "9. 종료\n",
            "메뉴를 입력하세요 : 4\n",
            "변경하고 싶은 이름을 입력하세요 : 홍길동\n",
            "새로운 이름을 입력하세요 : 흥부\n",
            "----------------------\n",
            "1. 친구 리스트 출력 \n",
            "2. 친구 추가 \n",
            "3. 친구 삭제 \n",
            "4. 이름 변경 \n",
            "9. 종료\n",
            "메뉴를 입력하세요 : 1\n",
            "['흥부']\n",
            "----------------------\n",
            "1. 친구 리스트 출력 \n",
            "2. 친구 추가 \n",
            "3. 친구 삭제 \n",
            "4. 이름 변경 \n",
            "9. 종료\n",
            "메뉴를 입력하세요 : 3\n",
            "삭제하고 싶은 이름을 입력하세요 : 흥부\n",
            "----------------------\n",
            "1. 친구 리스트 출력 \n",
            "2. 친구 추가 \n",
            "3. 친구 삭제 \n",
            "4. 이름 변경 \n",
            "9. 종료\n",
            "메뉴를 입력하세요 : 1\n",
            "[]\n",
            "----------------------\n",
            "1. 친구 리스트 출력 \n",
            "2. 친구 추가 \n",
            "3. 친구 삭제 \n",
            "4. 이름 변경 \n",
            "9. 종료\n",
            "메뉴를 입력하세요 : 9\n"
          ]
        }
      ]
    },
    {
      "cell_type": "code",
      "source": [
        "temp = [28, 31, 33, 35, 27, 26, 25]\n",
        "\n",
        "value = temp\n",
        "\n",
        "print(temp)\n",
        "value[3] = 39\n",
        "print(temp)"
      ],
      "metadata": {
        "colab": {
          "base_uri": "https://localhost:8080/"
        },
        "id": "Flb1HB7Vs775",
        "outputId": "0eb6ffb8-915f-4a88-87e8-a46e680cf38b"
      },
      "execution_count": null,
      "outputs": [
        {
          "output_type": "stream",
          "name": "stdout",
          "text": [
            "[28, 31, 33, 35, 27, 26, 25]\n",
            "[28, 31, 33, 39, 27, 26, 25]\n"
          ]
        }
      ]
    },
    {
      "cell_type": "code",
      "source": [
        "temp = [28, 31, 33, 35, 27, 26, 25]\n",
        "value = list(temp)"
      ],
      "metadata": {
        "id": "pkx5_rQh1ftw"
      },
      "execution_count": null,
      "outputs": []
    },
    {
      "cell_type": "code",
      "source": [
        "import time\n",
        "\n",
        "SIZE = 50000\n",
        "\n",
        "s_time = time.time()\n",
        "mylist = []\n",
        "for i in range(SIZE):\n",
        "    mylist = mylist + [i*i]\n",
        "\n",
        "print(\"수행시간 = \", time.time() - s_time)\n",
        "\n",
        "s_time = time.time()\n",
        "\n",
        "mylist = []\n",
        "\n",
        "for i in range(SIZE):\n",
        "    mylist.append(i*i)\n",
        "\n",
        "print(\"수행시간 = \", time.time() - s_time)"
      ],
      "metadata": {
        "colab": {
          "base_uri": "https://localhost:8080/"
        },
        "id": "pz2tAgkn1-f5",
        "outputId": "91c2b63f-fa66-49f0-926a-3138e16aa169"
      },
      "execution_count": null,
      "outputs": [
        {
          "output_type": "stream",
          "name": "stdout",
          "text": [
            "수행시간 =  4.441681146621704\n",
            "수행시간 =  0.010548591613769531\n"
          ]
        }
      ]
    },
    {
      "cell_type": "code",
      "source": [
        "numbers = [10, 20, 30, 40, 50, 60, 70, 80, 90]\n",
        "\n",
        "sublist = numbers[2:7]\n",
        "print(sublist)"
      ],
      "metadata": {
        "colab": {
          "base_uri": "https://localhost:8080/"
        },
        "id": "ZlWQj7iF1lDf",
        "outputId": "7a4f8630-4650-4a4b-a36f-d5bbf3b3cbb3"
      },
      "execution_count": null,
      "outputs": [
        {
          "output_type": "stream",
          "name": "stdout",
          "text": [
            "[30, 40, 50, 60, 70]\n"
          ]
        }
      ]
    },
    {
      "cell_type": "code",
      "source": [
        "print(numbers[:3])\n",
        "print(numbers[3:])\n",
        "print(numbers[:])"
      ],
      "metadata": {
        "colab": {
          "base_uri": "https://localhost:8080/"
        },
        "id": "PkqxlmWp3idY",
        "outputId": "143ebd11-c469-4c13-e628-f08ebaabc804"
      },
      "execution_count": null,
      "outputs": [
        {
          "output_type": "stream",
          "name": "stdout",
          "text": [
            "[10, 20, 30]\n",
            "[40, 50, 60, 70, 80, 90]\n",
            "[10, 20, 30, 40, 50, 60, 70, 80, 90]\n"
          ]
        }
      ]
    },
    {
      "cell_type": "code",
      "source": [
        "new_numbers = numbers[:]\n",
        "print(new_numbers)"
      ],
      "metadata": {
        "colab": {
          "base_uri": "https://localhost:8080/"
        },
        "id": "0YAU2Onv3nmv",
        "outputId": "0e0e3858-4a58-4c41-ace6-2a1547af6669"
      },
      "execution_count": null,
      "outputs": [
        {
          "output_type": "stream",
          "name": "stdout",
          "text": [
            "[10, 20, 30, 40, 50, 60, 70, 80, 90]\n"
          ]
        }
      ]
    },
    {
      "cell_type": "code",
      "source": [
        "numbers = [10, 20, 30, 40, 50, 60, 70, 80, 90]\n",
        "\n",
        "sublist = numbers[2:7:2]\n",
        "print(sublist)"
      ],
      "metadata": {
        "colab": {
          "base_uri": "https://localhost:8080/"
        },
        "id": "EfgqhoJR30We",
        "outputId": "9e478d67-69ec-439f-d463-6b585bd3ae8e"
      },
      "execution_count": null,
      "outputs": [
        {
          "output_type": "stream",
          "name": "stdout",
          "text": [
            "[30, 50, 70]\n"
          ]
        }
      ]
    },
    {
      "cell_type": "code",
      "source": [
        "numbers = [1, 2, 3, 4, 5, 6, 7, 8, 9, 10]\n",
        "print(numbers[::-2])"
      ],
      "metadata": {
        "colab": {
          "base_uri": "https://localhost:8080/"
        },
        "id": "OdoEFn_X48HI",
        "outputId": "9e650aa9-dc90-44f3-c498-e1cb74d683e4"
      },
      "execution_count": null,
      "outputs": [
        {
          "output_type": "stream",
          "name": "stdout",
          "text": [
            "[10, 8, 6, 4, 2]\n"
          ]
        }
      ]
    },
    {
      "cell_type": "code",
      "source": [
        "numbers[1:] = []\n",
        "print(numbers)"
      ],
      "metadata": {
        "colab": {
          "base_uri": "https://localhost:8080/"
        },
        "id": "5R6rNvaM5CX-",
        "outputId": "adfeadd9-6f0b-42be-fab5-c6b0e91eed79"
      },
      "execution_count": null,
      "outputs": [
        {
          "output_type": "stream",
          "name": "stdout",
          "text": [
            "[1]\n"
          ]
        }
      ]
    },
    {
      "cell_type": "code",
      "source": [],
      "metadata": {
        "id": "IBNE-xdO5S1P"
      },
      "execution_count": null,
      "outputs": []
    }
  ]
}
