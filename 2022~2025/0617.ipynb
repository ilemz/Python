{
  "nbformat": 4,
  "nbformat_minor": 0,
  "metadata": {
    "colab": {
      "provenance": [],
      "authorship_tag": "ABX9TyO3ReLTgBfuSkhjc+0IWX93"
    },
    "kernelspec": {
      "name": "python3",
      "display_name": "Python 3"
    },
    "language_info": {
      "name": "python"
    }
  },
  "cells": [
    {
      "cell_type": "code",
      "source": [
        "innum = []\n",
        "num = int(input(\"입력할 값의 개수 : \"))\n",
        "for i in range(num):\n",
        "    f = int(input(\"\"))\n",
        "    innum.append(f)\n",
        "\n",
        "sum = innum[0] + innum[1] + innum[2]\n",
        "\n",
        "print(\"값의 합계 =\", sum)"
      ],
      "metadata": {
        "colab": {
          "base_uri": "https://localhost:8080/"
        },
        "id": "fK9Iiu0rqAd9",
        "outputId": "c37096ca-0ac6-44d3-a170-c42292da1c37"
      },
      "execution_count": null,
      "outputs": [
        {
          "output_type": "stream",
          "name": "stdout",
          "text": [
            "입력할 값의 개수 : 3\n",
            "10\n",
            "20\n",
            "30\n",
            "값의 합계 =  60\n"
          ]
        }
      ]
    },
    {
      "cell_type": "code",
      "source": [
        "import random\n",
        "\n",
        "a = []\n",
        "for i in range(10):\n",
        "    num = random.randint(1, 100)\n",
        "    a.append(num)\n",
        "\n",
        "print(a)"
      ],
      "metadata": {
        "colab": {
          "base_uri": "https://localhost:8080/"
        },
        "id": "uqHM83UIq1WS",
        "outputId": "c83f5da1-0e1e-4443-c3b0-c48a7ad021f7"
      },
      "execution_count": null,
      "outputs": [
        {
          "output_type": "stream",
          "name": "stdout",
          "text": [
            "[6, 37, 66, 100, 38, 18, 50, 95, 37, 97]\n"
          ]
        }
      ]
    },
    {
      "cell_type": "code",
      "source": [
        "star = \"*\"\n",
        "space = \" \"\n",
        "s_num = [20, 1, 12, 9, 18]\n",
        "\n",
        "for i in range(len(s_num)):\n",
        "    print(s_num[i], space*(10-len(str(s_num[i]))), star*s_num[i])\n",
        "    i += 1"
      ],
      "metadata": {
        "colab": {
          "base_uri": "https://localhost:8080/"
        },
        "id": "sqCi8L324D1W",
        "outputId": "4d98f2d1-82f8-4621-c5e0-60a7d7395616"
      },
      "execution_count": null,
      "outputs": [
        {
          "output_type": "stream",
          "name": "stdout",
          "text": [
            "20          ********************\n",
            "1           *\n",
            "12          ************\n",
            "9           *********\n",
            "18          ******************\n"
          ]
        }
      ]
    },
    {
      "cell_type": "code",
      "source": [
        "list1 = list(range(1, 11))\n",
        "\n",
        "print([-i if 3 <= i <= 8 else i for i in list1])"
      ],
      "metadata": {
        "colab": {
          "base_uri": "https://localhost:8080/"
        },
        "id": "fchOJlW-4knb",
        "outputId": "cb0e67a2-a6c3-416a-b895-78574c684a64"
      },
      "execution_count": null,
      "outputs": [
        {
          "output_type": "stream",
          "name": "stdout",
          "text": [
            "[1, 2, -3, -4, -5, -6, -7, -8, 9, 10]\n"
          ]
        }
      ]
    },
    {
      "cell_type": "code",
      "source": [
        "list1 = ['aba', 'xyz', 'abc', '121']\n",
        "chnum = 0\n",
        "\n",
        "for i in list1:\n",
        "    if (len(i) > 1) and (i[0] == i[-1]):\n",
        "        chnum += 1\n",
        "\n",
        "print(list1)\n",
        "print(\"문자열의 갯수 =\", chnum)"
      ],
      "metadata": {
        "colab": {
          "base_uri": "https://localhost:8080/"
        },
        "id": "55l7jIaTJhMv",
        "outputId": "32311ce2-2cc1-47ad-dd59-3f77c7ea9f6c"
      },
      "execution_count": null,
      "outputs": [
        {
          "output_type": "stream",
          "name": "stdout",
          "text": [
            "['aba', 'xyz', 'abc', '121']\n",
            "문자열의 갯수 =  2\n"
          ]
        }
      ]
    },
    {
      "cell_type": "code",
      "source": [
        "list1 = [1, 2, 3, 4, 5, 6]\n",
        "list2 = [6, 7, 8, 9]\n",
        "\n",
        "print(\"list1 =\", list1)\n",
        "print(\"list2 =\", list2)\n",
        "\n",
        "for i in list1:\n",
        "    for j in list2:\n",
        "        if i == j:\n",
        "            TF = True\n",
        "        else:\n",
        "            TF = False\n",
        "\n",
        "print(TF)"
      ],
      "metadata": {
        "colab": {
          "base_uri": "https://localhost:8080/"
        },
        "id": "liQeBJ0IMxCM",
        "outputId": "0720b8dd-5059-4d68-af59-1edb8d36b17e"
      },
      "execution_count": null,
      "outputs": [
        {
          "output_type": "stream",
          "name": "stdout",
          "text": [
            "list1 =  [1, 2, 3, 4, 5, 6]\n",
            "list2 =  [6, 7, 8, 9]\n",
            "True\n"
          ]
        }
      ]
    },
    {
      "cell_type": "code",
      "source": [
        "list1 = ['a0', 'a1', 'a2', 'a3', 'a4', 'a5', 'a6', 'a7', 'a8', 'a9']\n",
        "\n",
        "print(\"list1 =\", list1)\n",
        "print(random.choice(list1))"
      ],
      "metadata": {
        "colab": {
          "base_uri": "https://localhost:8080/"
        },
        "id": "UzovzrvNPZMi",
        "outputId": "e1b849ec-edfe-4dc4-d288-7f20376d1f50"
      },
      "execution_count": null,
      "outputs": [
        {
          "output_type": "stream",
          "name": "stdout",
          "text": [
            "list1 =  ['a0', 'a1', 'a2', 'a3', 'a4', 'a5', 'a6', 'a7', 'a8', 'a9']\n",
            "a0\n"
          ]
        }
      ]
    },
    {
      "cell_type": "code",
      "source": [
        "i = 0\n",
        "list1 = []\n",
        "list1 = list(map(int, input(\"5개의 수를 입력하세요 : \").split()))\n",
        "\n",
        "print(\"합 =\", sum(list1))\n",
        "print(\"평균 =\", sum(list1)/len(list1))\n",
        "print(\"최댓값 =\", max(list1))\n",
        "print(\"최솟값 =\", min(list1))"
      ],
      "metadata": {
        "colab": {
          "base_uri": "https://localhost:8080/"
        },
        "id": "SVkCrWFhQ7d0",
        "outputId": "e9b49dc7-7c8f-4127-d44e-0316993150dc"
      },
      "execution_count": null,
      "outputs": [
        {
          "output_type": "stream",
          "name": "stdout",
          "text": [
            "5개의 수를 입력하세요 : 1 2 3 4 5\n",
            "합 =  15\n",
            "평균 =  3.0\n",
            "최댓값 =  5\n",
            "최솟값 =  1\n"
          ]
        }
      ]
    },
    {
      "cell_type": "code",
      "source": [
        "s = input('5numbers : ')\n",
        "s_list = []\n",
        "\n",
        "for n in s.split():\n",
        "    s_list.append(int(n))\n",
        "\n",
        "print(\"합 =\", sum(s_list))\n",
        "print(\"평균 =\", sum(s_list)/len(s_list))\n",
        "print(\"최댓값 =\", max(s_list))\n",
        "print(\"최솟값 =\", min(s_list))"
      ],
      "metadata": {
        "colab": {
          "base_uri": "https://localhost:8080/"
        },
        "id": "S3m9wgw3RqVq",
        "outputId": "7b81b950-08e2-40a6-f14a-6fa884388033"
      },
      "execution_count": null,
      "outputs": [
        {
          "output_type": "stream",
          "name": "stdout",
          "text": [
            "5numbers : 1 2 3 4 5\n",
            "합 =  15\n",
            "평균 =  3.0\n",
            "최댓값 =  5\n",
            "최솟값 =  1\n"
          ]
        }
      ]
    },
    {
      "cell_type": "code",
      "source": [
        "list1 = ['abc', 'bcd', 'abc', 'abba', 'cddc', 'opq', 'opq']\n",
        "n_list1 = []\n",
        "\n",
        "for i in list1:\n",
        "    if i not in n_list1:\n",
        "        n_list1.append(i)\n",
        "\n",
        "print(\"list1 =\", list1)\n",
        "print(\"n_list1 =\", n_list1)"
      ],
      "metadata": {
        "colab": {
          "base_uri": "https://localhost:8080/"
        },
        "id": "oTZOyvnlWOt3",
        "outputId": "8ae3fa0e-b090-4935-afbb-b803267237dd"
      },
      "execution_count": null,
      "outputs": [
        {
          "output_type": "stream",
          "name": "stdout",
          "text": [
            "list1 =  ['abc', 'bcd', 'abc', 'abba', 'cddc', 'opq', 'opq']\n",
            "n_list1 =  ['abc', 'bcd', 'abba', 'cddc', 'opq']\n"
          ]
        }
      ]
    },
    {
      "cell_type": "code",
      "source": [],
      "metadata": {
        "id": "JVIzOcawW5Xg"
      },
      "execution_count": null,
      "outputs": []
    }
  ]
}
