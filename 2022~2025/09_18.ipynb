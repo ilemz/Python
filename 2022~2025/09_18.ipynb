{
  "nbformat": 4,
  "nbformat_minor": 0,
  "metadata": {
    "colab": {
      "provenance": [],
      "authorship_tag": "ABX9TyPJks4bvOeelaB7u0HIsieo"
    },
    "kernelspec": {
      "name": "python3",
      "display_name": "Python 3"
    },
    "language_info": {
      "name": "python"
    }
  },
  "cells": [
    {
      "cell_type": "code",
      "execution_count": null,
      "metadata": {
        "colab": {
          "base_uri": "https://localhost:8080/"
        },
        "id": "qZwe1mSNrjV-",
        "outputId": "a8c9f5a4-2dfd-44d5-bee0-fdc712160616"
      },
      "outputs": [
        {
          "output_type": "execute_result",
          "data": {
            "text/plain": [
              "False"
            ]
          },
          "metadata": {},
          "execution_count": 5
        }
      ],
      "source": [
        "iq = 120\n",
        "age = 21\n",
        "age >= 20 and iq > 130"
      ]
    },
    {
      "cell_type": "code",
      "source": [
        "age >= 20 or iq >130"
      ],
      "metadata": {
        "colab": {
          "base_uri": "https://localhost:8080/"
        },
        "id": "rG2B-Cpaviuj",
        "outputId": "126cb306-a6a3-4861-c36f-9c43617bcb52"
      },
      "execution_count": null,
      "outputs": [
        {
          "output_type": "execute_result",
          "data": {
            "text/plain": [
              "True"
            ]
          },
          "metadata": {},
          "execution_count": 6
        }
      ]
    },
    {
      "cell_type": "code",
      "source": [
        "not (age == 20)"
      ],
      "metadata": {
        "colab": {
          "base_uri": "https://localhost:8080/"
        },
        "id": "nPsHlt-jvkby",
        "outputId": "b9ddf7c9-3ce2-4a38-d6cb-d4eaeed316ee"
      },
      "execution_count": null,
      "outputs": [
        {
          "output_type": "execute_result",
          "data": {
            "text/plain": [
              "True"
            ]
          },
          "metadata": {},
          "execution_count": 7
        }
      ]
    },
    {
      "cell_type": "code",
      "source": [
        "score = int(input(\"성적을 입력하세요 : \"))\n",
        "if score >= 90 :\n",
        "  print(\"장학금 대상자입니다.\")\n",
        "print(\"수고하셨습니다.\")"
      ],
      "metadata": {
        "colab": {
          "base_uri": "https://localhost:8080/"
        },
        "id": "8pcTqOPkwf5i",
        "outputId": "b7ffac54-ebb7-4ce3-d21c-c3b947f42955"
      },
      "execution_count": null,
      "outputs": [
        {
          "output_type": "stream",
          "name": "stdout",
          "text": [
            "성적을 입력하세요 : 85\n",
            "수고하셨습니다.\n"
          ]
        }
      ]
    },
    {
      "cell_type": "code",
      "source": [
        "time = int(input(\"지금 몇시인가요? : \"))\n",
        "\n",
        "print(\"현재 시간 : %d시\" %time)\n",
        "\n",
        "time_before = 0\n",
        "\n",
        "if time < 6 :\n",
        "  time_before = 24 + time - 6\n",
        "\n",
        "else :\n",
        "  time_before = time - 6\n",
        "\n",
        "print(\"이전 시간 : %d시\" %time_before)"
      ],
      "metadata": {
        "colab": {
          "base_uri": "https://localhost:8080/"
        },
        "id": "31TmAnpqyS8h",
        "outputId": "924fae3a-1852-40e3-d360-8a591a765585"
      },
      "execution_count": null,
      "outputs": [
        {
          "output_type": "stream",
          "name": "stdout",
          "text": [
            "지금 몇시인가요? : 2\n",
            "현재 시간 : 2시\n",
            "이전 시간 : 20시\n"
          ]
        }
      ]
    },
    {
      "cell_type": "code",
      "source": [
        "score = int(input(\" 성적을 입력하세요 : \"))\n",
        "\n",
        "if score >= 90 :\n",
        "  print(\" 장학금 대상자입니다. \\n 축하합니다.\")\n",
        "\n",
        "else :\n",
        "  print(\" 장학금 대상자가 아닙니다. \\n 다음 학기를 노려봅시다.\")\n",
        "\n",
        "print(\" 수고하셨습니다.\")"
      ],
      "metadata": {
        "colab": {
          "base_uri": "https://localhost:8080/"
        },
        "id": "xd9WC8Pd1WeG",
        "outputId": "87474555-2ddc-41d9-8679-8faa4c339e19"
      },
      "execution_count": null,
      "outputs": [
        {
          "output_type": "stream",
          "name": "stdout",
          "text": [
            " 성적을 입력하세요 : 60\n",
            " 장학금 대상자가 아닙니다. \n",
            " 다음 학기를 노려봅시다.\n",
            " 수고하셨습니다.\n"
          ]
        }
      ]
    },
    {
      "cell_type": "code",
      "source": [
        "score = int(input(\"성적을 입력하세요 : \"))\n",
        "\n",
        "if score>=90 :\n",
        "    print(\"시험을 아주 잘 봤군요. 축하해요.\")\n",
        "\n",
        "elif score>=80 :\n",
        "    print(\"시험을 괜찮게 봤군요. 수고했어요\")\n",
        "\n",
        "elif score>=70 :\n",
        "    print(\"시험을 좀 못봤군요. 다음에는 잘 봐요.\")\n",
        "\n",
        "else :\n",
        "    print(\"완전히 망했군요\")"
      ],
      "metadata": {
        "colab": {
          "base_uri": "https://localhost:8080/"
        },
        "id": "L9UOjkss9iSc",
        "outputId": "e1923aaa-a6ce-4257-a9da-ec95aac9d263"
      },
      "execution_count": null,
      "outputs": [
        {
          "output_type": "stream",
          "name": "stdout",
          "text": [
            "성적을 입력하세요 : 90\n",
            "시험을 아주 잘 봤군요. 축하해요.\n"
          ]
        }
      ]
    },
    {
      "cell_type": "code",
      "source": [
        "print(\"===짝수홀수 판별 프로그램===\")\n",
        "\n",
        "num = int(input(\"정수를 입력하세요 : \"))\n",
        "\n",
        "if num > 0 and num % 2 == 0 :\n",
        "  print(\"정수 %d를 입력했군요\" %num)\n",
        "  print(\"당신이 입력한 수는 짝수입니다.\")\n",
        "\n",
        "elif num <= 0 :\n",
        "  print(\"판별할 수 없는 수를 입력하셨습니다.\"),\n",
        "  print(\"양의 정수만 짝수/홀수 판별이 가능합니다.\")\n",
        "\n",
        "else :\n",
        "  print(\"정수 %d를 입력했군요\" %num)\n",
        "  print(\"당신이 입력한 수는 홀수입니다.\")"
      ],
      "metadata": {
        "colab": {
          "base_uri": "https://localhost:8080/"
        },
        "id": "GAJ148xo5ZEp",
        "outputId": "599791e2-9f7a-4c43-fa10-75f07d3a10e8"
      },
      "execution_count": null,
      "outputs": [
        {
          "output_type": "stream",
          "name": "stdout",
          "text": [
            "===짝수홀수 판별 프로그램===\n",
            "정수를 입력하세요 : -10\n",
            "판별할 수 없는 수를 입력하셨습니다.\n",
            "양의 정수만 짝수/홀수 판별이 가능합니다.\n"
          ]
        }
      ]
    },
    {
      "cell_type": "code",
      "source": [
        "year = int(input(\"년도를 입력하세요 : \"))\n",
        "yoon_nyeon = False\n",
        "\n",
        "if year % 4 == 0 :\n",
        "  if year % 100 == 0 :\n",
        "    if year % 400 == 0 :\n",
        "      yoon_nyeon = True\n",
        "    else :\n",
        "      yoon_nyeon = False\n",
        "\n",
        "if yoon_nyeon == True :\n",
        "  print(\"해당 년도는 윤년입니다.\")\n",
        "\n",
        "else :\n",
        "  print(\"해당 년도는 윤년이 아닙니다.\")"
      ],
      "metadata": {
        "colab": {
          "base_uri": "https://localhost:8080/"
        },
        "id": "PezGIOJq-Oe8",
        "outputId": "817b405b-4c96-4666-b864-2ed892d3c9c5"
      },
      "execution_count": null,
      "outputs": [
        {
          "output_type": "stream",
          "name": "stdout",
          "text": [
            "년도를 입력하세요 : 100\n",
            "해당 년도는 윤년이 아닙니다.\n"
          ]
        }
      ]
    },
    {
      "cell_type": "code",
      "source": [
        "num = int(input(\"정수를 입력하세요 : \"))\n",
        "\n",
        "if num == 0 :\n",
        "  print(\"해당 정수는 0 입니다.\")\n",
        "\n",
        "elif num > 0 :\n",
        "  print(\"해당 정수는 양수입니다.\")\n",
        "\n",
        "else :\n",
        "  print(\"해당 정수는 음수입니다.\")"
      ],
      "metadata": {
        "colab": {
          "base_uri": "https://localhost:8080/"
        },
        "id": "qjA2izqZA37y",
        "outputId": "e246bc56-efe9-45b6-9351-ec2615ee436e"
      },
      "execution_count": null,
      "outputs": [
        {
          "output_type": "stream",
          "name": "stdout",
          "text": [
            "정수를 입력하세요 : 1\n",
            "해당 정수는 양수입니다.\n"
          ]
        }
      ]
    },
    {
      "cell_type": "code",
      "source": [
        "num = int(input(\"정수를 입력하세요 : \"))\n",
        "\n",
        "if num > 0 and num % 3 == 0 :\n",
        "  print(\"당신이 입력한 수는 3의 배수 입니다.\")\n",
        "\n",
        "elif num <= 0 :\n",
        "  print(\"판별할 수 없는 수를 입력하셨습니다.\"),\n",
        "  print(\"양의 정수만 짝수/홀수 판별이 가능합니다.\")"
      ],
      "metadata": {
        "colab": {
          "base_uri": "https://localhost:8080/"
        },
        "id": "vdhOJGz8BWWd",
        "outputId": "af6a10cf-7810-44ee-967d-62df04a08ce4"
      },
      "execution_count": null,
      "outputs": [
        {
          "output_type": "stream",
          "name": "stdout",
          "text": [
            "정수를 입력하세요 : -3\n",
            "판별할 수 없는 수를 입력하셨습니다.\n",
            "양의 정수만 짝수/홀수 판별이 가능합니다.\n"
          ]
        }
      ]
    },
    {
      "cell_type": "code",
      "source": [
        "quiz = int(input(\"퀴즈 점수를 입력하세요 : \"))\n",
        "test_1 = int(input(\"중간고사 성적을 입력하세요 : \"))\n",
        "test_2 = int(input(\"기말고사 성적을 입력하세요 : \"))\n",
        "\n",
        "score = (quiz * 0.2) + (test_1 * 0.3) + (test_2 * 0.5)\n",
        "\n",
        "print(\"점수는 %d점입니다.\" %score)\n",
        "\n",
        "if score >= 80 :\n",
        "    print(\"pass\")\n",
        "\n",
        "else :\n",
        "    print(\"fail\")"
      ],
      "metadata": {
        "colab": {
          "base_uri": "https://localhost:8080/"
        },
        "id": "INRN-k3ABiwA",
        "outputId": "814e92a6-ff88-4fb4-e4d6-1806733e9a47"
      },
      "execution_count": null,
      "outputs": [
        {
          "output_type": "stream",
          "name": "stdout",
          "text": [
            "퀴즈 점수를 입력하세요 : 100\n",
            "중간고사 성적을 입력하세요 : 100\n",
            "기말고사 성적을 입력하세요 : 100\n",
            "점수는 100점입니다.\n",
            "pass\n"
          ]
        }
      ]
    },
    {
      "cell_type": "code",
      "source": [],
      "metadata": {
        "id": "j5f3K5CSBn8g"
      },
      "execution_count": null,
      "outputs": []
    }
  ]
}
