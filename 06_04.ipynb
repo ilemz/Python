{
  "nbformat": 4,
  "nbformat_minor": 0,
  "metadata": {
    "colab": {
      "provenance": [],
      "authorship_tag": "ABX9TyOqkjN48gDX0p+0UNUCc5oW"
    },
    "kernelspec": {
      "name": "python3",
      "display_name": "Python 3"
    },
    "language_info": {
      "name": "python"
    }
  },
  "cells": [
    {
      "cell_type": "code",
      "metadata": {
        "colab": {
          "base_uri": "https://localhost:8080/"
        },
        "id": "UPAGEPB0l-uh",
        "outputId": "d49367f2-9334-43d6-b284-6b987e6be0c8"
      },
      "source": [
        "num = '253'\n",
        "print(num+'번째')"
      ],
      "execution_count": null,
      "outputs": [
        {
          "output_type": "stream",
          "text": [
            "253번째\n"
          ],
          "name": "stdout"
        }
      ]
    },
    {
      "cell_type": "code",
      "metadata": {
        "colab": {
          "base_uri": "https://localhost:8080/"
        },
        "id": "j8RiQZA7mEzB",
        "outputId": "3fab9be7-2a04-4fa0-8f31-48527545f8ee"
      },
      "source": [
        "num = str(392/1000)\n",
        "print(num)\n",
        "print(num[2]+'할'+num[3]+'푼'+num[4]+'리')\n",
        "print(num[0:4])"
      ],
      "execution_count": null,
      "outputs": [
        {
          "output_type": "stream",
          "text": [
            "0.392\n",
            "3할9푼2리\n",
            "0.39\n"
          ],
          "name": "stdout"
        }
      ]
    },
    {
      "cell_type": "code",
      "metadata": {
        "colab": {
          "base_uri": "https://localhost:8080/"
        },
        "id": "JJYa8iP-mLlo",
        "outputId": "8d848832-f8f1-44d9-f0cc-6dda7a4385da"
      },
      "source": [
        "a = 10\n",
        "b = 3\n",
        "c = -50\n",
        "\n",
        "print(a > b and b > c)\n",
        "print(a > b or b < c)\n",
        "print(not(a > b and b > c))"
      ],
      "execution_count": null,
      "outputs": [
        {
          "output_type": "stream",
          "text": [
            "True\n",
            "True\n",
            "False\n"
          ],
          "name": "stdout"
        }
      ]
    },
    {
      "cell_type": "code",
      "metadata": {
        "colab": {
          "base_uri": "https://localhost:8080/"
        },
        "id": "7a4cV2XjnyXx",
        "outputId": "3728ae14-e222-4ba6-ca1c-b6333e5963a5"
      },
      "source": [
        "eng = int(input('영어 점수 : '))\n",
        "math = int(input('수학 점수 : '))\n",
        "\n",
        "if eng >= 80 and math >= 80 :\n",
        "  print('pass')\n",
        "\n",
        "elif eng < 80 and math < 80 :\n",
        "  print('fail')\n",
        "\n",
        "else :\n",
        "  print('test again')"
      ],
      "execution_count": null,
      "outputs": [
        {
          "output_type": "stream",
          "text": [
            "영어 점수 : 100\n",
            "수학 점수 : 50\n",
            "test again\n"
          ],
          "name": "stdout"
        }
      ]
    },
    {
      "cell_type": "code",
      "metadata": {
        "colab": {
          "base_uri": "https://localhost:8080/"
        },
        "id": "MYKQuQNjogAT",
        "outputId": "7b2c954d-b931-4554-f32b-b997f5ad2678"
      },
      "source": [
        "for i in range(1, 11):\n",
        "  if i%2 == 1:\n",
        "    print(i, end = ' ')"
      ],
      "execution_count": null,
      "outputs": [
        {
          "output_type": "stream",
          "text": [
            "1 3 5 7 9 "
          ],
          "name": "stdout"
        }
      ]
    },
    {
      "cell_type": "code",
      "metadata": {
        "colab": {
          "base_uri": "https://localhost:8080/"
        },
        "id": "kk77AHWdpcgm",
        "outputId": "e0a664ba-fb93-43fb-cc97-a1a5892cc89c"
      },
      "source": [
        "s = 0\n",
        "\n",
        "for i in range(1, 11):\n",
        "  if i%2 == 0:\n",
        "    s += i\n",
        "\n",
        "    if i == 10:\n",
        "      print('%d = ' %i, end = ' ')\n",
        "\n",
        "    else :\n",
        "      print('%d + ' %i, end = ' ')\n",
        "\n",
        "print(s)"
      ],
      "execution_count": null,
      "outputs": [
        {
          "output_type": "stream",
          "text": [
            "2 +  4 +  6 +  8 +  10 =  30\n"
          ],
          "name": "stdout"
        }
      ]
    },
    {
      "cell_type": "code",
      "metadata": {
        "colab": {
          "base_uri": "https://localhost:8080/"
        },
        "id": "8Lup5fSrpk4K",
        "outputId": "820f1a83-8fbf-4050-c0e1-b9634eedbebd"
      },
      "source": [
        "def cal_bmi(h, w):\n",
        "  bmi = w/((h/100)**2)\n",
        "\n",
        "  print('*' * 40)\n",
        "\n",
        "  if bmi >= 30 :\n",
        "    print('고도')\n",
        "\n",
        "  elif bmi >= 25:\n",
        "    print('비만')\n",
        "\n",
        "  elif bmi >= 23:\n",
        "    print('과')\n",
        "\n",
        "  elif bmi >= 18.5:\n",
        "    print('정')\n",
        "\n",
        "  else :\n",
        "    print('저')\n",
        "\n",
        "  print('*' * 40)\n",
        "\n",
        "\n",
        "while(True):\n",
        "\n",
        "  height = int(input('키 : '))\n",
        "  weight = int(input('무게 : '))\n",
        "\n",
        "  cal_bmi(height, weight)\n",
        "\n",
        "  answer = input('continue? (Y/N) : ')\n",
        "\n",
        "  if answer == 'n' or answer == 'N':\n",
        "    print('Off')\n",
        "\n",
        "    break"
      ],
      "execution_count": null,
      "outputs": [
        {
          "output_type": "stream",
          "text": [
            "키 : 180\n",
            "무게 : 70\n",
            "****************************************\n",
            "정\n",
            "****************************************\n",
            "continue? (Y/N) : n\n",
            "Off\n"
          ],
          "name": "stdout"
        }
      ]
    },
    {
      "cell_type": "code",
      "metadata": {
        "colab": {
          "base_uri": "https://localhost:8080/"
        },
        "id": "ZTQHyKBhsH6b",
        "outputId": "6944c802-3835-4aeb-c073-68908262fc43"
      },
      "source": [
        "scores = [['유재석', 99, 96, 89], ['조세호', 92, 100, 73], ['장도연', 65, 88, 90], ['김신영', 95, 78, 98], ['이재훈', 90, 80, 84]]\n",
        "\n",
        "for i in range(len(scores)):\n",
        "  s = 0\n",
        "\n",
        "  for j in range(1, len(scores[i])):\n",
        "    s += scores[i][j]\n",
        "\n",
        "  print('%s 학생의 총점은 %d점이고 평균은 %.1f점입니다.' %(scores[i][0], s, s/3))"
      ],
      "execution_count": null,
      "outputs": [
        {
          "output_type": "stream",
          "text": [
            "유재석 학생의 총점은 284점이고 평균은 94.7점입니다.\n",
            "조세호 학생의 총점은 265점이고 평균은 88.3점입니다.\n",
            "장도연 학생의 총점은 243점이고 평균은 81.0점입니다.\n",
            "김신영 학생의 총점은 271점이고 평균은 90.3점입니다.\n",
            "이재훈 학생의 총점은 254점이고 평균은 84.7점입니다.\n"
          ],
          "name": "stdout"
        }
      ]
    },
    {
      "cell_type": "code",
      "metadata": {
        "id": "ZQFMelNtuoKV"
      },
      "source": [],
      "execution_count": null,
      "outputs": []
    }
  ]
}