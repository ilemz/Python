{
  "nbformat": 4,
  "nbformat_minor": 0,
  "metadata": {
    "colab": {
      "provenance": [],
      "authorship_tag": "ABX9TyNdMi4ai5fNcFKrxM0kkUBW"
    },
    "kernelspec": {
      "name": "python3",
      "display_name": "Python 3"
    }
  },
  "cells": [
    {
      "cell_type": "code",
      "metadata": {
        "colab": {
          "base_uri": "https://localhost:8080/"
        },
        "id": "O78rJKkqVmH1",
        "outputId": "804f971e-9aab-49e3-ee61-894d5f262a67"
      },
      "source": [
        "a = input()\n",
        "b = input()\n",
        "\n",
        "print(a + b)\n",
        "print(a, b)"
      ],
      "execution_count": null,
      "outputs": [
        {
          "output_type": "stream",
          "text": [
            "hi\n",
            "hello\n",
            "hihello\n",
            "hi hello\n"
          ],
          "name": "stdout"
        }
      ]
    },
    {
      "cell_type": "code",
      "metadata": {
        "colab": {
          "base_uri": "https://localhost:8080/"
        },
        "id": "-ZfoDRPaVz9N",
        "outputId": "e3be00e5-8037-447e-8dd3-0d8d21cd6581"
      },
      "source": [
        "name = input()\n",
        "age = input()\n",
        "\n",
        "print('\\nI am %s. I am %s years old.' %(name, age))\n",
        "print('I am %s.' %name)\n",
        "print('I am %s years old.' %age)"
      ],
      "execution_count": null,
      "outputs": [
        {
          "output_type": "stream",
          "text": [
            "a\n",
            "0\n",
            "\n",
            "I am a. I am 0 years old.\n",
            "I am a.\n",
            "I am 0 years old.\n"
          ],
          "name": "stdout"
        }
      ]
    },
    {
      "cell_type": "code",
      "metadata": {
        "colab": {
          "base_uri": "https://localhost:8080/"
        },
        "id": "V31lO75rW9GN",
        "outputId": "c050a0fe-3c2a-468a-b683-5055f04a8674"
      },
      "source": [
        "name = input()\n",
        "age = int(input())\n",
        "height = float(input())\n",
        "\n",
        "print('\\nI am %s. I am %d years old. I am %.2f cm tall.' %(name, age, height))\n",
        "print('I am %s.' %name)\n",
        "print('I am %d years old.' %age)\n",
        "print('I am %.2f cm tall.' %height)"
      ],
      "execution_count": null,
      "outputs": [
        {
          "output_type": "stream",
          "text": [
            "a\n",
            "9\n",
            "156\n",
            "\n",
            "I am a. I am 9 years old. I am 156.00 cm tall.\n",
            "I am a.\n",
            "I am 9 years old.\n",
            "I am 156.00 cm tall.\n"
          ],
          "name": "stdout"
        }
      ]
    },
    {
      "cell_type": "code",
      "metadata": {
        "colab": {
          "base_uri": "https://localhost:8080/"
        },
        "id": "-VjIbUfaYjjP",
        "outputId": "99b57aaf-54d0-4963-bb85-eb940469e7fb"
      },
      "source": [
        "name = input()\n",
        "age = int(input())\n",
        "height = float(input())\n",
        "\n",
        "print('\\nI am %s.' %name)\n",
        "print('I am %02d years old.' %age)\n",
        "print('My height is %.1f cm.' %height)"
      ],
      "execution_count": null,
      "outputs": [
        {
          "output_type": "stream",
          "text": [
            "a\n",
            "9\n",
            "120\n",
            "\n",
            "I am a.\n",
            "I am 09 years old.\n",
            "My height is 120.0 cm.\n"
          ],
          "name": "stdout"
        }
      ]
    },
    {
      "cell_type": "code",
      "metadata": {
        "colab": {
          "base_uri": "https://localhost:8080/"
        },
        "id": "xBTVBXgjZv95",
        "outputId": "12cdfe5f-a08b-4a47-d2c4-90fbd53296f1"
      },
      "source": [
        "name = 'suzy'\n",
        "age = 20\n",
        "hobby = 'piano'\n",
        "\n",
        "print('My name is {}, I am {} years old. My hobby is {}.' .format(name, age, hobby))"
      ],
      "execution_count": null,
      "outputs": [
        {
          "output_type": "stream",
          "text": [
            "My name is suzy, I am 20 years old. My hobby is piano.\n"
          ],
          "name": "stdout"
        }
      ]
    },
    {
      "cell_type": "code",
      "metadata": {
        "colab": {
          "base_uri": "https://localhost:8080/"
        },
        "id": "hQze1SaEaMCD",
        "outputId": "8412b1f4-6abd-4ae1-f5f9-e1ca88c3823a"
      },
      "source": [
        "a = int(input())\n",
        "b = int(input())\n",
        "c = (a * b)/2 #삼각형 넓이\n",
        "d = a * b     #사각형 넓이\n",
        "\n",
        "print('\\n삼각형 넓이 : {}, 사각형 넓이 : {}' .format(c, d))"
      ],
      "execution_count": null,
      "outputs": [
        {
          "output_type": "stream",
          "text": [
            "5\n",
            "2\n",
            "\n",
            "삼각형 넓이 : 5.0, 사각형 넓이 : 10\n"
          ],
          "name": "stdout"
        }
      ]
    },
    {
      "cell_type": "code",
      "metadata": {
        "colab": {
          "base_uri": "https://localhost:8080/"
        },
        "id": "1ELaxCPNbJSO",
        "outputId": "4f5b0a6a-a9b9-426f-db21-5256e709d7ec"
      },
      "source": [
        "name = input('이름을 입력하세요 : ')\n",
        "now = int(input('현재 연도를 입력하세요 : '))\n",
        "birth = int(input('태어난 연도를 입력하세요 : '))\n",
        "\n",
        "age = now - birth + 1\n",
        "\n",
        "print('\\n{}님의 현재 나이는 {}세 입니다.' .format(name, age))"
      ],
      "execution_count": null,
      "outputs": [
        {
          "output_type": "stream",
          "text": [
            "이름을 입력하세요 : A\n",
            "현재 연도를 입력하세요 : 2021\n",
            "태어난 연도를 입력하세요 : 2003\n",
            "\n",
            "A님의 현재 나이는 19세 입니다.\n"
          ],
          "name": "stdout"
        }
      ]
    },
    {
      "cell_type": "code",
      "metadata": {
        "colab": {
          "base_uri": "https://localhost:8080/"
        },
        "id": "utXEzdiNdS5I",
        "outputId": "8e0ad610-9370-46a2-e3bc-7b89ce72f75a"
      },
      "source": [
        "a = input('이름을 입력하세요 : ')\n",
        "b = int(input('국어 성적을 입력하세요 : '))\n",
        "c = int(input('영어 성적을 입력하세요 : '))\n",
        "d = int(input('수학 성적을 입력하세요 : '))\n",
        "\n",
        "e = b + c + d\n",
        "f = e/3\n",
        "\n",
        "print('\\n{}님의 점수 합계는 {}점이고, 평균은 {}점 입니다.' .format(a, e, f))"
      ],
      "execution_count": null,
      "outputs": [
        {
          "output_type": "stream",
          "text": [
            "이름을 입력하세요 : a\n",
            "국어 성적을 입력하세요 : 90\n",
            "영어 성적을 입력하세요 : 80\n",
            "수학 성적을 입력하세요 : 70\n",
            "\n",
            "a님의 점수 합계는 240점이고, 평균은 80.0점 입니다.\n"
          ],
          "name": "stdout"
        }
      ]
    },
    {
      "cell_type": "code",
      "metadata": {
        "id": "CYtD5mkjfmaG",
        "colab": {
          "base_uri": "https://localhost:8080/"
        },
        "outputId": "1b2fe669-c2a5-46c6-8013-ea7bde36c407"
      },
      "source": [
        "age = int(input('나이를 입력해주세요 : '))\n",
        "\n",
        "print('\\n')\n",
        "\n",
        "if (age >= 19):\n",
        "  {\n",
        "      print('성인')\n",
        "  }\n",
        "\n",
        "elif (age >= 14):\n",
        "  {\n",
        "      print('청소년')\n",
        "  }\n",
        "\n",
        "else :\n",
        "  {\n",
        "      print('어린이')\n",
        "  }"
      ],
      "execution_count": null,
      "outputs": [
        {
          "output_type": "stream",
          "text": [
            "나이를 입력해주세요 : 0\n",
            "\n",
            "\n",
            "어린이\n"
          ],
          "name": "stdout"
        }
      ]
    },
    {
      "cell_type": "code",
      "metadata": {
        "colab": {
          "base_uri": "https://localhost:8080/"
        },
        "id": "ZE0gJZmLgJcl",
        "outputId": "ccf38486-1f6c-4ced-b883-2f42032959e2"
      },
      "source": [
        "a = input(\"이름을 입력해주세요 : \")\n",
        "b = int(input(\"성적을 입력해주세요 : \"))\n",
        "\n",
        "print('\\n')\n",
        "\n",
        "if (b >= 90):\n",
        "  {\n",
        "      print(\"'{}' 학생의 등급은 'A'입니다.\" .format(a))\n",
        "  }\n",
        "\n",
        "elif (b >= 80):\n",
        "  {\n",
        "      print(\"'{}' 학생의 등급은 'B'입니다.\" .format(a))\n",
        "  }\n",
        "\n",
        "elif (b >= 70):\n",
        "  {\n",
        "      print(\"'{}' 학생의 등급은 'C'입니다.\" .format(a))\n",
        "  }\n",
        "\n",
        "elif (b >= 60):\n",
        "  {\n",
        "      print(\"'{}' 학생의 등급은 'D'입니다.\" .format(a))\n",
        "  }\n",
        "\n",
        "else :\n",
        "  {\n",
        "      print(\"'{}' 학생의 등급은 'F'입니다.\" .format(a))\n",
        "  }"
      ],
      "execution_count": null,
      "outputs": [
        {
          "output_type": "stream",
          "text": [
            "이름을 입력해주세요 : a\n",
            "성적을 입력해주세요 : 90\n",
            "\n",
            "\n",
            "'a' 학생의 등급은 'A'입니다.\n"
          ],
          "name": "stdout"
        }
      ]
    },
    {
      "cell_type": "code",
      "metadata": {
        "colab": {
          "base_uri": "https://localhost:8080/"
        },
        "id": "Byp4WmE2iKEe",
        "outputId": "3e064cdb-63f5-4eb7-bd56-5137c18271df"
      },
      "source": [
        "num = int(input('1.일반실 2.특실 : '))\n",
        "\n",
        "S_A = 18000\n",
        "S_C = 15000\n",
        "N_A = 10000\n",
        "N_C = 7000\n",
        "\n",
        "adult = int(input('\\n성인은 몇 명입니까? : '))\n",
        "child = int(input('어린이가 몇 명입니까? : '))\n",
        "\n",
        "if num == 1:\n",
        "  {\n",
        "      print('\\n요금은 {}원 입니다.' .format((adult*N_A) + (child*N_C)))\n",
        "  }\n",
        "\n",
        "elif num == 2:\n",
        "  {\n",
        "      print('\\n요금은 {}원 입니다.' .format((adult*S_A) + (child*S_C)))\n",
        "  }\n",
        "\n",
        "else :\n",
        "  {\n",
        "      print('\\n다시 시도해주세요.')\n",
        "  }"
      ],
      "execution_count": null,
      "outputs": [
        {
          "output_type": "stream",
          "text": [
            "1.일반실 2.특실 : 1\n",
            "\n",
            "성인은 몇 명입니까? : 2\n",
            "어린이가 몇 명입니까? : 2\n",
            "\n",
            "요금은 34000원 입니다.\n"
          ],
          "name": "stdout"
        }
      ]
    },
    {
      "cell_type": "code",
      "metadata": {
        "colab": {
          "base_uri": "https://localhost:8080/"
        },
        "id": "CPHyH2hAmh3H",
        "outputId": "c940c46d-d1d7-4408-83c6-50bfda2e8c00"
      },
      "source": [
        "a = int(input('영어 시험 점수를 입력하세요 : '))\n",
        "b = int(input('수학 시험 점수를 입력하세요 : '))\n",
        "\n",
        "if a >= 80 and b >= 80 :\n",
        "  {\n",
        "      print('\\n합격')\n",
        "  }\n",
        "\n",
        "elif a == 80 or b == 80 :\n",
        "  {\n",
        "      print('\\n재시험 기회 제공')\n",
        "  }\n",
        "\n",
        "else :\n",
        "  {\n",
        "      print('\\n불합격')\n",
        "  }"
      ],
      "execution_count": null,
      "outputs": [
        {
          "output_type": "stream",
          "text": [
            "영어 시험 점수를 입력하세요 : 50\n",
            "수학 시험 점수를 입력하세요 : 60\n",
            "불합격\n"
          ],
          "name": "stdout"
        }
      ]
    },
    {
      "cell_type": "code",
      "metadata": {
        "id": "eUQmVY1LpP7j"
      },
      "source": [],
      "execution_count": null,
      "outputs": []
    }
  ]
}